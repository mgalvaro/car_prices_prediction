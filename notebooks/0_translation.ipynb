{
 "cells": [
  {
   "cell_type": "markdown",
   "id": "30014183",
   "metadata": {},
   "source": [
    "# 0. Dataframe translation\n",
    "Since the project is in English, we're going to set the df up to translate the columns names and the most relevant features inside the df."
   ]
  },
  {
   "cell_type": "code",
   "execution_count": 18,
   "id": "583c5318",
   "metadata": {},
   "outputs": [],
   "source": [
    "import sys\n",
    "import os\n",
    "sys.path.append(os.path.abspath('..'))"
   ]
  },
  {
   "cell_type": "code",
   "execution_count": 19,
   "id": "22b0558b",
   "metadata": {},
   "outputs": [],
   "source": [
    "import numpy as np\n",
    "import pandas as pd\n",
    "from src.translations import *"
   ]
  },
  {
   "cell_type": "code",
   "execution_count": 20,
   "id": "d1879625",
   "metadata": {},
   "outputs": [
    {
     "name": "stderr",
     "output_type": "stream",
     "text": [
      "C:\\Users\\armej\\AppData\\Local\\Temp\\ipykernel_16272\\2684673655.py:1: DtypeWarning: Columns (18) have mixed types. Specify dtype option on import or set low_memory=False.\n",
      "  df = pd.read_csv('../data/data_raw.csv')\n"
     ]
    },
    {
     "data": {
      "text/html": [
       "<div>\n",
       "<style scoped>\n",
       "    .dataframe tbody tr th:only-of-type {\n",
       "        vertical-align: middle;\n",
       "    }\n",
       "\n",
       "    .dataframe tbody tr th {\n",
       "        vertical-align: top;\n",
       "    }\n",
       "\n",
       "    .dataframe thead th {\n",
       "        text-align: right;\n",
       "    }\n",
       "</style>\n",
       "<table border=\"1\" class=\"dataframe\">\n",
       "  <thead>\n",
       "    <tr style=\"text-align: right;\">\n",
       "      <th></th>\n",
       "      <th>Fecha de matriculación</th>\n",
       "      <th>Combustible</th>\n",
       "      <th>Kilómetros</th>\n",
       "      <th>Carrocería</th>\n",
       "      <th>Cambio</th>\n",
       "      <th>Potencia (cv)</th>\n",
       "      <th>Garantía</th>\n",
       "      <th>Color</th>\n",
       "      <th>Distintivo ambiental</th>\n",
       "      <th>precio</th>\n",
       "      <th>...</th>\n",
       "      <th>plazas</th>\n",
       "      <th>combustible</th>\n",
       "      <th>cilindrada_cm3</th>\n",
       "      <th>cilindros</th>\n",
       "      <th>sobrealimentacion</th>\n",
       "      <th>urbano</th>\n",
       "      <th>carretera</th>\n",
       "      <th>medio</th>\n",
       "      <th>co2</th>\n",
       "      <th>deposito</th>\n",
       "    </tr>\n",
       "  </thead>\n",
       "  <tbody>\n",
       "    <tr>\n",
       "      <th>0</th>\n",
       "      <td>02/2023</td>\n",
       "      <td>Gasolina</td>\n",
       "      <td>3.900 km</td>\n",
       "      <td>Berlina mediana o grande</td>\n",
       "      <td>Manual</td>\n",
       "      <td>179</td>\n",
       "      <td>12 meses</td>\n",
       "      <td>Negro</td>\n",
       "      <td>C</td>\n",
       "      <td>29.000 €</td>\n",
       "      <td>...</td>\n",
       "      <td>NaN</td>\n",
       "      <td>NaN</td>\n",
       "      <td>NaN</td>\n",
       "      <td>NaN</td>\n",
       "      <td>NaN</td>\n",
       "      <td>NaN</td>\n",
       "      <td>NaN</td>\n",
       "      <td>NaN</td>\n",
       "      <td>NaN</td>\n",
       "      <td>NaN</td>\n",
       "    </tr>\n",
       "    <tr>\n",
       "      <th>1</th>\n",
       "      <td>06/2023</td>\n",
       "      <td>Gasolina</td>\n",
       "      <td>4.000 km</td>\n",
       "      <td>Berlina mediana o grande</td>\n",
       "      <td>Manual</td>\n",
       "      <td>180</td>\n",
       "      <td>24 meses</td>\n",
       "      <td>Gris</td>\n",
       "      <td>C</td>\n",
       "      <td>30.500 €</td>\n",
       "      <td>...</td>\n",
       "      <td>NaN</td>\n",
       "      <td>NaN</td>\n",
       "      <td>NaN</td>\n",
       "      <td>NaN</td>\n",
       "      <td>NaN</td>\n",
       "      <td>NaN</td>\n",
       "      <td>NaN</td>\n",
       "      <td>NaN</td>\n",
       "      <td>NaN</td>\n",
       "      <td>NaN</td>\n",
       "    </tr>\n",
       "    <tr>\n",
       "      <th>2</th>\n",
       "      <td>09/2023</td>\n",
       "      <td>Corriente eléctrica</td>\n",
       "      <td>1 km</td>\n",
       "      <td>Berlina</td>\n",
       "      <td>Automático</td>\n",
       "      <td>154</td>\n",
       "      <td>36 meses</td>\n",
       "      <td>Azul Poisson (metalizado)\\n                   ...</td>\n",
       "      <td>0 EMISIONES</td>\n",
       "      <td>43.800 €</td>\n",
       "      <td>...</td>\n",
       "      <td>4.0</td>\n",
       "      <td>Corriente eléctrica</td>\n",
       "      <td>0.0</td>\n",
       "      <td>NaN</td>\n",
       "      <td>Turbo</td>\n",
       "      <td>0,00</td>\n",
       "      <td>0,00</td>\n",
       "      <td>0,00</td>\n",
       "      <td>-</td>\n",
       "      <td>0,00</td>\n",
       "    </tr>\n",
       "    <tr>\n",
       "      <th>3</th>\n",
       "      <td>10/2023</td>\n",
       "      <td>Corriente eléctrica</td>\n",
       "      <td>7 km</td>\n",
       "      <td>Berlina</td>\n",
       "      <td>Automático</td>\n",
       "      <td>154</td>\n",
       "      <td>36 meses</td>\n",
       "      <td>PUNKN METALLIC</td>\n",
       "      <td>0 EMISIONES</td>\n",
       "      <td>38.990 €</td>\n",
       "      <td>...</td>\n",
       "      <td>4.0</td>\n",
       "      <td>Corriente eléctrica</td>\n",
       "      <td>0.0</td>\n",
       "      <td>NaN</td>\n",
       "      <td>Turbo</td>\n",
       "      <td>0,00</td>\n",
       "      <td>0,00</td>\n",
       "      <td>0,00</td>\n",
       "      <td>-</td>\n",
       "      <td>0,00</td>\n",
       "    </tr>\n",
       "    <tr>\n",
       "      <th>4</th>\n",
       "      <td>08/2023</td>\n",
       "      <td>Corriente eléctrica</td>\n",
       "      <td>10 km</td>\n",
       "      <td>Berlina</td>\n",
       "      <td>Automático</td>\n",
       "      <td>154</td>\n",
       "      <td>36 meses</td>\n",
       "      <td>Verde</td>\n",
       "      <td>0 EMISIONES</td>\n",
       "      <td>35.990 €</td>\n",
       "      <td>...</td>\n",
       "      <td>4.0</td>\n",
       "      <td>Corriente eléctrica</td>\n",
       "      <td>0.0</td>\n",
       "      <td>NaN</td>\n",
       "      <td>Turbo</td>\n",
       "      <td>0,00</td>\n",
       "      <td>0,00</td>\n",
       "      <td>0,00</td>\n",
       "      <td>-</td>\n",
       "      <td>0,00</td>\n",
       "    </tr>\n",
       "  </tbody>\n",
       "</table>\n",
       "<p>5 rows × 29 columns</p>\n",
       "</div>"
      ],
      "text/plain": [
       "  Fecha de matriculación          Combustible Kilómetros  \\\n",
       "0                02/2023             Gasolina   3.900 km   \n",
       "1                06/2023             Gasolina   4.000 km   \n",
       "2                09/2023  Corriente eléctrica       1 km   \n",
       "3                10/2023  Corriente eléctrica       7 km   \n",
       "4                08/2023  Corriente eléctrica      10 km   \n",
       "\n",
       "                 Carrocería      Cambio Potencia (cv)  Garantía  \\\n",
       "0  Berlina mediana o grande      Manual           179  12 meses   \n",
       "1  Berlina mediana o grande      Manual           180  24 meses   \n",
       "2                   Berlina  Automático           154  36 meses   \n",
       "3                   Berlina  Automático           154  36 meses   \n",
       "4                   Berlina  Automático           154  36 meses   \n",
       "\n",
       "                                               Color Distintivo ambiental  \\\n",
       "0                                              Negro                    C   \n",
       "1                                               Gris                    C   \n",
       "2  Azul Poisson (metalizado)\\n                   ...          0 EMISIONES   \n",
       "3                                     PUNKN METALLIC          0 EMISIONES   \n",
       "4                                              Verde          0 EMISIONES   \n",
       "\n",
       "     precio  ... plazas          combustible cilindrada_cm3 cilindros  \\\n",
       "0  29.000 €  ...    NaN                  NaN            NaN       NaN   \n",
       "1  30.500 €  ...    NaN                  NaN            NaN       NaN   \n",
       "2  43.800 €  ...    4.0  Corriente eléctrica            0.0       NaN   \n",
       "3  38.990 €  ...    4.0  Corriente eléctrica            0.0       NaN   \n",
       "4  35.990 €  ...    4.0  Corriente eléctrica            0.0       NaN   \n",
       "\n",
       "   sobrealimentacion urbano  carretera medio  co2  deposito  \n",
       "0                NaN    NaN        NaN   NaN  NaN       NaN  \n",
       "1                NaN    NaN        NaN   NaN  NaN       NaN  \n",
       "2              Turbo   0,00       0,00  0,00    -      0,00  \n",
       "3              Turbo   0,00       0,00  0,00    -      0,00  \n",
       "4              Turbo   0,00       0,00  0,00    -      0,00  \n",
       "\n",
       "[5 rows x 29 columns]"
      ]
     },
     "execution_count": 20,
     "metadata": {},
     "output_type": "execute_result"
    }
   ],
   "source": [
    "df = pd.read_csv('../data/data_raw.csv')\n",
    "df.head()"
   ]
  },
  {
   "cell_type": "markdown",
   "id": "961eeb6f",
   "metadata": {},
   "source": [
    "_____________________________________"
   ]
  },
  {
   "cell_type": "markdown",
   "id": "6271427c",
   "metadata": {},
   "source": [
    "## Steps to translate the df"
   ]
  },
  {
   "cell_type": "markdown",
   "id": "ba01fe16",
   "metadata": {},
   "source": [
    "Let's now do the following steps with all the column names and all the variables:\n",
    "- get all the words we need to translate\n",
    "- get the translations\n",
    "- add them to src.translations \n",
    "- import them to map the whole dataframe\n",
    "- store the new df in a csv file"
   ]
  },
  {
   "cell_type": "markdown",
   "id": "cb99745b",
   "metadata": {},
   "source": [
    "### Get the words to be translated\n",
    "Get the unique values of columns names and variables"
   ]
  },
  {
   "cell_type": "code",
   "execution_count": 21,
   "id": "166019a6",
   "metadata": {},
   "outputs": [
    {
     "data": {
      "text/plain": [
       "Index(['Fecha de matriculación', 'Combustible', 'Kilómetros', 'Carrocería',\n",
       "       'Cambio', 'Potencia (cv)', 'Garantía', 'Color', 'Distintivo ambiental',\n",
       "       'precio', 'url', 'largo', 'ancho', 'alto', 'batalla_mm', 'maletero_l',\n",
       "       'peso_masa_kg', 'carroceria', 'puertas', 'plazas', 'combustible',\n",
       "       'cilindrada_cm3', 'cilindros', 'sobrealimentacion', 'urbano',\n",
       "       'carretera', 'medio', 'co2', 'deposito'],\n",
       "      dtype='object')"
      ]
     },
     "execution_count": 21,
     "metadata": {},
     "output_type": "execute_result"
    }
   ],
   "source": [
    "df.columns"
   ]
  },
  {
   "cell_type": "markdown",
   "id": "1b9b86fe",
   "metadata": {},
   "source": [
    "The columns \"Combustible\" (Fuel type) and \"Carrocería\" (body type) might seem duplicated, but we have to check out first the content of the two pairs of columns before deciding to drop one of them."
   ]
  },
  {
   "cell_type": "code",
   "execution_count": 22,
   "id": "89a2448f",
   "metadata": {},
   "outputs": [
    {
     "data": {
      "text/plain": [
       "array(['Gasolina', 'Corriente eléctrica', 'Eléctrico', 'Diésel', 'Diesel',\n",
       "       'Híbrido', 'Gasolina y corriente eléctrica', 'Híbrido Enchufable',\n",
       "       'Diesel y corriente eléctrica', 'Gasolina/gas', nan, 'Gas',\n",
       "       'Mixto Gasolina/Etanol'], dtype=object)"
      ]
     },
     "execution_count": 22,
     "metadata": {},
     "output_type": "execute_result"
    }
   ],
   "source": [
    "df['Combustible'].unique()"
   ]
  },
  {
   "cell_type": "code",
   "execution_count": 23,
   "id": "1a9e5d43",
   "metadata": {},
   "outputs": [
    {
     "data": {
      "text/plain": [
       "array([nan, 'Corriente eléctrica', 'Gasolina', 'Diesel',\n",
       "       'Gasolina y corriente eléctrica', 'Gasolina/gas',\n",
       "       'Diesel y corriente eléctrica', 'Mixto Gasolina/Etanol'],\n",
       "      dtype=object)"
      ]
     },
     "execution_count": 23,
     "metadata": {},
     "output_type": "execute_result"
    }
   ],
   "source": [
    "df['combustible'].unique()"
   ]
  },
  {
   "cell_type": "code",
   "execution_count": 24,
   "id": "261f2f55",
   "metadata": {},
   "outputs": [
    {
     "data": {
      "text/plain": [
       "array(['Berlina mediana o grande', 'Berlina', 'Pequeño', 'Convertible',\n",
       "       'Todo Terreno', '4x4, SUV o pickup', 'Deportivo o coupé', 'Coupe',\n",
       "       'Descapotable o convertible', 'Roadster', 'Familiar',\n",
       "       'Stationwagon', 'Monovolumen', 'Coche clásico', nan, 'Combi',\n",
       "       'Targa', '-', 'Pick-Up Doble Cabina', 'Pick-Up', 'Industrial'],\n",
       "      dtype=object)"
      ]
     },
     "execution_count": 24,
     "metadata": {},
     "output_type": "execute_result"
    }
   ],
   "source": [
    "df['Carrocería'].unique()"
   ]
  },
  {
   "cell_type": "code",
   "execution_count": 25,
   "id": "7b6a2b15",
   "metadata": {},
   "outputs": [
    {
     "data": {
      "text/plain": [
       "array([nan, 'Berlina', 'Convertible', 'Todo Terreno', 'Coupe', 'Roadster',\n",
       "       'Stationwagon', 'Monovolumen', 'Combi', 'Targa',\n",
       "       'Pick-Up Doble Cabina', 'Pick-Up'], dtype=object)"
      ]
     },
     "execution_count": 25,
     "metadata": {},
     "output_type": "execute_result"
    }
   ],
   "source": [
    "df['carroceria'].unique()"
   ]
  },
  {
   "cell_type": "code",
   "execution_count": 26,
   "id": "a7c699aa",
   "metadata": {},
   "outputs": [
    {
     "data": {
      "text/plain": [
       "array(['Manual', 'Automático', nan], dtype=object)"
      ]
     },
     "execution_count": 26,
     "metadata": {},
     "output_type": "execute_result"
    }
   ],
   "source": [
    "df['Cambio'].unique()"
   ]
  },
  {
   "cell_type": "code",
   "execution_count": 27,
   "id": "58439695",
   "metadata": {},
   "outputs": [
    {
     "data": {
      "text/plain": [
       "array(['12 meses', '24 meses', '36 meses', '60 meses', 'No', 'Sí',\n",
       "       '30 meses', '18 meses', '42 meses', '48 meses', '47 meses',\n",
       "       '27 meses', '23 meses', '14 meses', nan, '20 meses', '32 meses',\n",
       "       '31 meses', '56 meses', '59 meses', '28 meses', '82 meses',\n",
       "       '26 meses', '57 meses', '1 meses', '55 meses', '58 meses',\n",
       "       '54 meses', '21 meses', '40 meses', '38 meses', '39 meses',\n",
       "       '84 meses', '35 meses', '79 meses', '49 meses', '50 meses',\n",
       "       '41 meses', '70 meses', '53 meses', '11 meses', '52 meses',\n",
       "       '45 meses', '51 meses', '43 meses', '33 meses', '72 meses',\n",
       "       '77 meses', '10 meses', '80 meses', '29 meses', '25 meses',\n",
       "       '68 meses', '66 meses', '69 meses', '16 meses', '15 meses',\n",
       "       '34 meses', '3666 meses', '96 meses', '19 meses', '22 meses',\n",
       "       '17 meses', '6 meses', '27900 meses', '2 meses', '3 meses',\n",
       "       '13 meses', '9 meses', '205 meses', '121 meses', '5 meses',\n",
       "       '37 meses', '73 meses', '123 meses', '44 meses', '46 meses',\n",
       "       '29650 meses', '76 meses', '65 meses', '81 meses', '67 meses',\n",
       "       '75 meses', '63 meses', '8 meses', '400 meses', '7 meses',\n",
       "       '152 meses', '19290 meses', '214 meses', '122412 meses',\n",
       "       '120 meses', '78 meses', '144 meses', '132 meses', '112 meses'],\n",
       "      dtype=object)"
      ]
     },
     "execution_count": 27,
     "metadata": {},
     "output_type": "execute_result"
    }
   ],
   "source": [
    "df['Garantía'].unique()  # in this one we'll apply a simple replace (meses -> months)"
   ]
  },
  {
   "cell_type": "code",
   "execution_count": 28,
   "id": "8770e562",
   "metadata": {},
   "outputs": [
    {
     "data": {
      "text/plain": [
       "array(['C', '0 EMISIONES', nan, 'ECO', 'B'], dtype=object)"
      ]
     },
     "execution_count": 28,
     "metadata": {},
     "output_type": "execute_result"
    }
   ],
   "source": [
    "df['Distintivo ambiental'].unique()  # in this one we'll apply a simple replace (EMISIONES -> EMISSIONS)"
   ]
  },
  {
   "cell_type": "markdown",
   "id": "b8f3c79b",
   "metadata": {},
   "source": [
    "The column 'price' contains tha word 'Consultar' (which means to 'ask for price'), so we have to deal with it too, turning it into a NaN."
   ]
  },
  {
   "cell_type": "code",
   "execution_count": 29,
   "id": "64b1b814",
   "metadata": {},
   "outputs": [
    {
     "data": {
      "text/plain": [
       "True"
      ]
     },
     "execution_count": 29,
     "metadata": {},
     "output_type": "execute_result"
    }
   ],
   "source": [
    "'Consultar' in list(df['precio'].unique())"
   ]
  },
  {
   "cell_type": "markdown",
   "id": "2ad5880f",
   "metadata": {},
   "source": [
    "The column \"Color\" won't be translated since it's not going to be considered as relevant for the analysis."
   ]
  },
  {
   "cell_type": "markdown",
   "id": "51b4e8c8",
   "metadata": {},
   "source": [
    "### Get the translations and store them\n",
    "Once we get the outputs of the unique method, we get the translations and store them in src.translations"
   ]
  },
  {
   "cell_type": "markdown",
   "id": "9eeb55f9",
   "metadata": {},
   "source": [
    "### Apply the translations\n",
    "Now, we can map out all the words in Spanish and translate them into English by importing the stored translations or by simply using the replace method. First, we translate the columns names."
   ]
  },
  {
   "cell_type": "code",
   "execution_count": 30,
   "id": "da6140fc",
   "metadata": {},
   "outputs": [],
   "source": [
    "df.columns = columns_names"
   ]
  },
  {
   "cell_type": "code",
   "execution_count": 31,
   "id": "7cec1c86",
   "metadata": {},
   "outputs": [
    {
     "data": {
      "text/plain": [
       "Index(['registration_date', 'fuel_type_1', 'mileage_km', 'body_type_1',\n",
       "       'transmission', 'power_hp', 'warranty_months', 'color',\n",
       "       'emissions_label', 'price', 'url', 'length_mm', 'width_mm', 'height_mm',\n",
       "       'wheelbase_mm', 'trunk_volume_l', 'weight_kg', 'body_type_2', 'doors',\n",
       "       'seats', 'fuel_type_2', 'engine_displacement_cm3', 'cylinders', 'turbo',\n",
       "       'consumption_city_l_100km', 'consumption_highway_l_100km',\n",
       "       'consumption_mixed_l_100km', 'co2_g_km', 'tank_capacity_l'],\n",
       "      dtype='object')"
      ]
     },
     "execution_count": 31,
     "metadata": {},
     "output_type": "execute_result"
    }
   ],
   "source": [
    "df.columns"
   ]
  },
  {
   "cell_type": "markdown",
   "id": "4a8432dd",
   "metadata": {},
   "source": [
    "Then, we apply a mapping with the following columns:"
   ]
  },
  {
   "cell_type": "code",
   "execution_count": 32,
   "id": "503da06c",
   "metadata": {},
   "outputs": [],
   "source": [
    "df['fuel_type_1'] = df['fuel_type_1'].map(fuel_type_1_mapping)\n",
    "df['fuel_type_2'] = df['fuel_type_2'].map(fuel_type_2_mapping)\n",
    "df['body_type_1'] = df['body_type_1'].map(body_type_1_mapping)\n",
    "df['body_type_2'] = df['body_type_2'].map(body_type_2_mapping)\n",
    "df['transmission'] = df['transmission'].map(transmission_mapping)\n",
    "df['turbo'] = df['turbo'].map(turbo_mapping)"
   ]
  },
  {
   "cell_type": "markdown",
   "id": "087c752f",
   "metadata": {},
   "source": [
    "Finally, we replace specific words:"
   ]
  },
  {
   "cell_type": "code",
   "execution_count": null,
   "id": "3cafcd9b",
   "metadata": {},
   "outputs": [],
   "source": [
    "df['warranty_months'] = df['warranty_months'].str.replace('meses', 'months', regex=False)  # regex=False makes pandas to deal with the variable as a string instead of a regex\n",
    "df['emissions_label'] = df['emissions_label'].str.replace('EMISIONES', 'EMISSIONS', regex=False)\n",
    "df['price'] = df['price'].str.replace('Consultar', 'N/A', regex=False)\n",
    "\n",
    "# regex=False makes pandas to deal with the variable as a string instead of a regex\n",
    "# special characters and punctuation signs can raise errors in pandas when they're not considered normal strings"
   ]
  },
  {
   "cell_type": "code",
   "execution_count": 34,
   "id": "6044fdc2",
   "metadata": {},
   "outputs": [
    {
     "data": {
      "text/html": [
       "<div>\n",
       "<style scoped>\n",
       "    .dataframe tbody tr th:only-of-type {\n",
       "        vertical-align: middle;\n",
       "    }\n",
       "\n",
       "    .dataframe tbody tr th {\n",
       "        vertical-align: top;\n",
       "    }\n",
       "\n",
       "    .dataframe thead th {\n",
       "        text-align: right;\n",
       "    }\n",
       "</style>\n",
       "<table border=\"1\" class=\"dataframe\">\n",
       "  <thead>\n",
       "    <tr style=\"text-align: right;\">\n",
       "      <th></th>\n",
       "      <th>registration_date</th>\n",
       "      <th>fuel_type_1</th>\n",
       "      <th>mileage_km</th>\n",
       "      <th>body_type_1</th>\n",
       "      <th>transmission</th>\n",
       "      <th>power_hp</th>\n",
       "      <th>warranty_months</th>\n",
       "      <th>color</th>\n",
       "      <th>emissions_label</th>\n",
       "      <th>price</th>\n",
       "      <th>...</th>\n",
       "      <th>seats</th>\n",
       "      <th>fuel_type_2</th>\n",
       "      <th>engine_displacement_cm3</th>\n",
       "      <th>cylinders</th>\n",
       "      <th>turbo</th>\n",
       "      <th>consumption_city_l_100km</th>\n",
       "      <th>consumption_highway_l_100km</th>\n",
       "      <th>consumption_mixed_l_100km</th>\n",
       "      <th>co2_g_km</th>\n",
       "      <th>tank_capacity_l</th>\n",
       "    </tr>\n",
       "  </thead>\n",
       "  <tbody>\n",
       "    <tr>\n",
       "      <th>0</th>\n",
       "      <td>02/2023</td>\n",
       "      <td>Petrol</td>\n",
       "      <td>3.900 km</td>\n",
       "      <td>Sedan</td>\n",
       "      <td>Manual</td>\n",
       "      <td>179</td>\n",
       "      <td>12 months</td>\n",
       "      <td>Negro</td>\n",
       "      <td>C</td>\n",
       "      <td>29.000 €</td>\n",
       "      <td>...</td>\n",
       "      <td>NaN</td>\n",
       "      <td>NaN</td>\n",
       "      <td>NaN</td>\n",
       "      <td>NaN</td>\n",
       "      <td>NaN</td>\n",
       "      <td>NaN</td>\n",
       "      <td>NaN</td>\n",
       "      <td>NaN</td>\n",
       "      <td>NaN</td>\n",
       "      <td>NaN</td>\n",
       "    </tr>\n",
       "    <tr>\n",
       "      <th>1</th>\n",
       "      <td>06/2023</td>\n",
       "      <td>Petrol</td>\n",
       "      <td>4.000 km</td>\n",
       "      <td>Sedan</td>\n",
       "      <td>Manual</td>\n",
       "      <td>180</td>\n",
       "      <td>24 months</td>\n",
       "      <td>Gris</td>\n",
       "      <td>C</td>\n",
       "      <td>30.500 €</td>\n",
       "      <td>...</td>\n",
       "      <td>NaN</td>\n",
       "      <td>NaN</td>\n",
       "      <td>NaN</td>\n",
       "      <td>NaN</td>\n",
       "      <td>NaN</td>\n",
       "      <td>NaN</td>\n",
       "      <td>NaN</td>\n",
       "      <td>NaN</td>\n",
       "      <td>NaN</td>\n",
       "      <td>NaN</td>\n",
       "    </tr>\n",
       "    <tr>\n",
       "      <th>2</th>\n",
       "      <td>09/2023</td>\n",
       "      <td>Electric</td>\n",
       "      <td>1 km</td>\n",
       "      <td>Sedan</td>\n",
       "      <td>Automatic</td>\n",
       "      <td>154</td>\n",
       "      <td>36 months</td>\n",
       "      <td>Azul Poisson (metalizado)\\n                   ...</td>\n",
       "      <td>0 EMISSIONS</td>\n",
       "      <td>43.800 €</td>\n",
       "      <td>...</td>\n",
       "      <td>4.0</td>\n",
       "      <td>Electric</td>\n",
       "      <td>0.0</td>\n",
       "      <td>NaN</td>\n",
       "      <td>Turbo</td>\n",
       "      <td>0,00</td>\n",
       "      <td>0,00</td>\n",
       "      <td>0,00</td>\n",
       "      <td>-</td>\n",
       "      <td>0,00</td>\n",
       "    </tr>\n",
       "    <tr>\n",
       "      <th>3</th>\n",
       "      <td>10/2023</td>\n",
       "      <td>Electric</td>\n",
       "      <td>7 km</td>\n",
       "      <td>Sedan</td>\n",
       "      <td>Automatic</td>\n",
       "      <td>154</td>\n",
       "      <td>36 months</td>\n",
       "      <td>PUNKN METALLIC</td>\n",
       "      <td>0 EMISSIONS</td>\n",
       "      <td>38.990 €</td>\n",
       "      <td>...</td>\n",
       "      <td>4.0</td>\n",
       "      <td>Electric</td>\n",
       "      <td>0.0</td>\n",
       "      <td>NaN</td>\n",
       "      <td>Turbo</td>\n",
       "      <td>0,00</td>\n",
       "      <td>0,00</td>\n",
       "      <td>0,00</td>\n",
       "      <td>-</td>\n",
       "      <td>0,00</td>\n",
       "    </tr>\n",
       "    <tr>\n",
       "      <th>4</th>\n",
       "      <td>08/2023</td>\n",
       "      <td>Electric</td>\n",
       "      <td>10 km</td>\n",
       "      <td>Sedan</td>\n",
       "      <td>Automatic</td>\n",
       "      <td>154</td>\n",
       "      <td>36 months</td>\n",
       "      <td>Verde</td>\n",
       "      <td>0 EMISSIONS</td>\n",
       "      <td>35.990 €</td>\n",
       "      <td>...</td>\n",
       "      <td>4.0</td>\n",
       "      <td>Electric</td>\n",
       "      <td>0.0</td>\n",
       "      <td>NaN</td>\n",
       "      <td>Turbo</td>\n",
       "      <td>0,00</td>\n",
       "      <td>0,00</td>\n",
       "      <td>0,00</td>\n",
       "      <td>-</td>\n",
       "      <td>0,00</td>\n",
       "    </tr>\n",
       "  </tbody>\n",
       "</table>\n",
       "<p>5 rows × 29 columns</p>\n",
       "</div>"
      ],
      "text/plain": [
       "  registration_date fuel_type_1 mileage_km body_type_1 transmission power_hp  \\\n",
       "0           02/2023      Petrol   3.900 km       Sedan       Manual      179   \n",
       "1           06/2023      Petrol   4.000 km       Sedan       Manual      180   \n",
       "2           09/2023    Electric       1 km       Sedan    Automatic      154   \n",
       "3           10/2023    Electric       7 km       Sedan    Automatic      154   \n",
       "4           08/2023    Electric      10 km       Sedan    Automatic      154   \n",
       "\n",
       "  warranty_months                                              color  \\\n",
       "0       12 months                                              Negro   \n",
       "1       24 months                                               Gris   \n",
       "2       36 months  Azul Poisson (metalizado)\\n                   ...   \n",
       "3       36 months                                     PUNKN METALLIC   \n",
       "4       36 months                                              Verde   \n",
       "\n",
       "  emissions_label     price  ... seats fuel_type_2 engine_displacement_cm3  \\\n",
       "0               C  29.000 €  ...   NaN         NaN                     NaN   \n",
       "1               C  30.500 €  ...   NaN         NaN                     NaN   \n",
       "2     0 EMISSIONS  43.800 €  ...   4.0    Electric                     0.0   \n",
       "3     0 EMISSIONS  38.990 €  ...   4.0    Electric                     0.0   \n",
       "4     0 EMISSIONS  35.990 €  ...   4.0    Electric                     0.0   \n",
       "\n",
       "  cylinders  turbo consumption_city_l_100km  consumption_highway_l_100km  \\\n",
       "0       NaN    NaN                      NaN                          NaN   \n",
       "1       NaN    NaN                      NaN                          NaN   \n",
       "2       NaN  Turbo                     0,00                         0,00   \n",
       "3       NaN  Turbo                     0,00                         0,00   \n",
       "4       NaN  Turbo                     0,00                         0,00   \n",
       "\n",
       "  consumption_mixed_l_100km co2_g_km  tank_capacity_l  \n",
       "0                       NaN      NaN              NaN  \n",
       "1                       NaN      NaN              NaN  \n",
       "2                      0,00        -             0,00  \n",
       "3                      0,00        -             0,00  \n",
       "4                      0,00        -             0,00  \n",
       "\n",
       "[5 rows x 29 columns]"
      ]
     },
     "execution_count": 34,
     "metadata": {},
     "output_type": "execute_result"
    }
   ],
   "source": [
    "df.head()"
   ]
  },
  {
   "cell_type": "markdown",
   "id": "1d025e58",
   "metadata": {},
   "source": [
    "### Store the new data"
   ]
  },
  {
   "cell_type": "code",
   "execution_count": 35,
   "id": "d9887398",
   "metadata": {},
   "outputs": [],
   "source": [
    "df.to_csv('../data/data_raw_en.csv', index=False)"
   ]
  }
 ],
 "metadata": {
  "kernelspec": {
   "display_name": ".venv",
   "language": "python",
   "name": "python3"
  },
  "language_info": {
   "codemirror_mode": {
    "name": "ipython",
    "version": 3
   },
   "file_extension": ".py",
   "mimetype": "text/x-python",
   "name": "python",
   "nbconvert_exporter": "python",
   "pygments_lexer": "ipython3",
   "version": "3.11.9"
  }
 },
 "nbformat": 4,
 "nbformat_minor": 5
}
