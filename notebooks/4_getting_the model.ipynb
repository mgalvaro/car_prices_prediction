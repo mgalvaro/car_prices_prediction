{
 "cells": [
  {
   "cell_type": "markdown",
   "id": "96215a7b",
   "metadata": {},
   "source": [
    "# 4. Metting the ML Model\n",
    "Once the df is outliers-free and encoded, there are a couple of things we still have to deal with:\n",
    "- **log-transform**: there are several variables highly skewed that require a log transform for improving the predictive accuracy.\n",
    "- **Scaling and dealing with NaN's**: we normally deal with them earlier, but since we're using the KNN Imputer, we *needed every column to be numeric, scaled and encoded. With this method, we can analyze the nearest neighbors to every missing value to ponderate them and imput a value.\n",
    "- **Feature importances**: to detect the most relevant variables when it comes to predicting the cars prices.\n",
    "\n",
    "After that, we can find the best model by usign statistical metrics and fine-tune it to get the best performance possible."
   ]
  },
  {
   "cell_type": "code",
   "execution_count": 8,
   "id": "0b603781",
   "metadata": {},
   "outputs": [],
   "source": [
    "import numpy as np\n",
    "import pandas as pd\n",
    "import matplotlib.pyplot as plt\n",
    "import seaborn as sns\n",
    "from sklearn.preprocessing import StandardScaler, MinMaxScaler\n",
    "from sklearn.impute import KNNImputer\n",
    "from sklearn.model_selection import train_test_split\n",
    "from sklearn.ensemble import RandomForestRegressor"
   ]
  },
  {
   "cell_type": "code",
   "execution_count": 2,
   "id": "1a955a2f",
   "metadata": {},
   "outputs": [],
   "source": [
    "df = pd.read_csv(\"../data/data_encoded.csv\")"
   ]
  },
  {
   "cell_type": "code",
   "execution_count": 3,
   "id": "dfa592d9",
   "metadata": {},
   "outputs": [
    {
     "name": "stdout",
     "output_type": "stream",
     "text": [
      "<class 'pandas.core.frame.DataFrame'>\n",
      "RangeIndex: 94128 entries, 0 to 94127\n",
      "Data columns (total 69 columns):\n",
      " #   Column                                    Non-Null Count  Dtype  \n",
      "---  ------                                    --------------  -----  \n",
      " 0   mileage_km                                94128 non-null  float64\n",
      " 1   power_hp                                  94128 non-null  float64\n",
      " 2   warranty_months                           87647 non-null  float64\n",
      " 3   price                                     94128 non-null  float64\n",
      " 4   length_mm                                 70369 non-null  float64\n",
      " 5   width_mm                                  70522 non-null  float64\n",
      " 6   height_mm                                 70358 non-null  float64\n",
      " 7   wheelbase_mm                              70552 non-null  float64\n",
      " 8   weight_kg                                 70552 non-null  float64\n",
      " 9   engine_displacement_cm3                   70552 non-null  float64\n",
      " 10  consumption_mixed_l_100km                 70552 non-null  float64\n",
      " 11  co2_g_km                                  53706 non-null  float64\n",
      " 12  tank_capacity_l                           70552 non-null  float64\n",
      " 13  trunk_dim_1                               70552 non-null  float64\n",
      " 14  trunk_dim_2                               70552 non-null  float64\n",
      " 15  reg_month_sin                             94128 non-null  float64\n",
      " 16  reg_month_cos                             94128 non-null  float64\n",
      " 17  turbo                                     70552 non-null  float64\n",
      " 18  transmission_auto                         94128 non-null  int64  \n",
      " 19  fuel_type_Diesel                          94128 non-null  float64\n",
      " 20  fuel_type_Electric                        94128 non-null  float64\n",
      " 21  fuel_type_Gas                             94128 non-null  float64\n",
      " 22  fuel_type_Hybrid                          94128 non-null  float64\n",
      " 23  fuel_type_Petrol                          94128 non-null  float64\n",
      " 24  fuel_type_Petrol/Ethanol                  94128 non-null  float64\n",
      " 25  fuel_type_Petrol/Gas                      94128 non-null  float64\n",
      " 26  fuel_type_Plug-in Hybrid                  94128 non-null  float64\n",
      " 27  fuel_type_Plug-in Hybrid Diesel/Electric  94128 non-null  float64\n",
      " 28  fuel_type_Plug-in Hybrid Petrol/Electric  94128 non-null  float64\n",
      " 29  body_type_Commercial                      94128 non-null  float64\n",
      " 30  body_type_Convertible                     94128 non-null  float64\n",
      " 31  body_type_Coupe                           94128 non-null  float64\n",
      " 32  body_type_Coupe/Sports                    94128 non-null  float64\n",
      " 33  body_type_Estate                          94128 non-null  float64\n",
      " 34  body_type_MPV                             94128 non-null  float64\n",
      " 35  body_type_Pickup                          94128 non-null  float64\n",
      " 36  body_type_Roadster                        94128 non-null  float64\n",
      " 37  body_type_SUV                             94128 non-null  float64\n",
      " 38  body_type_SUV/Pickup                      94128 non-null  float64\n",
      " 39  body_type_Sedan                           94128 non-null  float64\n",
      " 40  body_type_Small                           94128 non-null  float64\n",
      " 41  body_type_Targa                           94128 non-null  float64\n",
      " 42  emissions_label_0 EMISSIONS               94128 non-null  float64\n",
      " 43  emissions_label_B                         94128 non-null  float64\n",
      " 44  emissions_label_C                         94128 non-null  float64\n",
      " 45  emissions_label_ECO                       94128 non-null  float64\n",
      " 46  emissions_label_nan                       94128 non-null  float64\n",
      " 47  cylinders_2.0                             94128 non-null  float64\n",
      " 48  cylinders_3.0                             94128 non-null  float64\n",
      " 49  cylinders_4.0                             94128 non-null  float64\n",
      " 50  cylinders_5.0                             94128 non-null  float64\n",
      " 51  cylinders_6.0                             94128 non-null  float64\n",
      " 52  cylinders_8.0                             94128 non-null  float64\n",
      " 53  cylinders_10.0                            94128 non-null  float64\n",
      " 54  cylinders_nan                             94128 non-null  float64\n",
      " 55  seats_2.0                                 94128 non-null  float64\n",
      " 56  seats_4.0                                 94128 non-null  float64\n",
      " 57  seats_5.0                                 94128 non-null  float64\n",
      " 58  seats_6.0                                 94128 non-null  float64\n",
      " 59  seats_7.0                                 94128 non-null  float64\n",
      " 60  seats_8.0                                 94128 non-null  float64\n",
      " 61  seats_9.0                                 94128 non-null  float64\n",
      " 62  seats_nan                                 94128 non-null  float64\n",
      " 63  doors_2.0                                 94128 non-null  float64\n",
      " 64  doors_3.0                                 94128 non-null  float64\n",
      " 65  doors_4.0                                 94128 non-null  float64\n",
      " 66  doors_5.0                                 94128 non-null  float64\n",
      " 67  doors_nan                                 94128 non-null  float64\n",
      " 68  car_age                                   94128 non-null  int64  \n",
      "dtypes: float64(67), int64(2)\n",
      "memory usage: 49.6 MB\n"
     ]
    }
   ],
   "source": [
    "df.info()"
   ]
  },
  {
   "cell_type": "markdown",
   "id": "ae46671e",
   "metadata": {},
   "source": [
    "____________\n",
    "## Applying log-transform\n",
    "For those variables with high skewness, we should apply logarith transform. These variables are:"
   ]
  },
  {
   "cell_type": "code",
   "execution_count": 4,
   "id": "ac34e9d0",
   "metadata": {},
   "outputs": [],
   "source": [
    "log_columns = ['price', 'power_hp', 'mileage_km', 'engine_displacement_cm3', 'co2_g_km']"
   ]
  },
  {
   "cell_type": "code",
   "execution_count": 5,
   "id": "da13b53e",
   "metadata": {},
   "outputs": [],
   "source": [
    "for col in log_columns:\n",
    "    df[f'log_{col}'] = np.log1p(df[col])\n",
    "\n",
    "df.drop(columns=log_columns, inplace=True)"
   ]
  },
  {
   "cell_type": "markdown",
   "id": "4aa585da",
   "metadata": {},
   "source": [
    "________________\n",
    "## Data scaling and Missing values (NaN's)\n",
    "Before imputing missing values with the KNNImputer, we have to scale the data. This is because the imputer uses the Euclidean distance to find the nearest neighbors, so we can't have variables in completely different scales (like price and car_age: the first one will dominate since the numbers are much bigger).\n",
    "\n",
    "In this case, we're going to use StandardScaler(). There are many variables normally distributed, or at least, close to it, and it performs better with the KNN Imputer.\n",
    "\n",
    "We first set a copy of the original df and initialize both the scaler and the imputer.\n",
    "\n",
    "For simplicity, we're going to use only 2 neighbors."
   ]
  },
  {
   "cell_type": "code",
   "execution_count": 6,
   "id": "84bb9015",
   "metadata": {},
   "outputs": [],
   "source": [
    "df_scaled = df.copy()\n",
    "\n",
    "st_scaler = StandardScaler()\n",
    "imputer = KNNImputer(n_neighbors=2)"
   ]
  },
  {
   "cell_type": "markdown",
   "id": "23cfdd24",
   "metadata": {},
   "source": [
    "Then we scale and imput values."
   ]
  },
  {
   "cell_type": "code",
   "execution_count": null,
   "id": "82a4d8fd",
   "metadata": {},
   "outputs": [],
   "source": [
    "# first, we scale and then imput\n",
    "scaled_array = st_scaler.fit_transform(df_scaled)\n",
    "imputed_array = imputer.fit_transform(scaled_array)\n",
    "\n",
    "# pass it to DF\n",
    "df_scaled_imput = pd.DataFrame(imputed_array, index=df.index, columns=df.columns)"
   ]
  },
  {
   "cell_type": "markdown",
   "id": "fc059c8a",
   "metadata": {},
   "source": [
    "Now that we have the df imputed, we have to inverse the scaling. Why? Because for the imputation, it makes sense to scale the whole df together, since it uses Euclidian distance to calculate the nearest neighbor to every reading with missing values. However, when we later train the model, it's good to scale and train separately the features and the target to prevent data leakage that couls misslead the training process."
   ]
  },
  {
   "cell_type": "code",
   "execution_count": null,
   "id": "b4e60ce7",
   "metadata": {},
   "outputs": [],
   "source": [
    "# inverse scaling\n",
    "df_imput = pd.DataFrame(st_scaler.inverse_transform(df_scaled_imput), index=df_scaled_imput.index, columns=df_scaled_imput.columns)"
   ]
  },
  {
   "cell_type": "markdown",
   "id": "f6e30423",
   "metadata": {},
   "source": [
    "Store the scaled and imputed df"
   ]
  },
  {
   "cell_type": "code",
   "execution_count": null,
   "id": "601399f9",
   "metadata": {},
   "outputs": [],
   "source": [
    "df_imput.to_csv('../data/data_imputed.csv', index=False)"
   ]
  },
  {
   "cell_type": "markdown",
   "id": "3e1368e4",
   "metadata": {},
   "source": [
    "### **CHECK POINT\n",
    "In case we want to load it and go on from here:"
   ]
  },
  {
   "cell_type": "code",
   "execution_count": 70,
   "id": "bbe5e614",
   "metadata": {},
   "outputs": [],
   "source": [
    "df_imput = pd.read_csv('../data/data_imputed.csv')"
   ]
  },
  {
   "cell_type": "markdown",
   "id": "e87609f9",
   "metadata": {},
   "source": [
    "_______________________\n",
    "## Feature importances\n",
    "To better understand which variables contribute most to predicting car prices, we compute feature importances using a Random Forest model. This model evaluates how much each feature improves prediction performance when it's used in tree splits. By identifying the most influential variables, we can gain insights into the factors that most affect car pricing and potentially reduce dimensionality by focusing on the most relevant inputs. This step is crucial not only for model interpretability but also for enhancing the efficiency and performance of subsequent models trained on the selected features."
   ]
  },
  {
   "cell_type": "markdown",
   "id": "ddcc313a",
   "metadata": {},
   "source": [
    "### X, y (independent variables and target) + Train/test split\n",
    "First, we sort the target out from the independent variables and split the data in train and test sets:"
   ]
  },
  {
   "cell_type": "code",
   "execution_count": 71,
   "id": "4c1668c9",
   "metadata": {},
   "outputs": [
    {
     "data": {
      "text/plain": [
       "((94128, 68), (94128,))"
      ]
     },
     "execution_count": 71,
     "metadata": {},
     "output_type": "execute_result"
    }
   ],
   "source": [
    "X = df_imput.drop(columns=['log_price'])\n",
    "y = df_imput['log_price']\n",
    "\n",
    "X.shape, y.shape"
   ]
  },
  {
   "cell_type": "code",
   "execution_count": 72,
   "id": "45631c44",
   "metadata": {},
   "outputs": [
    {
     "name": "stdout",
     "output_type": "stream",
     "text": [
      "X_train: (75302, 68), y_train: (75302,)\n",
      "X_test: (18826, 68),  y_test: (18826,)\n"
     ]
    }
   ],
   "source": [
    "X_train, X_test, y_train, y_test = train_test_split(X, y, test_size=0.2, random_state=42)\n",
    "\n",
    "print(f\"X_train: {X_train.shape}, y_train: {y_train.shape}\")\n",
    "print(f\"X_test: {X_test.shape},  y_test: {y_test.shape}\")"
   ]
  },
  {
   "cell_type": "markdown",
   "id": "f3a2d5e0",
   "metadata": {},
   "source": [
    "Since we're using the Random Forest algorithm to determine the most important features, there is no need for scaling. This is because this algorithm makes decisions based on a threshold, not using a distance like, for example, we did earlier with the imputation. So, changing the scale would only imply to shift the threshold by the same scaling factor."
   ]
  },
  {
   "cell_type": "markdown",
   "id": "81339b3e",
   "metadata": {},
   "source": [
    "### Apply Random Forest for Feature Importances\n",
    "We're going to apply a Random Forest to get the most contributing variables to the predictions. We can include a threshold: those with Importances less than 0.005 are not going to be considered, since less that that are likely noise and their going to need computational power that's better to focus on others."
   ]
  },
  {
   "cell_type": "code",
   "execution_count": 73,
   "id": "268118ed",
   "metadata": {},
   "outputs": [
    {
     "data": {
      "image/png": "[encoded data removed]",
      "text/plain": [
       "<Figure size 1200x800 with 1 Axes>"
      ]
     },
     "metadata": {},
     "output_type": "display_data"
    }
   ],
   "source": [
    "# declare the model\n",
    "model = RandomForestRegressor(n_estimators= 100, random_state = 42)\n",
    "\n",
    "# train the model \n",
    "model.fit(X_train, y_train)\n",
    "\n",
    "# Compute Feature Importances\n",
    "importances = model.feature_importances_\n",
    "\n",
    "df_importances = pd.DataFrame({\n",
    "    \"Columns\": X_train.columns, \n",
    "    \"Importance\": importances\n",
    "    })\n",
    "\n",
    "df_importances = df_importances[df_importances['Importance'] > 0.005].sort_values(\"Importance\", ascending = False)\n",
    "\n",
    "plt.figure(figsize = (12, 8))\n",
    "\n",
    "plt.title(\"Feature Importances\")\n",
    "sns.barplot(x = df_importances[\"Importance\"], y = df_importances[\"Columns\"], color = \"red\")\n",
    "\n",
    "plt.grid()\n",
    "plt.show()"
   ]
  },
  {
   "cell_type": "code",
   "execution_count": 74,
   "id": "6f14bd36",
   "metadata": {},
   "outputs": [
    {
     "data": {
      "text/plain": [
       "['car_age',\n",
       " 'transmission_auto',\n",
       " 'log_power_hp',\n",
       " 'log_mileage_km',\n",
       " 'weight_kg',\n",
       " 'consumption_mixed_l_100km',\n",
       " 'log_co2_g_km',\n",
       " 'height_mm',\n",
       " 'wheelbase_mm',\n",
       " 'log_engine_displacement_cm3',\n",
       " 'length_mm',\n",
       " 'width_mm',\n",
       " 'trunk_dim_1',\n",
       " 'tank_capacity_l']"
      ]
     },
     "execution_count": 74,
     "metadata": {},
     "output_type": "execute_result"
    }
   ],
   "source": [
    "most_imp = df_importances['Columns'].tolist()\n",
    "most_imp"
   ]
  },
  {
   "cell_type": "markdown",
   "id": "f3828894",
   "metadata": {},
   "source": [
    "### **CHECK POINT"
   ]
  },
  {
   "cell_type": "code",
   "execution_count": 75,
   "id": "1bff5a9f",
   "metadata": {},
   "outputs": [],
   "source": [
    "Most_imp = ['car_age',\n",
    " 'transmission_auto',\n",
    " 'log_power_hp',\n",
    " 'log_mileage_km',\n",
    " 'weight_kg',\n",
    " 'consumption_mixed_l_100km',\n",
    " 'log_co2_g_km',\n",
    " 'height_mm',\n",
    " 'wheelbase_mm',\n",
    " 'log_engine_displacement_cm3',\n",
    " 'length_mm',\n",
    " 'width_mm',\n",
    " 'trunk_dim_1',\n",
    " 'tank_capacity_l']"
   ]
  },
  {
   "cell_type": "code",
   "execution_count": 76,
   "id": "d381acbf",
   "metadata": {},
   "outputs": [],
   "source": [
    "log_columns = [col for col in most_imp if 'log' in col]"
   ]
  },
  {
   "cell_type": "markdown",
   "id": "b66ad270",
   "metadata": {},
   "source": [
    "____________________________\n",
    "# Finding the best model\n",
    "Now, we're going to try to find the model with the best performance when it comes to predict the cars prices. For that, we need to:\n",
    "- Split the df into Train/test using the Features importances from the previous nb.\n",
    "- Train the model using several algorithms.\n",
    "- Define and get the metrics to evaluate each model's performance.\n",
    "- Fine tune the best model hyperparameter using GridSearch."
   ]
  },
  {
   "cell_type": "code",
   "execution_count": 92,
   "id": "c997da27",
   "metadata": {},
   "outputs": [],
   "source": [
    "from sklearn.preprocessing import MinMaxScaler\n",
    "\n",
    "from sklearn.linear_model import LinearRegression\n",
    "from sklearn.neighbors import KNeighborsRegressor\n",
    "from sklearn.tree import DecisionTreeRegressor\n",
    "from sklearn.ensemble import RandomForestRegressor\n",
    "from sklearn.ensemble import AdaBoostRegressor\n",
    "from sklearn.ensemble import GradientBoostingRegressor\n",
    "\n",
    "from sklearn.metrics import mean_absolute_error\n",
    "from sklearn.metrics import mean_squared_error\n",
    "from sklearn.metrics import r2_score\n",
    "\n",
    "# we're using RandomizedSearch instead of GridSearch to speed up things\n",
    "from sklearn.model_selection import RandomizedSearchCV"
   ]
  },
  {
   "cell_type": "markdown",
   "id": "2e80b07b",
   "metadata": {},
   "source": [
    "Since the dataset is sufficiently big to considerably slow down the cross validation, we're getting a 30% of the data to perform a Randomized Search Grid."
   ]
  },
  {
   "cell_type": "code",
   "execution_count": 93,
   "id": "1ab25da9",
   "metadata": {},
   "outputs": [],
   "source": [
    "df_sample = df_imput.sample(frac=0.3, random_state=42)"
   ]
  },
  {
   "cell_type": "markdown",
   "id": "5cb6bac6",
   "metadata": {},
   "source": [
    "Get the new X and y with only the most important features."
   ]
  },
  {
   "cell_type": "code",
   "execution_count": 94,
   "id": "153c994f",
   "metadata": {},
   "outputs": [
    {
     "data": {
      "text/plain": [
       "((28238, 14), (28238,))"
      ]
     },
     "execution_count": 94,
     "metadata": {},
     "output_type": "execute_result"
    }
   ],
   "source": [
    "X = df_sample[most_imp]\n",
    "y = df_sample['log_price']\n",
    "\n",
    "X.shape, y.shape"
   ]
  },
  {
   "cell_type": "markdown",
   "id": "ce383308",
   "metadata": {},
   "source": [
    "Train/Test split"
   ]
  },
  {
   "cell_type": "code",
   "execution_count": 95,
   "id": "a2728b73",
   "metadata": {},
   "outputs": [
    {
     "name": "stdout",
     "output_type": "stream",
     "text": [
      "X_train: (22590, 14), y_train: (22590,)\n",
      "X_test: (5648, 14),  y_test: (5648,)\n"
     ]
    }
   ],
   "source": [
    "X_train, X_test, y_train, y_test = train_test_split(X, y, test_size=0.2, random_state=42)\n",
    "\n",
    "print(f\"X_train: {X_train.shape}, y_train: {y_train.shape}\")\n",
    "print(f\"X_test: {X_test.shape},  y_test: {y_test.shape}\")"
   ]
  },
  {
   "cell_type": "markdown",
   "id": "aa7b98ba",
   "metadata": {},
   "source": [
    "Scale the features and the target independently to avoid data leakage. \n",
    "\n",
    "As we can see here, we use fit_transform only on the training set, so the model can learn the minimum and maximum values from the fit function. In this way:\n",
    "- we will be applying the same scaling on the test set. \n",
    "- preventing data leakage since the model gets this data from the training set without seeing anything from the test."
   ]
  },
  {
   "cell_type": "code",
   "execution_count": 96,
   "id": "093dee4c",
   "metadata": {},
   "outputs": [],
   "source": [
    "scaler_x = MinMaxScaler()\n",
    "x_train_scaled = scaler_x.fit_transform(X_train)\n",
    "x_test_scaled = scaler_x.transform(X_test)"
   ]
  },
  {
   "cell_type": "code",
   "execution_count": 97,
   "id": "869dadfd",
   "metadata": {},
   "outputs": [],
   "source": [
    "scaler_y = MinMaxScaler()\n",
    "# .values transforms the df column into a Numpy array and reshape(-1, 1) gives it 2D, needed for the fit_transform\n",
    "y_train_scaled = scaler_y.fit_transform(y_train.values.reshape(-1, 1))\n",
    "y_test_scaled = scaler_y.transform(y_test.values.reshape(-1, 1))"
   ]
  },
  {
   "cell_type": "markdown",
   "id": "ccbeca5f",
   "metadata": {},
   "source": [
    "Next, we import the model we're going to train."
   ]
  },
  {
   "cell_type": "code",
   "execution_count": 98,
   "id": "21b7712b",
   "metadata": {},
   "outputs": [],
   "source": [
    "models = [LinearRegression(), RandomForestRegressor(), DecisionTreeRegressor(), \n",
    "          KNeighborsRegressor(), AdaBoostRegressor(), GradientBoostingRegressor()]\n",
    "\n",
    "model_names = [\"LinearRegression\", \"RandomForest\", \"DecisionTree\",'KNeighborsRegressor', \"AdaBoostRegressor\", \"GradientBoosting\"]"
   ]
  },
  {
   "cell_type": "markdown",
   "id": "ed6a8fa5",
   "metadata": {},
   "source": [
    "### Models evaluation\n",
    "The models are going to be evaluated using the typical metrics for regression problems like this one:\n",
    "- Mean Absolute Error (MAE).\n",
    "- Root Mean Squared Error (RMSE).\n",
    "- R² Score.\n",
    "\n",
    "For that, we're going to build a function to test all the models and get their performances. The decision of which one should we use is going to be based specially on the R² Score, since it gives the model's overall performance, but paying attention to the others."
   ]
  },
  {
   "cell_type": "code",
   "execution_count": 99,
   "id": "bbfcf327",
   "metadata": {},
   "outputs": [],
   "source": [
    "def metrics(df_metrics, model, model_name, X_train, X_test, y_train_log_scaled, y_test_log_scaled, scaler_y):\n",
    "\n",
    "    print(f\"Training model... Now: {model_name}\")\n",
    "\n",
    "    # train the model \n",
    "    model.fit(X_train, y_train_log_scaled.ravel())\n",
    "\n",
    "    # predictions\n",
    "    y_pred_log_scaled = model.predict(X_test)\n",
    "\n",
    "    # inverse scaling \n",
    "    y_pred_log = scaler_y.inverse_transform(y_pred_log_scaled.reshape(-1, 1)).flatten()\n",
    "    y_test_log = scaler_y.inverse_transform(y_test_log_scaled.reshape(-1, 1)).flatten()\n",
    "\n",
    "    # inverse log1p \n",
    "    y_pred = np.expm1(y_pred_log)\n",
    "    y_test = np.expm1(y_test_log)\n",
    "\n",
    "    # print(y_pred.shape)\n",
    "    # print(y_test.shape)\n",
    "\n",
    "    # calculate metrics\n",
    "    mae = mean_absolute_error(y_test, y_pred)\n",
    "    rmse = mean_squared_error(y_test, y_pred)\n",
    "    r2 = r2_score(y_test, y_pred)\n",
    "\n",
    "    df_metrics.loc[len(df_metrics)] = [model_name, mae, rmse, r2]\n",
    "    \n",
    "    return df_metrics"
   ]
  },
  {
   "cell_type": "code",
   "execution_count": 100,
   "id": "220fb3be",
   "metadata": {},
   "outputs": [
    {
     "name": "stdout",
     "output_type": "stream",
     "text": [
      "Training model... Now: LinearRegression\n",
      "Training model... Now: RandomForest\n",
      "Training model... Now: DecisionTree\n",
      "Training model... Now: KNeighborsRegressor\n",
      "Training model... Now: AdaBoostRegressor\n",
      "Training model... Now: GradientBoosting\n"
     ]
    }
   ],
   "source": [
    "df_metrics = pd.DataFrame(columns=[\"Model\", \"MAE\", \"RMSE\", \"R2_score\"])\n",
    "\n",
    "for model, model_name in zip(models, model_names):\n",
    "    df_performance = metrics(df_metrics, model, model_name, x_train_scaled, x_test_scaled, y_train_scaled, y_test_scaled, scaler_y)"
   ]
  },
  {
   "cell_type": "code",
   "execution_count": 101,
   "id": "8025b6b6",
   "metadata": {},
   "outputs": [],
   "source": [
    "df_performance.sort_values(by='R2_score', ascending=False, inplace=True)\n",
    "df_performance.reset_index(drop=True, inplace=True)"
   ]
  },
  {
   "cell_type": "code",
   "execution_count": 102,
   "id": "1759a03e",
   "metadata": {},
   "outputs": [
    {
     "data": {
      "text/html": [
       "<div>\n",
       "<style scoped>\n",
       "    .dataframe tbody tr th:only-of-type {\n",
       "        vertical-align: middle;\n",
       "    }\n",
       "\n",
       "    .dataframe tbody tr th {\n",
       "        vertical-align: top;\n",
       "    }\n",
       "\n",
       "    .dataframe thead th {\n",
       "        text-align: right;\n",
       "    }\n",
       "</style>\n",
       "<table border=\"1\" class=\"dataframe\">\n",
       "  <thead>\n",
       "    <tr style=\"text-align: right;\">\n",
       "      <th></th>\n",
       "      <th>Model</th>\n",
       "      <th>MAE</th>\n",
       "      <th>RMSE</th>\n",
       "      <th>R2_score</th>\n",
       "    </tr>\n",
       "  </thead>\n",
       "  <tbody>\n",
       "    <tr>\n",
       "      <th>0</th>\n",
       "      <td>RandomForest</td>\n",
       "      <td>2298.811179</td>\n",
       "      <td>1.711910e+07</td>\n",
       "      <td>0.884569</td>\n",
       "    </tr>\n",
       "    <tr>\n",
       "      <th>1</th>\n",
       "      <td>KNeighborsRegressor</td>\n",
       "      <td>2680.979607</td>\n",
       "      <td>2.134814e+07</td>\n",
       "      <td>0.856054</td>\n",
       "    </tr>\n",
       "    <tr>\n",
       "      <th>2</th>\n",
       "      <td>GradientBoosting</td>\n",
       "      <td>3063.430201</td>\n",
       "      <td>2.362529e+07</td>\n",
       "      <td>0.840700</td>\n",
       "    </tr>\n",
       "    <tr>\n",
       "      <th>3</th>\n",
       "      <td>DecisionTree</td>\n",
       "      <td>3027.162971</td>\n",
       "      <td>3.059390e+07</td>\n",
       "      <td>0.793712</td>\n",
       "    </tr>\n",
       "    <tr>\n",
       "      <th>4</th>\n",
       "      <td>LinearRegression</td>\n",
       "      <td>3766.432280</td>\n",
       "      <td>3.500457e+07</td>\n",
       "      <td>0.763971</td>\n",
       "    </tr>\n",
       "    <tr>\n",
       "      <th>5</th>\n",
       "      <td>AdaBoostRegressor</td>\n",
       "      <td>4813.023897</td>\n",
       "      <td>5.392583e+07</td>\n",
       "      <td>0.636389</td>\n",
       "    </tr>\n",
       "  </tbody>\n",
       "</table>\n",
       "</div>"
      ],
      "text/plain": [
       "                 Model          MAE          RMSE  R2_score\n",
       "0         RandomForest  2298.811179  1.711910e+07  0.884569\n",
       "1  KNeighborsRegressor  2680.979607  2.134814e+07  0.856054\n",
       "2     GradientBoosting  3063.430201  2.362529e+07  0.840700\n",
       "3         DecisionTree  3027.162971  3.059390e+07  0.793712\n",
       "4     LinearRegression  3766.432280  3.500457e+07  0.763971\n",
       "5    AdaBoostRegressor  4813.023897  5.392583e+07  0.636389"
      ]
     },
     "execution_count": 102,
     "metadata": {},
     "output_type": "execute_result"
    }
   ],
   "source": [
    "df_performance"
   ]
  },
  {
   "cell_type": "markdown",
   "id": "b9f8b6f5",
   "metadata": {},
   "source": [
    "Clearly, the Random Forsest has the best performance here, closely followed by the KNeighbors. Also the DesicionTree and the Gradient Boosting have a good R2 score, so it would worth to give them a shot when tunning hyperparameters.\n",
    "\n",
    "On the other hand, Ada Boost had the worst performance. Also, the non linearity of this specific problem could cause a lower performance of the Linear Regressor."
   ]
  },
  {
   "cell_type": "markdown",
   "id": "079c7187",
   "metadata": {},
   "source": [
    "_____________\n",
    "## Hyperparameter tuning\n",
    "To achive the best performance with the best models so far, we need to use techniques such as GridSearch to look for the best combination of hyperparameters for the models."
   ]
  },
  {
   "cell_type": "code",
   "execution_count": 103,
   "id": "828bc992",
   "metadata": {},
   "outputs": [],
   "source": [
    "# models to be tested\n",
    "models = [\n",
    "    RandomForestRegressor(),\n",
    "    DecisionTreeRegressor(),\n",
    "    KNeighborsRegressor(),\n",
    "    GradientBoostingRegressor(),\n",
    "]\n",
    "\n",
    "model_names = [\"RandomForest\", \"DecisionTree\", \"KNeighborsRegressor\", \"GradientBoosting\"]"
   ]
  },
  {
   "cell_type": "code",
   "execution_count": 104,
   "id": "d7184c30",
   "metadata": {},
   "outputs": [],
   "source": [
    "# Models and hyperparameters\n",
    "param_grids = {\n",
    "    \"RandomForest\": {\n",
    "          \"n_estimators\"           : [100, 200], \n",
    "          \"criterion\"              : ['absolute_error'], \n",
    "          \"max_features\"           : [\"sqrt\"],\n",
    "          \"min_samples_split\"      : [5, 10], \n",
    "          \"random_state\"           : [42],\n",
    "      #     \"max_depth\"              : [None, 10, 20]\n",
    "          },\n",
    "    \"DecisionTree\": {\n",
    "          \"criterion\"              : ['absolute_error'], \n",
    "          \"max_features\"           : [\"sqrt\", \"log2\"], \n",
    "          \"min_samples_split\"      : [5, 10], \n",
    "          \"random_state\"           : [42],\n",
    "      #     \"max_depth\"              : [None, 10, 20]\n",
    "          },\n",
    "    \"KNeighborsRegressor\": {\"n_neighbors\": [3, 4, 5, 6], \"weights\": [\"uniform\", \"distance\"], \"p\": [1, 2]},\n",
    "    \"GradientBoosting\": {\"n_estimators\": [100, 200], \"learning_rate\": [0.01, 0.1], \"max_depth\": [3, 5], \"subsample\": [0.8, 1.0]},\n",
    "}"
   ]
  },
  {
   "cell_type": "code",
   "execution_count": 105,
   "id": "945f49ee",
   "metadata": {},
   "outputs": [],
   "source": [
    "def run_gridsearch_and_evaluate(models, model_names, param_grids, X_train_scaled, X_test_scaled, y_train_scaled, y_test_scaled, scaler_y):\n",
    "\n",
    "    df_results = pd.DataFrame(columns=[\"model_name\", \"best_params\", \"mae\", \"mse\", \"r2_score\"])\n",
    "\n",
    "    for model_name, model in zip(model_names, models):\n",
    "        print(f\"Training {model_name}...\")\n",
    "\n",
    "        # Get parameter grid\n",
    "        param_grid = param_grids.get(model_name, {})\n",
    "\n",
    "        # Grid search\n",
    "        search = RandomizedSearchCV(model, param_grid, cv=2, scoring=\"r2\", n_jobs=-1)\n",
    "        search.fit(X_train_scaled, y_train_scaled.ravel())\n",
    "\n",
    "        best_model = search.best_estimator_\n",
    "        best_params = search.best_params_\n",
    "\n",
    "        # Predict in scaled log space\n",
    "        y_pred_scaled = best_model.predict(X_test_scaled)\n",
    "\n",
    "        # Inverse scaling: there's still log applied!!\n",
    "        y_pred_log = scaler_y.inverse_transform(y_pred_scaled.reshape(-1, 1)).flatten()\n",
    "        y_test_log = scaler_y.inverse_transform(y_test_scaled.reshape(-1, 1)).flatten()\n",
    "\n",
    "        # Inverse log transform\n",
    "        y_pred = np.expm1(y_pred_log)\n",
    "        y_test = np.expm1(y_test_log)\n",
    "\n",
    "        # Metrics\n",
    "        mae = mean_absolute_error(y_test, y_pred)\n",
    "        mse = mean_squared_error(y_test, y_pred)\n",
    "        r2 = r2_score(y_test, y_pred)\n",
    "\n",
    "        # Save results\n",
    "        df_results.loc[len(df_results)] = [model_name, best_params, mae, mse, r2]\n",
    "\n",
    "    return df_results\n"
   ]
  },
  {
   "cell_type": "code",
   "execution_count": 106,
   "id": "30bf2de6",
   "metadata": {},
   "outputs": [
    {
     "name": "stdout",
     "output_type": "stream",
     "text": [
      "Training RandomForest...\n"
     ]
    },
    {
     "name": "stderr",
     "output_type": "stream",
     "text": [
      "c:\\Users\\armej\\OneDrive\\Documentos\\DS_Projects\\Cars_Prices_Predictive_Modelling\\.venv\\Lib\\site-packages\\sklearn\\model_selection\\_search.py:317: UserWarning: The total space of parameters 4 is smaller than n_iter=10. Running 4 iterations. For exhaustive searches, use GridSearchCV.\n",
      "  warnings.warn(\n"
     ]
    },
    {
     "name": "stdout",
     "output_type": "stream",
     "text": [
      "Training DecisionTree...\n"
     ]
    },
    {
     "name": "stderr",
     "output_type": "stream",
     "text": [
      "c:\\Users\\armej\\OneDrive\\Documentos\\DS_Projects\\Cars_Prices_Predictive_Modelling\\.venv\\Lib\\site-packages\\sklearn\\model_selection\\_search.py:317: UserWarning: The total space of parameters 4 is smaller than n_iter=10. Running 4 iterations. For exhaustive searches, use GridSearchCV.\n",
      "  warnings.warn(\n"
     ]
    },
    {
     "name": "stdout",
     "output_type": "stream",
     "text": [
      "Training KNeighborsRegressor...\n",
      "Training GradientBoosting...\n"
     ]
    }
   ],
   "source": [
    "df_results_grid = run_gridsearch_and_evaluate(models, model_names, param_grids, x_train_scaled, x_test_scaled, y_train_scaled, y_test_scaled, scaler_y)"
   ]
  },
  {
   "cell_type": "markdown",
   "id": "01b49a20",
   "metadata": {},
   "source": [
    "## Model selection\n",
    "The R² score is very similar on the top 3. Which one should we choose? In this case, we're moving on with the RandomForest because:\n",
    "- It's slightly more accurate in MAE, meaning that it has the lowest average error, while the R² difference with GradientBoosting is negligible.\n",
    "- It's faster to train, easier to explain (feature importance), and more robust across various data types."
   ]
  },
  {
   "cell_type": "code",
   "execution_count": 108,
   "id": "8277d6bf",
   "metadata": {},
   "outputs": [
    {
     "data": {
      "text/html": [
       "<div>\n",
       "<style scoped>\n",
       "    .dataframe tbody tr th:only-of-type {\n",
       "        vertical-align: middle;\n",
       "    }\n",
       "\n",
       "    .dataframe tbody tr th {\n",
       "        vertical-align: top;\n",
       "    }\n",
       "\n",
       "    .dataframe thead th {\n",
       "        text-align: right;\n",
       "    }\n",
       "</style>\n",
       "<table border=\"1\" class=\"dataframe\">\n",
       "  <thead>\n",
       "    <tr style=\"text-align: right;\">\n",
       "      <th></th>\n",
       "      <th>model_name</th>\n",
       "      <th>best_params</th>\n",
       "      <th>mae</th>\n",
       "      <th>mse</th>\n",
       "      <th>r2_score</th>\n",
       "    </tr>\n",
       "  </thead>\n",
       "  <tbody>\n",
       "    <tr>\n",
       "      <th>0</th>\n",
       "      <td>GradientBoosting</td>\n",
       "      <td>{'subsample': 0.8, 'n_estimators': 200, 'max_d...</td>\n",
       "      <td>2492.148994</td>\n",
       "      <td>1.696194e+07</td>\n",
       "      <td>0.885629</td>\n",
       "    </tr>\n",
       "    <tr>\n",
       "      <th>1</th>\n",
       "      <td>RandomForest</td>\n",
       "      <td>{'random_state': 42, 'n_estimators': 200, 'min...</td>\n",
       "      <td>2254.758853</td>\n",
       "      <td>1.708822e+07</td>\n",
       "      <td>0.884778</td>\n",
       "    </tr>\n",
       "    <tr>\n",
       "      <th>2</th>\n",
       "      <td>KNeighborsRegressor</td>\n",
       "      <td>{'weights': 'distance', 'p': 1, 'n_neighbors': 6}</td>\n",
       "      <td>2327.035908</td>\n",
       "      <td>1.812434e+07</td>\n",
       "      <td>0.877791</td>\n",
       "    </tr>\n",
       "    <tr>\n",
       "      <th>3</th>\n",
       "      <td>DecisionTree</td>\n",
       "      <td>{'random_state': 42, 'min_samples_split': 5, '...</td>\n",
       "      <td>3111.272242</td>\n",
       "      <td>3.174046e+07</td>\n",
       "      <td>0.785981</td>\n",
       "    </tr>\n",
       "  </tbody>\n",
       "</table>\n",
       "</div>"
      ],
      "text/plain": [
       "            model_name                                        best_params  \\\n",
       "0     GradientBoosting  {'subsample': 0.8, 'n_estimators': 200, 'max_d...   \n",
       "1         RandomForest  {'random_state': 42, 'n_estimators': 200, 'min...   \n",
       "2  KNeighborsRegressor  {'weights': 'distance', 'p': 1, 'n_neighbors': 6}   \n",
       "3         DecisionTree  {'random_state': 42, 'min_samples_split': 5, '...   \n",
       "\n",
       "           mae           mse  r2_score  \n",
       "0  2492.148994  1.696194e+07  0.885629  \n",
       "1  2254.758853  1.708822e+07  0.884778  \n",
       "2  2327.035908  1.812434e+07  0.877791  \n",
       "3  3111.272242  3.174046e+07  0.785981  "
      ]
     },
     "execution_count": 108,
     "metadata": {},
     "output_type": "execute_result"
    }
   ],
   "source": [
    "df_results_grid.sort_values(by=\"r2_score\", ascending=False).reset_index(drop=True)"
   ]
  },
  {
   "cell_type": "code",
   "execution_count": null,
   "id": "a694a6cb",
   "metadata": {},
   "outputs": [],
   "source": []
  }
 ],
 "metadata": {
  "kernelspec": {
   "display_name": ".venv",
   "language": "python",
   "name": "python3"
  },
  "language_info": {
   "codemirror_mode": {
    "name": "ipython",
    "version": 3
   },
   "file_extension": ".py",
   "mimetype": "text/x-python",
   "name": "python",
   "nbconvert_exporter": "python",
   "pygments_lexer": "ipython3",
   "version": "3.11.9"
  }
 },
 "nbformat": 4,
 "nbformat_minor": 5
}
