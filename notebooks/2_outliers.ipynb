{
 "cells": [
  {
   "cell_type": "markdown",
   "id": "958ae973",
   "metadata": {},
   "source": [
    "# 2. Outliers\n",
    "In this notebook, we're going to make an overview on the dataframe's outliers. For that, we will apply the **Tukey's Fence** to detect them, since it's more robust to highly skewed datasets like this one, as we could check out in the preliminary EDA process."
   ]
  },
  {
   "cell_type": "markdown",
   "id": "82f598ee",
   "metadata": {},
   "source": [
    "Let's import the libraries and the data."
   ]
  },
  {
   "cell_type": "code",
   "execution_count": 642,
   "id": "072684e5",
   "metadata": {},
   "outputs": [],
   "source": [
    "import numpy as np\n",
    "import pandas as pd\n",
    "import plotly.express as px"
   ]
  },
  {
   "cell_type": "code",
   "execution_count": 643,
   "id": "621bb221",
   "metadata": {},
   "outputs": [],
   "source": [
    "df = pd.read_csv(\"../data/data_formatted.csv\")"
   ]
  },
  {
   "cell_type": "code",
   "execution_count": 644,
   "id": "76af78aa",
   "metadata": {},
   "outputs": [
    {
     "data": {
      "text/plain": [
       "array(['Petrol', 'Electric', 'Diesel', 'Hybrid',\n",
       "       'Plug-in Hybrid Petrol/Electric', 'Plug-in Hybrid',\n",
       "       'Plug-in Hybrid Diesel/Electric', 'Petrol/Gas', 'Gas',\n",
       "       'Petrol/Ethanol'], dtype=object)"
      ]
     },
     "execution_count": 644,
     "metadata": {},
     "output_type": "execute_result"
    }
   ],
   "source": [
    "df['fuel_type'].unique()"
   ]
  },
  {
   "cell_type": "code",
   "execution_count": 645,
   "id": "8bdda595",
   "metadata": {},
   "outputs": [
    {
     "name": "stdout",
     "output_type": "stream",
     "text": [
      "<class 'pandas.core.frame.DataFrame'>\n",
      "RangeIndex: 106149 entries, 0 to 106148\n",
      "Data columns (total 27 columns):\n",
      " #   Column                       Non-Null Count   Dtype  \n",
      "---  ------                       --------------   -----  \n",
      " 0   fuel_type                    106149 non-null  object \n",
      " 1   mileage_km                   106149 non-null  float64\n",
      " 2   body_type                    106149 non-null  object \n",
      " 3   transmission                 106149 non-null  object \n",
      " 4   power_hp                     104039 non-null  float64\n",
      " 5   warranty_months              95528 non-null   float64\n",
      " 6   emissions_label              97841 non-null   object \n",
      " 7   price                        106149 non-null  float64\n",
      " 8   length_mm                    78242 non-null   float64\n",
      " 9   width_mm                     78487 non-null   float64\n",
      " 10  height_mm                    78234 non-null   float64\n",
      " 11  wheelbase_mm                 78534 non-null   float64\n",
      " 12  weight_kg                    78534 non-null   float64\n",
      " 13  doors                        78533 non-null   float64\n",
      " 14  seats                        78534 non-null   float64\n",
      " 15  engine_displacement_cm3      78534 non-null   float64\n",
      " 16  cylinders                    76105 non-null   float64\n",
      " 17  turbo                        78534 non-null   object \n",
      " 18  consumption_city_l_100km     78534 non-null   float64\n",
      " 19  consumption_highway_l_100km  78534 non-null   float64\n",
      " 20  consumption_mixed_l_100km    78534 non-null   float64\n",
      " 21  co2_g_km                     59300 non-null   float64\n",
      " 22  tank_capacity_l              78534 non-null   float64\n",
      " 23  registration_month           106149 non-null  int64  \n",
      " 24  registration_year            106149 non-null  int64  \n",
      " 25  trunk_dim_1                  78534 non-null   float64\n",
      " 26  trunk_dim_2                  78534 non-null   float64\n",
      "dtypes: float64(20), int64(2), object(5)\n",
      "memory usage: 21.9+ MB\n"
     ]
    }
   ],
   "source": [
    "df.info()"
   ]
  },
  {
   "cell_type": "markdown",
   "id": "5d75d361",
   "metadata": {},
   "source": [
    "Here, we define a function to plot the outliers and another one to get a dataframe with the total number of outliers in each variable, as well as the outliers ratio for each of them."
   ]
  },
  {
   "cell_type": "code",
   "execution_count": 646,
   "id": "e77075ef",
   "metadata": {},
   "outputs": [],
   "source": [
    "def plot_nans_outliers(data, x, y, nans_or_out, clr):\n",
    "\n",
    "    fig = px.bar(\n",
    "        data,\n",
    "        x=x,\n",
    "        y=y,\n",
    "        title=f\"Global Distribution of {nans_or_out}\",\n",
    "        color_discrete_sequence=[clr],\n",
    "    )\n",
    "\n",
    "    fig.update_layout(xaxis_tickangle=310)\n",
    "\n",
    "    return fig"
   ]
  },
  {
   "cell_type": "code",
   "execution_count": 647,
   "id": "0aa9213b",
   "metadata": {},
   "outputs": [],
   "source": [
    "def outliers_tukey(df, k=1.5):\n",
    "\n",
    "    numeric_data = (\n",
    "        df.select_dtypes(include=np.number)\n",
    "        .drop(\n",
    "            columns=[\n",
    "                \"doors\",\n",
    "                \"seats\",\n",
    "                \"registration_month\",\n",
    "                \"registration_year\",\n",
    "            ]\n",
    "        )\n",
    "        .columns.to_list()\n",
    "    )\n",
    "\n",
    "    df_outliers = pd.DataFrame(columns=[\"parameter\", \"normal_data\", \"outliers_%\"])\n",
    "\n",
    "    for col in numeric_data:\n",
    "        q1 = np.nanquantile(df[col], q=0.25)\n",
    "        q3 = np.nanquantile(df[col], q=0.75)\n",
    "\n",
    "        ric = q3 - q1\n",
    "        lim_inf = q1 - k * ric\n",
    "        lim_sup = q3 + k * ric\n",
    "\n",
    "        normal_data = df[df[col].between(lim_inf, lim_sup)].shape[0]\n",
    "        total_outliers = df.shape[0] - normal_data\n",
    "        per_outliers = round(total_outliers / df.shape[0] * 100, 2)\n",
    "\n",
    "        df_outliers.loc[len(df_outliers)] = [col, total_outliers, per_outliers]\n",
    "\n",
    "    df_outliers = df_outliers.sort_values(by=\"outliers_%\", ascending=False).reset_index(\n",
    "        drop=True\n",
    "    )\n",
    "\n",
    "    fig_out = plot_nans_outliers(\n",
    "        df_outliers,\n",
    "        x=\"parameter\",\n",
    "        y=\"outliers_%\",\n",
    "        nans_or_out=\"Outliers\",\n",
    "        clr=\"#2FE088\",\n",
    "    )\n",
    "\n",
    "    return df_outliers, fig_out"
   ]
  },
  {
   "cell_type": "markdown",
   "id": "02eb6892",
   "metadata": {},
   "source": [
    "Let's now get the df, the figure and plot it. There is a visualization page prepared in the Streamlit dashboard that can be consulted as well."
   ]
  },
  {
   "cell_type": "code",
   "execution_count": 648,
   "id": "13bd6e72",
   "metadata": {},
   "outputs": [],
   "source": [
    "# Here we get the arranged df and the figure\n",
    "df_out, fig_out = outliers_tukey(df)"
   ]
  },
  {
   "cell_type": "code",
   "execution_count": 649,
   "id": "6ceddaf6",
   "metadata": {},
   "outputs": [
    {
     "data": {
      "text/html": [
       "<div>\n",
       "<style scoped>\n",
       "    .dataframe tbody tr th:only-of-type {\n",
       "        vertical-align: middle;\n",
       "    }\n",
       "\n",
       "    .dataframe tbody tr th {\n",
       "        vertical-align: top;\n",
       "    }\n",
       "\n",
       "    .dataframe thead th {\n",
       "        text-align: right;\n",
       "    }\n",
       "</style>\n",
       "<table border=\"1\" class=\"dataframe\">\n",
       "  <thead>\n",
       "    <tr style=\"text-align: right;\">\n",
       "      <th></th>\n",
       "      <th>parameter</th>\n",
       "      <th>normal_data</th>\n",
       "      <th>outliers_%</th>\n",
       "    </tr>\n",
       "  </thead>\n",
       "  <tbody>\n",
       "    <tr>\n",
       "      <th>0</th>\n",
       "      <td>cylinders</td>\n",
       "      <td>56876</td>\n",
       "      <td>53.58</td>\n",
       "    </tr>\n",
       "    <tr>\n",
       "      <th>1</th>\n",
       "      <td>co2_g_km</td>\n",
       "      <td>51893</td>\n",
       "      <td>48.89</td>\n",
       "    </tr>\n",
       "    <tr>\n",
       "      <th>2</th>\n",
       "      <td>engine_displacement_cm3</td>\n",
       "      <td>43033</td>\n",
       "      <td>40.54</td>\n",
       "    </tr>\n",
       "    <tr>\n",
       "      <th>3</th>\n",
       "      <td>warranty_months</td>\n",
       "      <td>36266</td>\n",
       "      <td>34.17</td>\n",
       "    </tr>\n",
       "    <tr>\n",
       "      <th>4</th>\n",
       "      <td>trunk_dim_2</td>\n",
       "      <td>35596</td>\n",
       "      <td>33.53</td>\n",
       "    </tr>\n",
       "    <tr>\n",
       "      <th>5</th>\n",
       "      <td>width_mm</td>\n",
       "      <td>34928</td>\n",
       "      <td>32.90</td>\n",
       "    </tr>\n",
       "    <tr>\n",
       "      <th>6</th>\n",
       "      <td>tank_capacity_l</td>\n",
       "      <td>34502</td>\n",
       "      <td>32.50</td>\n",
       "    </tr>\n",
       "    <tr>\n",
       "      <th>7</th>\n",
       "      <td>trunk_dim_1</td>\n",
       "      <td>32741</td>\n",
       "      <td>30.84</td>\n",
       "    </tr>\n",
       "    <tr>\n",
       "      <th>8</th>\n",
       "      <td>wheelbase_mm</td>\n",
       "      <td>32668</td>\n",
       "      <td>30.78</td>\n",
       "    </tr>\n",
       "    <tr>\n",
       "      <th>9</th>\n",
       "      <td>weight_kg</td>\n",
       "      <td>32265</td>\n",
       "      <td>30.40</td>\n",
       "    </tr>\n",
       "    <tr>\n",
       "      <th>10</th>\n",
       "      <td>length_mm</td>\n",
       "      <td>29701</td>\n",
       "      <td>27.98</td>\n",
       "    </tr>\n",
       "    <tr>\n",
       "      <th>11</th>\n",
       "      <td>consumption_mixed_l_100km</td>\n",
       "      <td>29684</td>\n",
       "      <td>27.96</td>\n",
       "    </tr>\n",
       "    <tr>\n",
       "      <th>12</th>\n",
       "      <td>consumption_city_l_100km</td>\n",
       "      <td>28667</td>\n",
       "      <td>27.01</td>\n",
       "    </tr>\n",
       "    <tr>\n",
       "      <th>13</th>\n",
       "      <td>height_mm</td>\n",
       "      <td>28639</td>\n",
       "      <td>26.98</td>\n",
       "    </tr>\n",
       "    <tr>\n",
       "      <th>14</th>\n",
       "      <td>consumption_highway_l_100km</td>\n",
       "      <td>27705</td>\n",
       "      <td>26.10</td>\n",
       "    </tr>\n",
       "    <tr>\n",
       "      <th>15</th>\n",
       "      <td>power_hp</td>\n",
       "      <td>11582</td>\n",
       "      <td>10.91</td>\n",
       "    </tr>\n",
       "    <tr>\n",
       "      <th>16</th>\n",
       "      <td>price</td>\n",
       "      <td>8152</td>\n",
       "      <td>7.68</td>\n",
       "    </tr>\n",
       "    <tr>\n",
       "      <th>17</th>\n",
       "      <td>mileage_km</td>\n",
       "      <td>3188</td>\n",
       "      <td>3.00</td>\n",
       "    </tr>\n",
       "  </tbody>\n",
       "</table>\n",
       "</div>"
      ],
      "text/plain": [
       "                      parameter  normal_data  outliers_%\n",
       "0                     cylinders        56876       53.58\n",
       "1                      co2_g_km        51893       48.89\n",
       "2       engine_displacement_cm3        43033       40.54\n",
       "3               warranty_months        36266       34.17\n",
       "4                   trunk_dim_2        35596       33.53\n",
       "5                      width_mm        34928       32.90\n",
       "6               tank_capacity_l        34502       32.50\n",
       "7                   trunk_dim_1        32741       30.84\n",
       "8                  wheelbase_mm        32668       30.78\n",
       "9                     weight_kg        32265       30.40\n",
       "10                    length_mm        29701       27.98\n",
       "11    consumption_mixed_l_100km        29684       27.96\n",
       "12     consumption_city_l_100km        28667       27.01\n",
       "13                    height_mm        28639       26.98\n",
       "14  consumption_highway_l_100km        27705       26.10\n",
       "15                     power_hp        11582       10.91\n",
       "16                        price         8152        7.68\n",
       "17                   mileage_km         3188        3.00"
      ]
     },
     "execution_count": 649,
     "metadata": {},
     "output_type": "execute_result"
    }
   ],
   "source": [
    "df_out\n"
   ]
  },
  {
   "cell_type": "code",
   "execution_count": 650,
   "id": "f97aa935",
   "metadata": {},
   "outputs": [
    {
     "data": {
      "application/vnd.plotly.v1+json": {
       "config": {
        "plotlyServerURL": "https://plot.ly"
       },
       "data": [
        {
         "hovertemplate": "parameter=%{x}<br>outliers_%=%{y}<extra></extra>",
         "legendgroup": "",
         "marker": {
          "color": "#2FE088",
          "pattern": {
           "shape": ""
          }
         },
         "name": "",
         "orientation": "v",
         "showlegend": false,
         "textposition": "auto",
         "type": "bar",
         "x": [
          "cylinders",
          "co2_g_km",
          "engine_displacement_cm3",
          "warranty_months",
          "trunk_dim_2",
          "width_mm",
          "tank_capacity_l",
          "trunk_dim_1",
          "wheelbase_mm",
          "weight_kg",
          "length_mm",
          "consumption_mixed_l_100km",
          "consumption_city_l_100km",
          "height_mm",
          "consumption_highway_l_100km",
          "power_hp",
          "price",
          "mileage_km"
         ],
         "xaxis": "x",
         "y": {
          "bdata": "CtejcD3KSkBSuB6F63FIQIXrUbgeRURA9ihcj8IVQUCkcD0K18NAQDMzMzMzc0BAAAAAAABAQEDXo3A9Ctc+QEjhehSuxz5AZmZmZmZmPkB7FK5H4fo7QPYoXI/C9TtAw/UoXI8CO0B7FK5H4fo6QJqZmZmZGTpAUrgehevRJUC4HoXrUbgeQAAAAAAAAAhA",
          "dtype": "f8"
         },
         "yaxis": "y"
        }
       ],
       "layout": {
        "barmode": "relative",
        "legend": {
         "tracegroupgap": 0
        },
        "template": {
         "data": {
          "bar": [
           {
            "error_x": {
             "color": "#2a3f5f"
            },
            "error_y": {
             "color": "#2a3f5f"
            },
            "marker": {
             "line": {
              "color": "#E5ECF6",
              "width": 0.5
             },
             "pattern": {
              "fillmode": "overlay",
              "size": 10,
              "solidity": 0.2
             }
            },
            "type": "bar"
           }
          ],
          "barpolar": [
           {
            "marker": {
             "line": {
              "color": "#E5ECF6",
              "width": 0.5
             },
             "pattern": {
              "fillmode": "overlay",
              "size": 10,
              "solidity": 0.2
             }
            },
            "type": "barpolar"
           }
          ],
          "carpet": [
           {
            "aaxis": {
             "endlinecolor": "#2a3f5f",
             "gridcolor": "white",
             "linecolor": "white",
             "minorgridcolor": "white",
             "startlinecolor": "#2a3f5f"
            },
            "baxis": {
             "endlinecolor": "#2a3f5f",
             "gridcolor": "white",
             "linecolor": "white",
             "minorgridcolor": "white",
             "startlinecolor": "#2a3f5f"
            },
            "type": "carpet"
           }
          ],
          "choropleth": [
           {
            "colorbar": {
             "outlinewidth": 0,
             "ticks": ""
            },
            "type": "choropleth"
           }
          ],
          "contour": [
           {
            "colorbar": {
             "outlinewidth": 0,
             "ticks": ""
            },
            "colorscale": [
             [
              0,
              "#0d0887"
             ],
             [
              0.1111111111111111,
              "#46039f"
             ],
             [
              0.2222222222222222,
              "#7201a8"
             ],
             [
              0.3333333333333333,
              "#9c179e"
             ],
             [
              0.4444444444444444,
              "#bd3786"
             ],
             [
              0.5555555555555556,
              "#d8576b"
             ],
             [
              0.6666666666666666,
              "#ed7953"
             ],
             [
              0.7777777777777778,
              "#fb9f3a"
             ],
             [
              0.8888888888888888,
              "#fdca26"
             ],
             [
              1,
              "#f0f921"
             ]
            ],
            "type": "contour"
           }
          ],
          "contourcarpet": [
           {
            "colorbar": {
             "outlinewidth": 0,
             "ticks": ""
            },
            "type": "contourcarpet"
           }
          ],
          "heatmap": [
           {
            "colorbar": {
             "outlinewidth": 0,
             "ticks": ""
            },
            "colorscale": [
             [
              0,
              "#0d0887"
             ],
             [
              0.1111111111111111,
              "#46039f"
             ],
             [
              0.2222222222222222,
              "#7201a8"
             ],
             [
              0.3333333333333333,
              "#9c179e"
             ],
             [
              0.4444444444444444,
              "#bd3786"
             ],
             [
              0.5555555555555556,
              "#d8576b"
             ],
             [
              0.6666666666666666,
              "#ed7953"
             ],
             [
              0.7777777777777778,
              "#fb9f3a"
             ],
             [
              0.8888888888888888,
              "#fdca26"
             ],
             [
              1,
              "#f0f921"
             ]
            ],
            "type": "heatmap"
           }
          ],
          "histogram": [
           {
            "marker": {
             "pattern": {
              "fillmode": "overlay",
              "size": 10,
              "solidity": 0.2
             }
            },
            "type": "histogram"
           }
          ],
          "histogram2d": [
           {
            "colorbar": {
             "outlinewidth": 0,
             "ticks": ""
            },
            "colorscale": [
             [
              0,
              "#0d0887"
             ],
             [
              0.1111111111111111,
              "#46039f"
             ],
             [
              0.2222222222222222,
              "#7201a8"
             ],
             [
              0.3333333333333333,
              "#9c179e"
             ],
             [
              0.4444444444444444,
              "#bd3786"
             ],
             [
              0.5555555555555556,
              "#d8576b"
             ],
             [
              0.6666666666666666,
              "#ed7953"
             ],
             [
              0.7777777777777778,
              "#fb9f3a"
             ],
             [
              0.8888888888888888,
              "#fdca26"
             ],
             [
              1,
              "#f0f921"
             ]
            ],
            "type": "histogram2d"
           }
          ],
          "histogram2dcontour": [
           {
            "colorbar": {
             "outlinewidth": 0,
             "ticks": ""
            },
            "colorscale": [
             [
              0,
              "#0d0887"
             ],
             [
              0.1111111111111111,
              "#46039f"
             ],
             [
              0.2222222222222222,
              "#7201a8"
             ],
             [
              0.3333333333333333,
              "#9c179e"
             ],
             [
              0.4444444444444444,
              "#bd3786"
             ],
             [
              0.5555555555555556,
              "#d8576b"
             ],
             [
              0.6666666666666666,
              "#ed7953"
             ],
             [
              0.7777777777777778,
              "#fb9f3a"
             ],
             [
              0.8888888888888888,
              "#fdca26"
             ],
             [
              1,
              "#f0f921"
             ]
            ],
            "type": "histogram2dcontour"
           }
          ],
          "mesh3d": [
           {
            "colorbar": {
             "outlinewidth": 0,
             "ticks": ""
            },
            "type": "mesh3d"
           }
          ],
          "parcoords": [
           {
            "line": {
             "colorbar": {
              "outlinewidth": 0,
              "ticks": ""
             }
            },
            "type": "parcoords"
           }
          ],
          "pie": [
           {
            "automargin": true,
            "type": "pie"
           }
          ],
          "scatter": [
           {
            "fillpattern": {
             "fillmode": "overlay",
             "size": 10,
             "solidity": 0.2
            },
            "type": "scatter"
           }
          ],
          "scatter3d": [
           {
            "line": {
             "colorbar": {
              "outlinewidth": 0,
              "ticks": ""
             }
            },
            "marker": {
             "colorbar": {
              "outlinewidth": 0,
              "ticks": ""
             }
            },
            "type": "scatter3d"
           }
          ],
          "scattercarpet": [
           {
            "marker": {
             "colorbar": {
              "outlinewidth": 0,
              "ticks": ""
             }
            },
            "type": "scattercarpet"
           }
          ],
          "scattergeo": [
           {
            "marker": {
             "colorbar": {
              "outlinewidth": 0,
              "ticks": ""
             }
            },
            "type": "scattergeo"
           }
          ],
          "scattergl": [
           {
            "marker": {
             "colorbar": {
              "outlinewidth": 0,
              "ticks": ""
             }
            },
            "type": "scattergl"
           }
          ],
          "scattermap": [
           {
            "marker": {
             "colorbar": {
              "outlinewidth": 0,
              "ticks": ""
             }
            },
            "type": "scattermap"
           }
          ],
          "scattermapbox": [
           {
            "marker": {
             "colorbar": {
              "outlinewidth": 0,
              "ticks": ""
             }
            },
            "type": "scattermapbox"
           }
          ],
          "scatterpolar": [
           {
            "marker": {
             "colorbar": {
              "outlinewidth": 0,
              "ticks": ""
             }
            },
            "type": "scatterpolar"
           }
          ],
          "scatterpolargl": [
           {
            "marker": {
             "colorbar": {
              "outlinewidth": 0,
              "ticks": ""
             }
            },
            "type": "scatterpolargl"
           }
          ],
          "scatterternary": [
           {
            "marker": {
             "colorbar": {
              "outlinewidth": 0,
              "ticks": ""
             }
            },
            "type": "scatterternary"
           }
          ],
          "surface": [
           {
            "colorbar": {
             "outlinewidth": 0,
             "ticks": ""
            },
            "colorscale": [
             [
              0,
              "#0d0887"
             ],
             [
              0.1111111111111111,
              "#46039f"
             ],
             [
              0.2222222222222222,
              "#7201a8"
             ],
             [
              0.3333333333333333,
              "#9c179e"
             ],
             [
              0.4444444444444444,
              "#bd3786"
             ],
             [
              0.5555555555555556,
              "#d8576b"
             ],
             [
              0.6666666666666666,
              "#ed7953"
             ],
             [
              0.7777777777777778,
              "#fb9f3a"
             ],
             [
              0.8888888888888888,
              "#fdca26"
             ],
             [
              1,
              "#f0f921"
             ]
            ],
            "type": "surface"
           }
          ],
          "table": [
           {
            "cells": {
             "fill": {
              "color": "#EBF0F8"
             },
             "line": {
              "color": "white"
             }
            },
            "header": {
             "fill": {
              "color": "#C8D4E3"
             },
             "line": {
              "color": "white"
             }
            },
            "type": "table"
           }
          ]
         },
         "layout": {
          "annotationdefaults": {
           "arrowcolor": "#2a3f5f",
           "arrowhead": 0,
           "arrowwidth": 1
          },
          "autotypenumbers": "strict",
          "coloraxis": {
           "colorbar": {
            "outlinewidth": 0,
            "ticks": ""
           }
          },
          "colorscale": {
           "diverging": [
            [
             0,
             "#8e0152"
            ],
            [
             0.1,
             "#c51b7d"
            ],
            [
             0.2,
             "#de77ae"
            ],
            [
             0.3,
             "#f1b6da"
            ],
            [
             0.4,
             "#fde0ef"
            ],
            [
             0.5,
             "#f7f7f7"
            ],
            [
             0.6,
             "#e6f5d0"
            ],
            [
             0.7,
             "#b8e186"
            ],
            [
             0.8,
             "#7fbc41"
            ],
            [
             0.9,
             "#4d9221"
            ],
            [
             1,
             "#276419"
            ]
           ],
           "sequential": [
            [
             0,
             "#0d0887"
            ],
            [
             0.1111111111111111,
             "#46039f"
            ],
            [
             0.2222222222222222,
             "#7201a8"
            ],
            [
             0.3333333333333333,
             "#9c179e"
            ],
            [
             0.4444444444444444,
             "#bd3786"
            ],
            [
             0.5555555555555556,
             "#d8576b"
            ],
            [
             0.6666666666666666,
             "#ed7953"
            ],
            [
             0.7777777777777778,
             "#fb9f3a"
            ],
            [
             0.8888888888888888,
             "#fdca26"
            ],
            [
             1,
             "#f0f921"
            ]
           ],
           "sequentialminus": [
            [
             0,
             "#0d0887"
            ],
            [
             0.1111111111111111,
             "#46039f"
            ],
            [
             0.2222222222222222,
             "#7201a8"
            ],
            [
             0.3333333333333333,
             "#9c179e"
            ],
            [
             0.4444444444444444,
             "#bd3786"
            ],
            [
             0.5555555555555556,
             "#d8576b"
            ],
            [
             0.6666666666666666,
             "#ed7953"
            ],
            [
             0.7777777777777778,
             "#fb9f3a"
            ],
            [
             0.8888888888888888,
             "#fdca26"
            ],
            [
             1,
             "#f0f921"
            ]
           ]
          },
          "colorway": [
           "#636efa",
           "#EF553B",
           "#00cc96",
           "#ab63fa",
           "#FFA15A",
           "#19d3f3",
           "#FF6692",
           "#B6E880",
           "#FF97FF",
           "#FECB52"
          ],
          "font": {
           "color": "#2a3f5f"
          },
          "geo": {
           "bgcolor": "white",
           "lakecolor": "white",
           "landcolor": "#E5ECF6",
           "showlakes": true,
           "showland": true,
           "subunitcolor": "white"
          },
          "hoverlabel": {
           "align": "left"
          },
          "hovermode": "closest",
          "mapbox": {
           "style": "light"
          },
          "paper_bgcolor": "white",
          "plot_bgcolor": "#E5ECF6",
          "polar": {
           "angularaxis": {
            "gridcolor": "white",
            "linecolor": "white",
            "ticks": ""
           },
           "bgcolor": "#E5ECF6",
           "radialaxis": {
            "gridcolor": "white",
            "linecolor": "white",
            "ticks": ""
           }
          },
          "scene": {
           "xaxis": {
            "backgroundcolor": "#E5ECF6",
            "gridcolor": "white",
            "gridwidth": 2,
            "linecolor": "white",
            "showbackground": true,
            "ticks": "",
            "zerolinecolor": "white"
           },
           "yaxis": {
            "backgroundcolor": "#E5ECF6",
            "gridcolor": "white",
            "gridwidth": 2,
            "linecolor": "white",
            "showbackground": true,
            "ticks": "",
            "zerolinecolor": "white"
           },
           "zaxis": {
            "backgroundcolor": "#E5ECF6",
            "gridcolor": "white",
            "gridwidth": 2,
            "linecolor": "white",
            "showbackground": true,
            "ticks": "",
            "zerolinecolor": "white"
           }
          },
          "shapedefaults": {
           "line": {
            "color": "#2a3f5f"
           }
          },
          "ternary": {
           "aaxis": {
            "gridcolor": "white",
            "linecolor": "white",
            "ticks": ""
           },
           "baxis": {
            "gridcolor": "white",
            "linecolor": "white",
            "ticks": ""
           },
           "bgcolor": "#E5ECF6",
           "caxis": {
            "gridcolor": "white",
            "linecolor": "white",
            "ticks": ""
           }
          },
          "title": {
           "x": 0.05
          },
          "xaxis": {
           "automargin": true,
           "gridcolor": "white",
           "linecolor": "white",
           "ticks": "",
           "title": {
            "standoff": 15
           },
           "zerolinecolor": "white",
           "zerolinewidth": 2
          },
          "yaxis": {
           "automargin": true,
           "gridcolor": "white",
           "linecolor": "white",
           "ticks": "",
           "title": {
            "standoff": 15
           },
           "zerolinecolor": "white",
           "zerolinewidth": 2
          }
         }
        },
        "title": {
         "text": "Global Distribution of Outliers"
        },
        "xaxis": {
         "anchor": "y",
         "domain": [
          0,
          1
         ],
         "tickangle": -50,
         "title": {
          "text": "parameter"
         }
        },
        "yaxis": {
         "anchor": "x",
         "domain": [
          0,
          1
         ],
         "title": {
          "text": "outliers_%"
         }
        }
       }
      }
     },
     "metadata": {},
     "output_type": "display_data"
    }
   ],
   "source": [
    "fig_out"
   ]
  },
  {
   "cell_type": "markdown",
   "id": "bef403d9",
   "metadata": {},
   "source": [
    "When we plot the outliers ratio per variable, we can se that there are many of them over a 20% of Outliers. Some of them, like the CO2 emmissions and the number of cylinders are over a 40%. We have to be careful now about how we're going to proceed.\n",
    "\n",
    "The general plan is to analyze one by one or those of the same category (like dimensional variables) together and decide what to do.\n",
    "\n",
    "A function is defined below to crop the df according to the Tukey's Fence."
   ]
  },
  {
   "cell_type": "code",
   "execution_count": 651,
   "id": "39da0405",
   "metadata": {},
   "outputs": [],
   "source": [
    "def drop_outliers(data, cols, k = 1.5):\n",
    "\n",
    "    for col in cols:\n",
    "        q1 = np.nanquantile(data[col], q = 0.25)\n",
    "        q3 = np.nanquantile(data[col], q = 0.75)\n",
    "\n",
    "        ric = q3 - q1\n",
    "        lim_inf = q1 - k*ric\n",
    "        lim_sup = q3 + k*ric\n",
    "\n",
    "        filtered_df = data[(data[col] >= lim_inf) & (data[col] <= lim_sup)]\n",
    "\n",
    "    return filtered_df"
   ]
  },
  {
   "cell_type": "markdown",
   "id": "4a9a541f",
   "metadata": {},
   "source": [
    "For inputing values, wi will use the median depending on the body type, to ensure more accuracy."
   ]
  },
  {
   "cell_type": "code",
   "execution_count": 652,
   "id": "1f890bbb",
   "metadata": {},
   "outputs": [
    {
     "data": {
      "text/html": [
       "<div>\n",
       "<style scoped>\n",
       "    .dataframe tbody tr th:only-of-type {\n",
       "        vertical-align: middle;\n",
       "    }\n",
       "\n",
       "    .dataframe tbody tr th {\n",
       "        vertical-align: top;\n",
       "    }\n",
       "\n",
       "    .dataframe thead th {\n",
       "        text-align: right;\n",
       "    }\n",
       "</style>\n",
       "<table border=\"1\" class=\"dataframe\">\n",
       "  <thead>\n",
       "    <tr style=\"text-align: right;\">\n",
       "      <th></th>\n",
       "      <th>mileage_km</th>\n",
       "      <th>power_hp</th>\n",
       "      <th>warranty_months</th>\n",
       "      <th>price</th>\n",
       "      <th>length_mm</th>\n",
       "      <th>width_mm</th>\n",
       "      <th>height_mm</th>\n",
       "      <th>wheelbase_mm</th>\n",
       "      <th>weight_kg</th>\n",
       "      <th>doors</th>\n",
       "      <th>...</th>\n",
       "      <th>cylinders</th>\n",
       "      <th>consumption_city_l_100km</th>\n",
       "      <th>consumption_highway_l_100km</th>\n",
       "      <th>consumption_mixed_l_100km</th>\n",
       "      <th>co2_g_km</th>\n",
       "      <th>tank_capacity_l</th>\n",
       "      <th>registration_month</th>\n",
       "      <th>registration_year</th>\n",
       "      <th>trunk_dim_1</th>\n",
       "      <th>trunk_dim_2</th>\n",
       "    </tr>\n",
       "    <tr>\n",
       "      <th>body_type</th>\n",
       "      <th></th>\n",
       "      <th></th>\n",
       "      <th></th>\n",
       "      <th></th>\n",
       "      <th></th>\n",
       "      <th></th>\n",
       "      <th></th>\n",
       "      <th></th>\n",
       "      <th></th>\n",
       "      <th></th>\n",
       "      <th></th>\n",
       "      <th></th>\n",
       "      <th></th>\n",
       "      <th></th>\n",
       "      <th></th>\n",
       "      <th></th>\n",
       "      <th></th>\n",
       "      <th></th>\n",
       "      <th></th>\n",
       "      <th></th>\n",
       "      <th></th>\n",
       "    </tr>\n",
       "  </thead>\n",
       "  <tbody>\n",
       "    <tr>\n",
       "      <th>Classic</th>\n",
       "      <td>10.0</td>\n",
       "      <td>NaN</td>\n",
       "      <td>36.0</td>\n",
       "      <td>34500.0</td>\n",
       "      <td>NaN</td>\n",
       "      <td>NaN</td>\n",
       "      <td>NaN</td>\n",
       "      <td>NaN</td>\n",
       "      <td>NaN</td>\n",
       "      <td>NaN</td>\n",
       "      <td>...</td>\n",
       "      <td>NaN</td>\n",
       "      <td>NaN</td>\n",
       "      <td>NaN</td>\n",
       "      <td>NaN</td>\n",
       "      <td>NaN</td>\n",
       "      <td>NaN</td>\n",
       "      <td>12.0</td>\n",
       "      <td>2023.0</td>\n",
       "      <td>NaN</td>\n",
       "      <td>NaN</td>\n",
       "    </tr>\n",
       "    <tr>\n",
       "      <th>Commercial</th>\n",
       "      <td>90812.0</td>\n",
       "      <td>102.0</td>\n",
       "      <td>12.0</td>\n",
       "      <td>13966.0</td>\n",
       "      <td>NaN</td>\n",
       "      <td>NaN</td>\n",
       "      <td>NaN</td>\n",
       "      <td>NaN</td>\n",
       "      <td>NaN</td>\n",
       "      <td>NaN</td>\n",
       "      <td>...</td>\n",
       "      <td>NaN</td>\n",
       "      <td>NaN</td>\n",
       "      <td>NaN</td>\n",
       "      <td>NaN</td>\n",
       "      <td>NaN</td>\n",
       "      <td>NaN</td>\n",
       "      <td>1.0</td>\n",
       "      <td>2020.0</td>\n",
       "      <td>NaN</td>\n",
       "      <td>NaN</td>\n",
       "    </tr>\n",
       "    <tr>\n",
       "      <th>Convertible</th>\n",
       "      <td>49563.0</td>\n",
       "      <td>184.0</td>\n",
       "      <td>12.0</td>\n",
       "      <td>29990.0</td>\n",
       "      <td>4491.0</td>\n",
       "      <td>1810.0</td>\n",
       "      <td>1409.0</td>\n",
       "      <td>2605.0</td>\n",
       "      <td>1935.0</td>\n",
       "      <td>2.0</td>\n",
       "      <td>...</td>\n",
       "      <td>4.0</td>\n",
       "      <td>7.6</td>\n",
       "      <td>5.2</td>\n",
       "      <td>6.0</td>\n",
       "      <td>154.0</td>\n",
       "      <td>57.0</td>\n",
       "      <td>6.0</td>\n",
       "      <td>2018.0</td>\n",
       "      <td>190.0</td>\n",
       "      <td>215.000</td>\n",
       "    </tr>\n",
       "    <tr>\n",
       "      <th>Coupe</th>\n",
       "      <td>56005.0</td>\n",
       "      <td>313.0</td>\n",
       "      <td>12.0</td>\n",
       "      <td>50900.0</td>\n",
       "      <td>4673.0</td>\n",
       "      <td>1887.0</td>\n",
       "      <td>1404.0</td>\n",
       "      <td>2760.0</td>\n",
       "      <td>2065.0</td>\n",
       "      <td>2.0</td>\n",
       "      <td>...</td>\n",
       "      <td>6.0</td>\n",
       "      <td>7.5</td>\n",
       "      <td>5.3</td>\n",
       "      <td>6.2</td>\n",
       "      <td>170.0</td>\n",
       "      <td>66.0</td>\n",
       "      <td>6.0</td>\n",
       "      <td>2019.0</td>\n",
       "      <td>430.0</td>\n",
       "      <td>0.000</td>\n",
       "    </tr>\n",
       "    <tr>\n",
       "      <th>Coupe/Sports</th>\n",
       "      <td>27400.0</td>\n",
       "      <td>431.0</td>\n",
       "      <td>12.0</td>\n",
       "      <td>88429.5</td>\n",
       "      <td>NaN</td>\n",
       "      <td>NaN</td>\n",
       "      <td>NaN</td>\n",
       "      <td>NaN</td>\n",
       "      <td>NaN</td>\n",
       "      <td>NaN</td>\n",
       "      <td>...</td>\n",
       "      <td>NaN</td>\n",
       "      <td>NaN</td>\n",
       "      <td>NaN</td>\n",
       "      <td>NaN</td>\n",
       "      <td>NaN</td>\n",
       "      <td>NaN</td>\n",
       "      <td>6.0</td>\n",
       "      <td>2019.0</td>\n",
       "      <td>NaN</td>\n",
       "      <td>NaN</td>\n",
       "    </tr>\n",
       "    <tr>\n",
       "      <th>Estate</th>\n",
       "      <td>84859.0</td>\n",
       "      <td>143.0</td>\n",
       "      <td>12.0</td>\n",
       "      <td>19490.0</td>\n",
       "      <td>4668.0</td>\n",
       "      <td>1816.0</td>\n",
       "      <td>1459.0</td>\n",
       "      <td>2730.0</td>\n",
       "      <td>2025.0</td>\n",
       "      <td>5.0</td>\n",
       "      <td>...</td>\n",
       "      <td>4.0</td>\n",
       "      <td>5.2</td>\n",
       "      <td>3.9</td>\n",
       "      <td>4.4</td>\n",
       "      <td>115.0</td>\n",
       "      <td>53.0</td>\n",
       "      <td>6.0</td>\n",
       "      <td>2019.0</td>\n",
       "      <td>540.0</td>\n",
       "      <td>1.510</td>\n",
       "    </tr>\n",
       "    <tr>\n",
       "      <th>MPV</th>\n",
       "      <td>97200.0</td>\n",
       "      <td>130.0</td>\n",
       "      <td>12.0</td>\n",
       "      <td>16500.0</td>\n",
       "      <td>4419.0</td>\n",
       "      <td>1829.0</td>\n",
       "      <td>1645.0</td>\n",
       "      <td>2750.0</td>\n",
       "      <td>2080.0</td>\n",
       "      <td>5.0</td>\n",
       "      <td>...</td>\n",
       "      <td>4.0</td>\n",
       "      <td>5.4</td>\n",
       "      <td>4.2</td>\n",
       "      <td>4.7</td>\n",
       "      <td>119.0</td>\n",
       "      <td>55.0</td>\n",
       "      <td>6.0</td>\n",
       "      <td>2017.0</td>\n",
       "      <td>455.0</td>\n",
       "      <td>1.694</td>\n",
       "    </tr>\n",
       "    <tr>\n",
       "      <th>Pickup</th>\n",
       "      <td>160000.0</td>\n",
       "      <td>325.0</td>\n",
       "      <td>0.0</td>\n",
       "      <td>38900.0</td>\n",
       "      <td>4820.0</td>\n",
       "      <td>2063.0</td>\n",
       "      <td>1977.0</td>\n",
       "      <td>3119.0</td>\n",
       "      <td>3500.0</td>\n",
       "      <td>4.0</td>\n",
       "      <td>...</td>\n",
       "      <td>8.0</td>\n",
       "      <td>26.7</td>\n",
       "      <td>14.4</td>\n",
       "      <td>20.6</td>\n",
       "      <td>NaN</td>\n",
       "      <td>121.0</td>\n",
       "      <td>5.0</td>\n",
       "      <td>2005.0</td>\n",
       "      <td>623.0</td>\n",
       "      <td>1.492</td>\n",
       "    </tr>\n",
       "    <tr>\n",
       "      <th>Roadster</th>\n",
       "      <td>38889.5</td>\n",
       "      <td>306.0</td>\n",
       "      <td>12.0</td>\n",
       "      <td>52245.0</td>\n",
       "      <td>4376.5</td>\n",
       "      <td>1827.0</td>\n",
       "      <td>1291.0</td>\n",
       "      <td>2495.0</td>\n",
       "      <td>1739.0</td>\n",
       "      <td>2.0</td>\n",
       "      <td>...</td>\n",
       "      <td>6.0</td>\n",
       "      <td>11.4</td>\n",
       "      <td>6.4</td>\n",
       "      <td>8.2</td>\n",
       "      <td>214.0</td>\n",
       "      <td>64.0</td>\n",
       "      <td>6.0</td>\n",
       "      <td>2018.0</td>\n",
       "      <td>213.0</td>\n",
       "      <td>0.000</td>\n",
       "    </tr>\n",
       "    <tr>\n",
       "      <th>SUV</th>\n",
       "      <td>53292.0</td>\n",
       "      <td>150.0</td>\n",
       "      <td>12.0</td>\n",
       "      <td>23700.0</td>\n",
       "      <td>4439.0</td>\n",
       "      <td>1838.0</td>\n",
       "      <td>1616.0</td>\n",
       "      <td>2670.0</td>\n",
       "      <td>2019.0</td>\n",
       "      <td>5.0</td>\n",
       "      <td>...</td>\n",
       "      <td>4.0</td>\n",
       "      <td>5.4</td>\n",
       "      <td>4.2</td>\n",
       "      <td>4.7</td>\n",
       "      <td>126.0</td>\n",
       "      <td>53.0</td>\n",
       "      <td>6.0</td>\n",
       "      <td>2020.0</td>\n",
       "      <td>455.0</td>\n",
       "      <td>1.383</td>\n",
       "    </tr>\n",
       "    <tr>\n",
       "      <th>SUV/Pickup</th>\n",
       "      <td>40000.0</td>\n",
       "      <td>150.0</td>\n",
       "      <td>12.0</td>\n",
       "      <td>26890.0</td>\n",
       "      <td>NaN</td>\n",
       "      <td>NaN</td>\n",
       "      <td>NaN</td>\n",
       "      <td>NaN</td>\n",
       "      <td>NaN</td>\n",
       "      <td>NaN</td>\n",
       "      <td>...</td>\n",
       "      <td>NaN</td>\n",
       "      <td>NaN</td>\n",
       "      <td>NaN</td>\n",
       "      <td>NaN</td>\n",
       "      <td>NaN</td>\n",
       "      <td>NaN</td>\n",
       "      <td>6.0</td>\n",
       "      <td>2021.0</td>\n",
       "      <td>NaN</td>\n",
       "      <td>NaN</td>\n",
       "    </tr>\n",
       "    <tr>\n",
       "      <th>Sedan</th>\n",
       "      <td>58922.0</td>\n",
       "      <td>120.0</td>\n",
       "      <td>12.0</td>\n",
       "      <td>17400.0</td>\n",
       "      <td>4268.0</td>\n",
       "      <td>1785.0</td>\n",
       "      <td>1458.0</td>\n",
       "      <td>2620.0</td>\n",
       "      <td>1790.0</td>\n",
       "      <td>5.0</td>\n",
       "      <td>...</td>\n",
       "      <td>4.0</td>\n",
       "      <td>5.3</td>\n",
       "      <td>3.8</td>\n",
       "      <td>4.4</td>\n",
       "      <td>109.0</td>\n",
       "      <td>47.0</td>\n",
       "      <td>6.0</td>\n",
       "      <td>2019.0</td>\n",
       "      <td>358.0</td>\n",
       "      <td>1.026</td>\n",
       "    </tr>\n",
       "    <tr>\n",
       "      <th>Small</th>\n",
       "      <td>47941.0</td>\n",
       "      <td>120.0</td>\n",
       "      <td>12.0</td>\n",
       "      <td>19200.0</td>\n",
       "      <td>NaN</td>\n",
       "      <td>NaN</td>\n",
       "      <td>NaN</td>\n",
       "      <td>NaN</td>\n",
       "      <td>NaN</td>\n",
       "      <td>NaN</td>\n",
       "      <td>...</td>\n",
       "      <td>NaN</td>\n",
       "      <td>NaN</td>\n",
       "      <td>NaN</td>\n",
       "      <td>NaN</td>\n",
       "      <td>NaN</td>\n",
       "      <td>NaN</td>\n",
       "      <td>5.0</td>\n",
       "      <td>2020.0</td>\n",
       "      <td>NaN</td>\n",
       "      <td>NaN</td>\n",
       "    </tr>\n",
       "    <tr>\n",
       "      <th>Targa</th>\n",
       "      <td>13000.0</td>\n",
       "      <td>450.0</td>\n",
       "      <td>12.0</td>\n",
       "      <td>198900.0</td>\n",
       "      <td>4519.0</td>\n",
       "      <td>1852.0</td>\n",
       "      <td>1299.0</td>\n",
       "      <td>2450.0</td>\n",
       "      <td>2085.0</td>\n",
       "      <td>2.0</td>\n",
       "      <td>...</td>\n",
       "      <td>6.0</td>\n",
       "      <td>10.2</td>\n",
       "      <td>6.7</td>\n",
       "      <td>8.0</td>\n",
       "      <td>227.0</td>\n",
       "      <td>67.0</td>\n",
       "      <td>5.0</td>\n",
       "      <td>2021.0</td>\n",
       "      <td>132.0</td>\n",
       "      <td>163.000</td>\n",
       "    </tr>\n",
       "  </tbody>\n",
       "</table>\n",
       "<p>14 rows × 22 columns</p>\n",
       "</div>"
      ],
      "text/plain": [
       "              mileage_km  power_hp  warranty_months     price  length_mm  \\\n",
       "body_type                                                                  \n",
       "Classic             10.0       NaN             36.0   34500.0        NaN   \n",
       "Commercial       90812.0     102.0             12.0   13966.0        NaN   \n",
       "Convertible      49563.0     184.0             12.0   29990.0     4491.0   \n",
       "Coupe            56005.0     313.0             12.0   50900.0     4673.0   \n",
       "Coupe/Sports     27400.0     431.0             12.0   88429.5        NaN   \n",
       "Estate           84859.0     143.0             12.0   19490.0     4668.0   \n",
       "MPV              97200.0     130.0             12.0   16500.0     4419.0   \n",
       "Pickup          160000.0     325.0              0.0   38900.0     4820.0   \n",
       "Roadster         38889.5     306.0             12.0   52245.0     4376.5   \n",
       "SUV              53292.0     150.0             12.0   23700.0     4439.0   \n",
       "SUV/Pickup       40000.0     150.0             12.0   26890.0        NaN   \n",
       "Sedan            58922.0     120.0             12.0   17400.0     4268.0   \n",
       "Small            47941.0     120.0             12.0   19200.0        NaN   \n",
       "Targa            13000.0     450.0             12.0  198900.0     4519.0   \n",
       "\n",
       "              width_mm  height_mm  wheelbase_mm  weight_kg  doors  ...  \\\n",
       "body_type                                                          ...   \n",
       "Classic            NaN        NaN           NaN        NaN    NaN  ...   \n",
       "Commercial         NaN        NaN           NaN        NaN    NaN  ...   \n",
       "Convertible     1810.0     1409.0        2605.0     1935.0    2.0  ...   \n",
       "Coupe           1887.0     1404.0        2760.0     2065.0    2.0  ...   \n",
       "Coupe/Sports       NaN        NaN           NaN        NaN    NaN  ...   \n",
       "Estate          1816.0     1459.0        2730.0     2025.0    5.0  ...   \n",
       "MPV             1829.0     1645.0        2750.0     2080.0    5.0  ...   \n",
       "Pickup          2063.0     1977.0        3119.0     3500.0    4.0  ...   \n",
       "Roadster        1827.0     1291.0        2495.0     1739.0    2.0  ...   \n",
       "SUV             1838.0     1616.0        2670.0     2019.0    5.0  ...   \n",
       "SUV/Pickup         NaN        NaN           NaN        NaN    NaN  ...   \n",
       "Sedan           1785.0     1458.0        2620.0     1790.0    5.0  ...   \n",
       "Small              NaN        NaN           NaN        NaN    NaN  ...   \n",
       "Targa           1852.0     1299.0        2450.0     2085.0    2.0  ...   \n",
       "\n",
       "              cylinders  consumption_city_l_100km  \\\n",
       "body_type                                           \n",
       "Classic             NaN                       NaN   \n",
       "Commercial          NaN                       NaN   \n",
       "Convertible         4.0                       7.6   \n",
       "Coupe               6.0                       7.5   \n",
       "Coupe/Sports        NaN                       NaN   \n",
       "Estate              4.0                       5.2   \n",
       "MPV                 4.0                       5.4   \n",
       "Pickup              8.0                      26.7   \n",
       "Roadster            6.0                      11.4   \n",
       "SUV                 4.0                       5.4   \n",
       "SUV/Pickup          NaN                       NaN   \n",
       "Sedan               4.0                       5.3   \n",
       "Small               NaN                       NaN   \n",
       "Targa               6.0                      10.2   \n",
       "\n",
       "              consumption_highway_l_100km  consumption_mixed_l_100km  \\\n",
       "body_type                                                              \n",
       "Classic                               NaN                        NaN   \n",
       "Commercial                            NaN                        NaN   \n",
       "Convertible                           5.2                        6.0   \n",
       "Coupe                                 5.3                        6.2   \n",
       "Coupe/Sports                          NaN                        NaN   \n",
       "Estate                                3.9                        4.4   \n",
       "MPV                                   4.2                        4.7   \n",
       "Pickup                               14.4                       20.6   \n",
       "Roadster                              6.4                        8.2   \n",
       "SUV                                   4.2                        4.7   \n",
       "SUV/Pickup                            NaN                        NaN   \n",
       "Sedan                                 3.8                        4.4   \n",
       "Small                                 NaN                        NaN   \n",
       "Targa                                 6.7                        8.0   \n",
       "\n",
       "              co2_g_km  tank_capacity_l  registration_month  \\\n",
       "body_type                                                     \n",
       "Classic            NaN              NaN                12.0   \n",
       "Commercial         NaN              NaN                 1.0   \n",
       "Convertible      154.0             57.0                 6.0   \n",
       "Coupe            170.0             66.0                 6.0   \n",
       "Coupe/Sports       NaN              NaN                 6.0   \n",
       "Estate           115.0             53.0                 6.0   \n",
       "MPV              119.0             55.0                 6.0   \n",
       "Pickup             NaN            121.0                 5.0   \n",
       "Roadster         214.0             64.0                 6.0   \n",
       "SUV              126.0             53.0                 6.0   \n",
       "SUV/Pickup         NaN              NaN                 6.0   \n",
       "Sedan            109.0             47.0                 6.0   \n",
       "Small              NaN              NaN                 5.0   \n",
       "Targa            227.0             67.0                 5.0   \n",
       "\n",
       "              registration_year  trunk_dim_1  trunk_dim_2  \n",
       "body_type                                                  \n",
       "Classic                  2023.0          NaN          NaN  \n",
       "Commercial               2020.0          NaN          NaN  \n",
       "Convertible              2018.0        190.0      215.000  \n",
       "Coupe                    2019.0        430.0        0.000  \n",
       "Coupe/Sports             2019.0          NaN          NaN  \n",
       "Estate                   2019.0        540.0        1.510  \n",
       "MPV                      2017.0        455.0        1.694  \n",
       "Pickup                   2005.0        623.0        1.492  \n",
       "Roadster                 2018.0        213.0        0.000  \n",
       "SUV                      2020.0        455.0        1.383  \n",
       "SUV/Pickup               2021.0          NaN          NaN  \n",
       "Sedan                    2019.0        358.0        1.026  \n",
       "Small                    2020.0          NaN          NaN  \n",
       "Targa                    2021.0        132.0      163.000  \n",
       "\n",
       "[14 rows x 22 columns]"
      ]
     },
     "execution_count": 652,
     "metadata": {},
     "output_type": "execute_result"
    }
   ],
   "source": [
    "data_medians = df.groupby(by='body_type')[df.select_dtypes(include='number').columns.to_list()].median()\n",
    "data_medians"
   ]
  },
  {
   "cell_type": "markdown",
   "id": "697738ee",
   "metadata": {},
   "source": [
    "### mileage_km\n",
    "In this column, there are just a few readings with over 1M kilometers. Those are probably wrong data and, given the low proportion of outliers her, we can safely remove them using the Tukey's fence with k=1.5.\n",
    "Since the distribution is strongly skewed, we will apply a log transform before passing it to the ML model."
   ]
  },
  {
   "cell_type": "code",
   "execution_count": 653,
   "id": "cd584b81",
   "metadata": {},
   "outputs": [],
   "source": [
    "df = drop_outliers(df, ['mileage_km'])"
   ]
  },
  {
   "cell_type": "code",
   "execution_count": 654,
   "id": "2da8f65e",
   "metadata": {},
   "outputs": [
    {
     "data": {
      "text/plain": [
       "(102961, 27)"
      ]
     },
     "execution_count": 654,
     "metadata": {},
     "output_type": "execute_result"
    }
   ],
   "source": [
    "df.shape"
   ]
  },
  {
   "cell_type": "markdown",
   "id": "3f25a9e1",
   "metadata": {},
   "source": [
    "### price\n",
    "This is the target and it contains important information. However, the strong outliers might alter the model results. These probably belong to the luxury segment. There are also values too low that shoul be corrected. \n",
    "\n",
    "The best way to proceed here is to apply a log transform later, so the model's performance won't be affected negatively, and remove the most upper extreme values applying Tukey with k=3.5 to remove the luxury segment. The lower values can be input with the median, depending on the boy type."
   ]
  },
  {
   "cell_type": "code",
   "execution_count": 655,
   "id": "be4da902",
   "metadata": {},
   "outputs": [
    {
     "data": {
      "text/html": [
       "<div>\n",
       "<style scoped>\n",
       "    .dataframe tbody tr th:only-of-type {\n",
       "        vertical-align: middle;\n",
       "    }\n",
       "\n",
       "    .dataframe tbody tr th {\n",
       "        vertical-align: top;\n",
       "    }\n",
       "\n",
       "    .dataframe thead th {\n",
       "        text-align: right;\n",
       "    }\n",
       "</style>\n",
       "<table border=\"1\" class=\"dataframe\">\n",
       "  <thead>\n",
       "    <tr style=\"text-align: right;\">\n",
       "      <th></th>\n",
       "      <th>fuel_type</th>\n",
       "      <th>mileage_km</th>\n",
       "      <th>body_type</th>\n",
       "      <th>transmission</th>\n",
       "      <th>power_hp</th>\n",
       "      <th>warranty_months</th>\n",
       "      <th>emissions_label</th>\n",
       "      <th>price</th>\n",
       "      <th>length_mm</th>\n",
       "      <th>width_mm</th>\n",
       "      <th>...</th>\n",
       "      <th>turbo</th>\n",
       "      <th>consumption_city_l_100km</th>\n",
       "      <th>consumption_highway_l_100km</th>\n",
       "      <th>consumption_mixed_l_100km</th>\n",
       "      <th>co2_g_km</th>\n",
       "      <th>tank_capacity_l</th>\n",
       "      <th>registration_month</th>\n",
       "      <th>registration_year</th>\n",
       "      <th>trunk_dim_1</th>\n",
       "      <th>trunk_dim_2</th>\n",
       "    </tr>\n",
       "  </thead>\n",
       "  <tbody>\n",
       "    <tr>\n",
       "      <th>10028</th>\n",
       "      <td>Petrol</td>\n",
       "      <td>2.0</td>\n",
       "      <td>SUV</td>\n",
       "      <td>Automatic</td>\n",
       "      <td>129.0</td>\n",
       "      <td>12.0</td>\n",
       "      <td>C</td>\n",
       "      <td>1.0</td>\n",
       "      <td>4440.0</td>\n",
       "      <td>1863.0</td>\n",
       "      <td>...</td>\n",
       "      <td>Turbo</td>\n",
       "      <td>0.0</td>\n",
       "      <td>0.0</td>\n",
       "      <td>0.0</td>\n",
       "      <td>NaN</td>\n",
       "      <td>54.0</td>\n",
       "      <td>12</td>\n",
       "      <td>2023</td>\n",
       "      <td>452.0</td>\n",
       "      <td>0.00</td>\n",
       "    </tr>\n",
       "    <tr>\n",
       "      <th>20159</th>\n",
       "      <td>Diesel</td>\n",
       "      <td>180000.0</td>\n",
       "      <td>Coupe/Sports</td>\n",
       "      <td>Manual</td>\n",
       "      <td>231.0</td>\n",
       "      <td>0.0</td>\n",
       "      <td>NaN</td>\n",
       "      <td>200.0</td>\n",
       "      <td>NaN</td>\n",
       "      <td>NaN</td>\n",
       "      <td>...</td>\n",
       "      <td>NaN</td>\n",
       "      <td>NaN</td>\n",
       "      <td>NaN</td>\n",
       "      <td>NaN</td>\n",
       "      <td>NaN</td>\n",
       "      <td>NaN</td>\n",
       "      <td>1</td>\n",
       "      <td>2008</td>\n",
       "      <td>NaN</td>\n",
       "      <td>NaN</td>\n",
       "    </tr>\n",
       "    <tr>\n",
       "      <th>39794</th>\n",
       "      <td>Diesel</td>\n",
       "      <td>67307.0</td>\n",
       "      <td>MPV</td>\n",
       "      <td>Manual</td>\n",
       "      <td>150.0</td>\n",
       "      <td>12.0</td>\n",
       "      <td>C</td>\n",
       "      <td>269.0</td>\n",
       "      <td>4796.0</td>\n",
       "      <td>1916.0</td>\n",
       "      <td>...</td>\n",
       "      <td>Turbo</td>\n",
       "      <td>5.6</td>\n",
       "      <td>4.6</td>\n",
       "      <td>5.0</td>\n",
       "      <td>129.0</td>\n",
       "      <td>70.0</td>\n",
       "      <td>7</td>\n",
       "      <td>2016</td>\n",
       "      <td>285.0</td>\n",
       "      <td>2.02</td>\n",
       "    </tr>\n",
       "    <tr>\n",
       "      <th>73536</th>\n",
       "      <td>Petrol</td>\n",
       "      <td>208000.0</td>\n",
       "      <td>Sedan</td>\n",
       "      <td>Manual</td>\n",
       "      <td>75.0</td>\n",
       "      <td>0.0</td>\n",
       "      <td>B</td>\n",
       "      <td>690.0</td>\n",
       "      <td>NaN</td>\n",
       "      <td>1652.0</td>\n",
       "      <td>...</td>\n",
       "      <td>Not specified</td>\n",
       "      <td>8.4</td>\n",
       "      <td>5.0</td>\n",
       "      <td>6.3</td>\n",
       "      <td>NaN</td>\n",
       "      <td>50.0</td>\n",
       "      <td>7</td>\n",
       "      <td>2003</td>\n",
       "      <td>0.0</td>\n",
       "      <td>0.00</td>\n",
       "    </tr>\n",
       "    <tr>\n",
       "      <th>72288</th>\n",
       "      <td>Diesel</td>\n",
       "      <td>170000.0</td>\n",
       "      <td>Sedan</td>\n",
       "      <td>Automatic</td>\n",
       "      <td>100.0</td>\n",
       "      <td>0.0</td>\n",
       "      <td>NaN</td>\n",
       "      <td>699.0</td>\n",
       "      <td>NaN</td>\n",
       "      <td>1798.0</td>\n",
       "      <td>...</td>\n",
       "      <td>Not specified</td>\n",
       "      <td>7.7</td>\n",
       "      <td>4.5</td>\n",
       "      <td>5.7</td>\n",
       "      <td>NaN</td>\n",
       "      <td>61.0</td>\n",
       "      <td>6</td>\n",
       "      <td>2004</td>\n",
       "      <td>0.0</td>\n",
       "      <td>0.00</td>\n",
       "    </tr>\n",
       "  </tbody>\n",
       "</table>\n",
       "<p>5 rows × 27 columns</p>\n",
       "</div>"
      ],
      "text/plain": [
       "      fuel_type  mileage_km     body_type transmission  power_hp  \\\n",
       "10028    Petrol         2.0           SUV    Automatic     129.0   \n",
       "20159    Diesel    180000.0  Coupe/Sports       Manual     231.0   \n",
       "39794    Diesel     67307.0           MPV       Manual     150.0   \n",
       "73536    Petrol    208000.0         Sedan       Manual      75.0   \n",
       "72288    Diesel    170000.0         Sedan    Automatic     100.0   \n",
       "\n",
       "       warranty_months emissions_label  price  length_mm  width_mm  ...  \\\n",
       "10028             12.0               C    1.0     4440.0    1863.0  ...   \n",
       "20159              0.0             NaN  200.0        NaN       NaN  ...   \n",
       "39794             12.0               C  269.0     4796.0    1916.0  ...   \n",
       "73536              0.0               B  690.0        NaN    1652.0  ...   \n",
       "72288              0.0             NaN  699.0        NaN    1798.0  ...   \n",
       "\n",
       "               turbo  consumption_city_l_100km  consumption_highway_l_100km  \\\n",
       "10028          Turbo                       0.0                          0.0   \n",
       "20159            NaN                       NaN                          NaN   \n",
       "39794          Turbo                       5.6                          4.6   \n",
       "73536  Not specified                       8.4                          5.0   \n",
       "72288  Not specified                       7.7                          4.5   \n",
       "\n",
       "       consumption_mixed_l_100km  co2_g_km  tank_capacity_l  \\\n",
       "10028                        0.0       NaN             54.0   \n",
       "20159                        NaN       NaN              NaN   \n",
       "39794                        5.0     129.0             70.0   \n",
       "73536                        6.3       NaN             50.0   \n",
       "72288                        5.7       NaN             61.0   \n",
       "\n",
       "       registration_month registration_year  trunk_dim_1  trunk_dim_2  \n",
       "10028                  12              2023        452.0         0.00  \n",
       "20159                   1              2008          NaN          NaN  \n",
       "39794                   7              2016        285.0         2.02  \n",
       "73536                   7              2003          0.0         0.00  \n",
       "72288                   6              2004          0.0         0.00  \n",
       "\n",
       "[5 rows x 27 columns]"
      ]
     },
     "execution_count": 655,
     "metadata": {},
     "output_type": "execute_result"
    }
   ],
   "source": [
    "df[df['price'] < 1000].sort_values(by='price').head()"
   ]
  },
  {
   "cell_type": "code",
   "execution_count": 656,
   "id": "b29d1dc5",
   "metadata": {},
   "outputs": [],
   "source": [
    "# drop upper outliers\n",
    "df = drop_outliers(df, ['price'], k=3.5)  \n",
    "\n",
    "# input lower values\n",
    "df['price'] = df.apply(\n",
    "    lambda x: data_medians.loc[x['body_type'], 'price'] if x['price'] < 500 else x['price'],\n",
    "    axis=1\n",
    ")"
   ]
  },
  {
   "cell_type": "code",
   "execution_count": 657,
   "id": "0d61ac52",
   "metadata": {},
   "outputs": [
    {
     "data": {
      "text/plain": [
       "(98228, 27)"
      ]
     },
     "execution_count": 657,
     "metadata": {},
     "output_type": "execute_result"
    }
   ],
   "source": [
    "df.shape"
   ]
  },
  {
   "cell_type": "markdown",
   "id": "bb41c600",
   "metadata": {},
   "source": [
    "### power_hp\n",
    "Similar situation here. Lower values, less than 60hp are unplausible, unless it's a motorcycle. Expensive models have much more power that regular ones. We're going to delete extreme values and apply a log transform to overcome the skewness."
   ]
  },
  {
   "cell_type": "code",
   "execution_count": 658,
   "id": "c7defd0f",
   "metadata": {},
   "outputs": [
    {
     "data": {
      "text/html": [
       "<div>\n",
       "<style scoped>\n",
       "    .dataframe tbody tr th:only-of-type {\n",
       "        vertical-align: middle;\n",
       "    }\n",
       "\n",
       "    .dataframe tbody tr th {\n",
       "        vertical-align: top;\n",
       "    }\n",
       "\n",
       "    .dataframe thead th {\n",
       "        text-align: right;\n",
       "    }\n",
       "</style>\n",
       "<table border=\"1\" class=\"dataframe\">\n",
       "  <thead>\n",
       "    <tr style=\"text-align: right;\">\n",
       "      <th></th>\n",
       "      <th>fuel_type</th>\n",
       "      <th>mileage_km</th>\n",
       "      <th>body_type</th>\n",
       "      <th>transmission</th>\n",
       "      <th>power_hp</th>\n",
       "      <th>warranty_months</th>\n",
       "      <th>emissions_label</th>\n",
       "      <th>price</th>\n",
       "      <th>length_mm</th>\n",
       "      <th>width_mm</th>\n",
       "      <th>...</th>\n",
       "      <th>turbo</th>\n",
       "      <th>consumption_city_l_100km</th>\n",
       "      <th>consumption_highway_l_100km</th>\n",
       "      <th>consumption_mixed_l_100km</th>\n",
       "      <th>co2_g_km</th>\n",
       "      <th>tank_capacity_l</th>\n",
       "      <th>registration_month</th>\n",
       "      <th>registration_year</th>\n",
       "      <th>trunk_dim_1</th>\n",
       "      <th>trunk_dim_2</th>\n",
       "    </tr>\n",
       "  </thead>\n",
       "  <tbody>\n",
       "    <tr>\n",
       "      <th>23323</th>\n",
       "      <td>Petrol</td>\n",
       "      <td>35000.0</td>\n",
       "      <td>SUV/Pickup</td>\n",
       "      <td>Automatic</td>\n",
       "      <td>3.000</td>\n",
       "      <td>NaN</td>\n",
       "      <td>C</td>\n",
       "      <td>68000.0</td>\n",
       "      <td>NaN</td>\n",
       "      <td>NaN</td>\n",
       "      <td>...</td>\n",
       "      <td>NaN</td>\n",
       "      <td>NaN</td>\n",
       "      <td>NaN</td>\n",
       "      <td>NaN</td>\n",
       "      <td>NaN</td>\n",
       "      <td>NaN</td>\n",
       "      <td>4</td>\n",
       "      <td>2021</td>\n",
       "      <td>NaN</td>\n",
       "      <td>NaN</td>\n",
       "    </tr>\n",
       "    <tr>\n",
       "      <th>44680</th>\n",
       "      <td>Hybrid</td>\n",
       "      <td>24192.0</td>\n",
       "      <td>SUV/Pickup</td>\n",
       "      <td>Automatic</td>\n",
       "      <td>1.000</td>\n",
       "      <td>12.0</td>\n",
       "      <td>ECO</td>\n",
       "      <td>37890.0</td>\n",
       "      <td>NaN</td>\n",
       "      <td>NaN</td>\n",
       "      <td>...</td>\n",
       "      <td>NaN</td>\n",
       "      <td>NaN</td>\n",
       "      <td>NaN</td>\n",
       "      <td>NaN</td>\n",
       "      <td>NaN</td>\n",
       "      <td>NaN</td>\n",
       "      <td>2</td>\n",
       "      <td>2022</td>\n",
       "      <td>NaN</td>\n",
       "      <td>NaN</td>\n",
       "    </tr>\n",
       "    <tr>\n",
       "      <th>44681</th>\n",
       "      <td>Hybrid</td>\n",
       "      <td>24192.0</td>\n",
       "      <td>SUV/Pickup</td>\n",
       "      <td>Automatic</td>\n",
       "      <td>1.000</td>\n",
       "      <td>12.0</td>\n",
       "      <td>ECO</td>\n",
       "      <td>37890.0</td>\n",
       "      <td>NaN</td>\n",
       "      <td>NaN</td>\n",
       "      <td>...</td>\n",
       "      <td>NaN</td>\n",
       "      <td>NaN</td>\n",
       "      <td>NaN</td>\n",
       "      <td>NaN</td>\n",
       "      <td>NaN</td>\n",
       "      <td>NaN</td>\n",
       "      <td>2</td>\n",
       "      <td>2022</td>\n",
       "      <td>NaN</td>\n",
       "      <td>NaN</td>\n",
       "    </tr>\n",
       "    <tr>\n",
       "      <th>71796</th>\n",
       "      <td>Petrol</td>\n",
       "      <td>20101.0</td>\n",
       "      <td>SUV/Pickup</td>\n",
       "      <td>Manual</td>\n",
       "      <td>1.000</td>\n",
       "      <td>12.0</td>\n",
       "      <td>C</td>\n",
       "      <td>21290.0</td>\n",
       "      <td>NaN</td>\n",
       "      <td>NaN</td>\n",
       "      <td>...</td>\n",
       "      <td>NaN</td>\n",
       "      <td>NaN</td>\n",
       "      <td>NaN</td>\n",
       "      <td>NaN</td>\n",
       "      <td>NaN</td>\n",
       "      <td>NaN</td>\n",
       "      <td>4</td>\n",
       "      <td>2022</td>\n",
       "      <td>NaN</td>\n",
       "      <td>NaN</td>\n",
       "    </tr>\n",
       "    <tr>\n",
       "      <th>71797</th>\n",
       "      <td>Petrol</td>\n",
       "      <td>20101.0</td>\n",
       "      <td>SUV/Pickup</td>\n",
       "      <td>Manual</td>\n",
       "      <td>1.000</td>\n",
       "      <td>12.0</td>\n",
       "      <td>C</td>\n",
       "      <td>21290.0</td>\n",
       "      <td>NaN</td>\n",
       "      <td>NaN</td>\n",
       "      <td>...</td>\n",
       "      <td>NaN</td>\n",
       "      <td>NaN</td>\n",
       "      <td>NaN</td>\n",
       "      <td>NaN</td>\n",
       "      <td>NaN</td>\n",
       "      <td>NaN</td>\n",
       "      <td>4</td>\n",
       "      <td>2022</td>\n",
       "      <td>NaN</td>\n",
       "      <td>NaN</td>\n",
       "    </tr>\n",
       "    <tr>\n",
       "      <th>79202</th>\n",
       "      <td>Diesel</td>\n",
       "      <td>1.0</td>\n",
       "      <td>Small</td>\n",
       "      <td>Automatic</td>\n",
       "      <td>1.000</td>\n",
       "      <td>0.0</td>\n",
       "      <td>NaN</td>\n",
       "      <td>14500.0</td>\n",
       "      <td>NaN</td>\n",
       "      <td>NaN</td>\n",
       "      <td>...</td>\n",
       "      <td>NaN</td>\n",
       "      <td>NaN</td>\n",
       "      <td>NaN</td>\n",
       "      <td>NaN</td>\n",
       "      <td>NaN</td>\n",
       "      <td>NaN</td>\n",
       "      <td>1</td>\n",
       "      <td>2013</td>\n",
       "      <td>NaN</td>\n",
       "      <td>NaN</td>\n",
       "    </tr>\n",
       "    <tr>\n",
       "      <th>86067</th>\n",
       "      <td>Diesel</td>\n",
       "      <td>140000.0</td>\n",
       "      <td>Sedan</td>\n",
       "      <td>Manual</td>\n",
       "      <td>1.951</td>\n",
       "      <td>NaN</td>\n",
       "      <td>NaN</td>\n",
       "      <td>1200.0</td>\n",
       "      <td>NaN</td>\n",
       "      <td>NaN</td>\n",
       "      <td>...</td>\n",
       "      <td>NaN</td>\n",
       "      <td>NaN</td>\n",
       "      <td>NaN</td>\n",
       "      <td>NaN</td>\n",
       "      <td>NaN</td>\n",
       "      <td>NaN</td>\n",
       "      <td>8</td>\n",
       "      <td>2001</td>\n",
       "      <td>NaN</td>\n",
       "      <td>NaN</td>\n",
       "    </tr>\n",
       "  </tbody>\n",
       "</table>\n",
       "<p>7 rows × 27 columns</p>\n",
       "</div>"
      ],
      "text/plain": [
       "      fuel_type  mileage_km   body_type transmission  power_hp  \\\n",
       "23323    Petrol     35000.0  SUV/Pickup    Automatic     3.000   \n",
       "44680    Hybrid     24192.0  SUV/Pickup    Automatic     1.000   \n",
       "44681    Hybrid     24192.0  SUV/Pickup    Automatic     1.000   \n",
       "71796    Petrol     20101.0  SUV/Pickup       Manual     1.000   \n",
       "71797    Petrol     20101.0  SUV/Pickup       Manual     1.000   \n",
       "79202    Diesel         1.0       Small    Automatic     1.000   \n",
       "86067    Diesel    140000.0       Sedan       Manual     1.951   \n",
       "\n",
       "       warranty_months emissions_label    price  length_mm  width_mm  ...  \\\n",
       "23323              NaN               C  68000.0        NaN       NaN  ...   \n",
       "44680             12.0             ECO  37890.0        NaN       NaN  ...   \n",
       "44681             12.0             ECO  37890.0        NaN       NaN  ...   \n",
       "71796             12.0               C  21290.0        NaN       NaN  ...   \n",
       "71797             12.0               C  21290.0        NaN       NaN  ...   \n",
       "79202              0.0             NaN  14500.0        NaN       NaN  ...   \n",
       "86067              NaN             NaN   1200.0        NaN       NaN  ...   \n",
       "\n",
       "       turbo  consumption_city_l_100km  consumption_highway_l_100km  \\\n",
       "23323    NaN                       NaN                          NaN   \n",
       "44680    NaN                       NaN                          NaN   \n",
       "44681    NaN                       NaN                          NaN   \n",
       "71796    NaN                       NaN                          NaN   \n",
       "71797    NaN                       NaN                          NaN   \n",
       "79202    NaN                       NaN                          NaN   \n",
       "86067    NaN                       NaN                          NaN   \n",
       "\n",
       "       consumption_mixed_l_100km  co2_g_km  tank_capacity_l  \\\n",
       "23323                        NaN       NaN              NaN   \n",
       "44680                        NaN       NaN              NaN   \n",
       "44681                        NaN       NaN              NaN   \n",
       "71796                        NaN       NaN              NaN   \n",
       "71797                        NaN       NaN              NaN   \n",
       "79202                        NaN       NaN              NaN   \n",
       "86067                        NaN       NaN              NaN   \n",
       "\n",
       "       registration_month registration_year  trunk_dim_1  trunk_dim_2  \n",
       "23323                   4              2021          NaN          NaN  \n",
       "44680                   2              2022          NaN          NaN  \n",
       "44681                   2              2022          NaN          NaN  \n",
       "71796                   4              2022          NaN          NaN  \n",
       "71797                   4              2022          NaN          NaN  \n",
       "79202                   1              2013          NaN          NaN  \n",
       "86067                   8              2001          NaN          NaN  \n",
       "\n",
       "[7 rows x 27 columns]"
      ]
     },
     "execution_count": 658,
     "metadata": {},
     "output_type": "execute_result"
    }
   ],
   "source": [
    "df[df['power_hp'] < 5]"
   ]
  },
  {
   "cell_type": "code",
   "execution_count": 659,
   "id": "7c58b2f0",
   "metadata": {},
   "outputs": [],
   "source": [
    "# input lower values\n",
    "df['power_hp'] = df.apply(\n",
    "    lambda x: data_medians.loc[x['body_type'], 'power_hp'] if x['power_hp'] < 60 else x['power_hp'],\n",
    "    axis=1\n",
    ")"
   ]
  },
  {
   "cell_type": "code",
   "execution_count": 660,
   "id": "99b89ce8",
   "metadata": {},
   "outputs": [],
   "source": [
    "df = drop_outliers(df, ['power_hp'], k=3.5)"
   ]
  },
  {
   "cell_type": "code",
   "execution_count": 661,
   "id": "8f704cb5",
   "metadata": {},
   "outputs": [
    {
     "data": {
      "text/plain": [
       "(94220, 27)"
      ]
     },
     "execution_count": 661,
     "metadata": {},
     "output_type": "execute_result"
    }
   ],
   "source": [
    "df.shape"
   ]
  },
  {
   "cell_type": "markdown",
   "id": "749752bf",
   "metadata": {},
   "source": [
    "### Dimensional variables\n",
    "The next step will be to check the dimensional variables. The histograms look relatively normal in these variables:\n",
    "- height_mm\n",
    "- length_mm\n",
    "- width_mm\n",
    "- wheelbase_mm\n",
    "- trunk dimensions 1 and 2\n",
    "- weight_mm\n",
    "\n",
    "Here, there is a remarkable percentage of outliers, so a good approach would be to imput the median value (less sensitive to outliers), taking into account the car type. It makes more sense that a sedan type has a similar height that other of the same type, instead of using a global median that would take into account the height of SUVs as well. This approach will only be applied at thos values that make no sense at all after checking the boxplots.\n",
    "\n",
    "This, of course, won't remove all of them and it allows us to keep more consistent and realistic data that otherwise could impact negatively to our models."
   ]
  },
  {
   "cell_type": "markdown",
   "id": "ce1bda23",
   "metadata": {},
   "source": [
    "Now we only have to input those values. Let's create a function to do it."
   ]
  },
  {
   "cell_type": "code",
   "execution_count": 662,
   "id": "786abb98",
   "metadata": {},
   "outputs": [],
   "source": [
    "def input_outliers(data, input_data, cols, k = 1.5):\n",
    "\n",
    "    for col in cols:\n",
    "        q1 = np.nanquantile(data[col], q = 0.25)\n",
    "        q3 = np.nanquantile(data[col], q = 0.75)\n",
    "\n",
    "        ric = q3 - q1\n",
    "        lim_inf = q1 - k*ric\n",
    "        lim_sup = q3 + k*ric\n",
    "\n",
    "        # inputs the values directly to the df\n",
    "        data[col] = data.apply(\n",
    "            lambda row: input_data.loc[row['body_type'], col] if (row[col] < lim_inf) or (row[col] > lim_sup) else row[col],\n",
    "            axis=1\n",
    "        )\n",
    "\n",
    "    return data"
   ]
  },
  {
   "cell_type": "markdown",
   "id": "e55b2ce0",
   "metadata": {},
   "source": [
    "Applying the function, we're going to be more permissive regarding the boundaries leaving k=2. This will just input very extreme values, specially those that look like errors, otherwise we would be dropping important information. \n",
    "\n",
    "The trunk dimensions and the wheelbase can be more dependent on the design. Let's adjust k=2.5 for them\n",
    "\n",
    "Regarding the weight, we're going to input only the inferior part, since there are clear errors there (cars with 0 kg of weight)."
   ]
  },
  {
   "cell_type": "code",
   "execution_count": 663,
   "id": "704bcc57",
   "metadata": {},
   "outputs": [],
   "source": [
    "df = input_outliers(df, data_medians, ['length_mm', 'width_mm', 'height_mm'], k=2)"
   ]
  },
  {
   "cell_type": "code",
   "execution_count": 664,
   "id": "265eed8e",
   "metadata": {},
   "outputs": [],
   "source": [
    "df = input_outliers(df, data_medians, ['wheelbase_mm', 'trunk_dim_1', 'trunk_dim_2'], k=2.5)"
   ]
  },
  {
   "cell_type": "code",
   "execution_count": 665,
   "id": "38872157",
   "metadata": {},
   "outputs": [],
   "source": [
    "df['weight_kg'] = df.apply(\n",
    "    lambda row: data_medians.loc[row['body_type'], 'weight_kg'] if row['weight_kg'] < 900 else row['weight_kg'],\n",
    "    axis=1\n",
    ")"
   ]
  },
  {
   "cell_type": "code",
   "execution_count": 666,
   "id": "d644e823",
   "metadata": {},
   "outputs": [
    {
     "data": {
      "text/plain": [
       "(94220, 27)"
      ]
     },
     "execution_count": 666,
     "metadata": {},
     "output_type": "execute_result"
    }
   ],
   "source": [
    "df.shape"
   ]
  },
  {
   "cell_type": "markdown",
   "id": "7378d2bf",
   "metadata": {},
   "source": [
    "### Consumption\n",
    "This is a curious case, since there are many non-electric models with 0 consumption. Those values are going to be input with the median for each fuel type. Higher values, detected visualy, will be deleted. In the following lines we are not directly excluding the electric cars values, since they're gonna be input with the median of their type, which is zero."
   ]
  },
  {
   "cell_type": "code",
   "execution_count": 667,
   "id": "853698c5",
   "metadata": {},
   "outputs": [
    {
     "data": {
      "text/html": [
       "<div>\n",
       "<style scoped>\n",
       "    .dataframe tbody tr th:only-of-type {\n",
       "        vertical-align: middle;\n",
       "    }\n",
       "\n",
       "    .dataframe tbody tr th {\n",
       "        vertical-align: top;\n",
       "    }\n",
       "\n",
       "    .dataframe thead th {\n",
       "        text-align: right;\n",
       "    }\n",
       "</style>\n",
       "<table border=\"1\" class=\"dataframe\">\n",
       "  <thead>\n",
       "    <tr style=\"text-align: right;\">\n",
       "      <th></th>\n",
       "      <th>consumption_city_l_100km</th>\n",
       "      <th>consumption_highway_l_100km</th>\n",
       "      <th>consumption_mixed_l_100km</th>\n",
       "    </tr>\n",
       "    <tr>\n",
       "      <th>fuel_type</th>\n",
       "      <th></th>\n",
       "      <th></th>\n",
       "      <th></th>\n",
       "    </tr>\n",
       "  </thead>\n",
       "  <tbody>\n",
       "    <tr>\n",
       "      <th>Diesel</th>\n",
       "      <td>5.1</td>\n",
       "      <td>3.90</td>\n",
       "      <td>4.3</td>\n",
       "    </tr>\n",
       "    <tr>\n",
       "      <th>Electric</th>\n",
       "      <td>0.0</td>\n",
       "      <td>0.00</td>\n",
       "      <td>0.0</td>\n",
       "    </tr>\n",
       "    <tr>\n",
       "      <th>Gas</th>\n",
       "      <td>NaN</td>\n",
       "      <td>NaN</td>\n",
       "      <td>NaN</td>\n",
       "    </tr>\n",
       "    <tr>\n",
       "      <th>Hybrid</th>\n",
       "      <td>NaN</td>\n",
       "      <td>NaN</td>\n",
       "      <td>NaN</td>\n",
       "    </tr>\n",
       "    <tr>\n",
       "      <th>Petrol</th>\n",
       "      <td>6.0</td>\n",
       "      <td>4.20</td>\n",
       "      <td>4.9</td>\n",
       "    </tr>\n",
       "    <tr>\n",
       "      <th>Petrol/Ethanol</th>\n",
       "      <td>10.6</td>\n",
       "      <td>5.55</td>\n",
       "      <td>7.4</td>\n",
       "    </tr>\n",
       "    <tr>\n",
       "      <th>Petrol/Gas</th>\n",
       "      <td>6.5</td>\n",
       "      <td>4.50</td>\n",
       "      <td>5.2</td>\n",
       "    </tr>\n",
       "    <tr>\n",
       "      <th>Plug-in Hybrid</th>\n",
       "      <td>0.0</td>\n",
       "      <td>0.00</td>\n",
       "      <td>0.0</td>\n",
       "    </tr>\n",
       "    <tr>\n",
       "      <th>Plug-in Hybrid Diesel/Electric</th>\n",
       "      <td>3.8</td>\n",
       "      <td>4.10</td>\n",
       "      <td>4.0</td>\n",
       "    </tr>\n",
       "    <tr>\n",
       "      <th>Plug-in Hybrid Petrol/Electric</th>\n",
       "      <td>3.4</td>\n",
       "      <td>3.40</td>\n",
       "      <td>3.6</td>\n",
       "    </tr>\n",
       "  </tbody>\n",
       "</table>\n",
       "</div>"
      ],
      "text/plain": [
       "                                consumption_city_l_100km  \\\n",
       "fuel_type                                                  \n",
       "Diesel                                               5.1   \n",
       "Electric                                             0.0   \n",
       "Gas                                                  NaN   \n",
       "Hybrid                                               NaN   \n",
       "Petrol                                               6.0   \n",
       "Petrol/Ethanol                                      10.6   \n",
       "Petrol/Gas                                           6.5   \n",
       "Plug-in Hybrid                                       0.0   \n",
       "Plug-in Hybrid Diesel/Electric                       3.8   \n",
       "Plug-in Hybrid Petrol/Electric                       3.4   \n",
       "\n",
       "                                consumption_highway_l_100km  \\\n",
       "fuel_type                                                     \n",
       "Diesel                                                 3.90   \n",
       "Electric                                               0.00   \n",
       "Gas                                                     NaN   \n",
       "Hybrid                                                  NaN   \n",
       "Petrol                                                 4.20   \n",
       "Petrol/Ethanol                                         5.55   \n",
       "Petrol/Gas                                             4.50   \n",
       "Plug-in Hybrid                                         0.00   \n",
       "Plug-in Hybrid Diesel/Electric                         4.10   \n",
       "Plug-in Hybrid Petrol/Electric                         3.40   \n",
       "\n",
       "                                consumption_mixed_l_100km  \n",
       "fuel_type                                                  \n",
       "Diesel                                                4.3  \n",
       "Electric                                              0.0  \n",
       "Gas                                                   NaN  \n",
       "Hybrid                                                NaN  \n",
       "Petrol                                                4.9  \n",
       "Petrol/Ethanol                                        7.4  \n",
       "Petrol/Gas                                            5.2  \n",
       "Plug-in Hybrid                                        0.0  \n",
       "Plug-in Hybrid Diesel/Electric                        4.0  \n",
       "Plug-in Hybrid Petrol/Electric                        3.6  "
      ]
     },
     "execution_count": 667,
     "metadata": {},
     "output_type": "execute_result"
    }
   ],
   "source": [
    "data_cons = df.groupby(by='fuel_type')[['consumption_city_l_100km', 'consumption_highway_l_100km', 'consumption_mixed_l_100km']].median()\n",
    "data_cons"
   ]
  },
  {
   "cell_type": "code",
   "execution_count": 668,
   "id": "da0ff793",
   "metadata": {},
   "outputs": [],
   "source": [
    "cons_columns = ['consumption_city_l_100km', 'consumption_highway_l_100km', 'consumption_mixed_l_100km']\n",
    "\n",
    "for col in cons_columns:\n",
    "    df[col] = df.apply(\n",
    "        lambda row: data_cons.loc[row['fuel_type'], col] if row[col] == 0 else row[col],\n",
    "        axis=1\n",
    "    )"
   ]
  },
  {
   "cell_type": "markdown",
   "id": "b95904b2",
   "metadata": {},
   "source": [
    "Extreme consuptions, like over 20l/100km in mixed consumption are probably errorce or performance cars."
   ]
  },
  {
   "cell_type": "code",
   "execution_count": 669,
   "id": "71828ac7",
   "metadata": {},
   "outputs": [],
   "source": [
    "df = df[(df['consumption_city_l_100km'] < 25) | (df['consumption_city_l_100km'].isna())]\n",
    "df = df[(df['consumption_highway_l_100km'] < 14) | (df['consumption_highway_l_100km'].isna())]\n",
    "df = df[(df['consumption_mixed_l_100km'] < 20) | (df['consumption_mixed_l_100km'].isna())]"
   ]
  },
  {
   "cell_type": "code",
   "execution_count": 670,
   "id": "1959d125",
   "metadata": {},
   "outputs": [
    {
     "data": {
      "text/plain": [
       "(94212, 27)"
      ]
     },
     "execution_count": 670,
     "metadata": {},
     "output_type": "execute_result"
    }
   ],
   "source": [
    "df.shape"
   ]
  },
  {
   "cell_type": "markdown",
   "id": "7dc61bfd",
   "metadata": {},
   "source": [
    "### warranty_months\n",
    "Here, we found several faulty values, like over 100 months of warranty. We're going to input the median directly to all cars above 50 months."
   ]
  },
  {
   "cell_type": "code",
   "execution_count": 671,
   "id": "897edd5e",
   "metadata": {},
   "outputs": [],
   "source": [
    "df.loc[df['warranty_months'] > 50, 'warranty_months'] = df['warranty_months'].median()"
   ]
  },
  {
   "cell_type": "code",
   "execution_count": 672,
   "id": "7ceeef8e",
   "metadata": {},
   "outputs": [
    {
     "data": {
      "text/plain": [
       "(94212, 27)"
      ]
     },
     "execution_count": 672,
     "metadata": {},
     "output_type": "execute_result"
    }
   ],
   "source": [
    "df.shape"
   ]
  },
  {
   "cell_type": "markdown",
   "id": "b91f580d",
   "metadata": {},
   "source": [
    "### tank_capacity_l\n",
    "Here, we must be careful, since the electric cars have a tank capacity of 0 liters. Excluding those, we can remove upper outliers (above 100l) and input the median to the lower ones (there are Sedans with 20-30 l of capacity, which doesn't really make sense unless it's a truck)"
   ]
  },
  {
   "cell_type": "code",
   "execution_count": 673,
   "id": "5b6a303e",
   "metadata": {},
   "outputs": [],
   "source": [
    "# input lower values excluding electric cars\n",
    "df['tank_capacity_l'] = df.apply(\n",
    "    lambda row: data_medians.loc[row['body_type'], 'tank_capacity_l'] if row['tank_capacity_l'] < 30 and row['fuel_type'] != 'Electric' else row['tank_capacity_l'],\n",
    "    axis=1\n",
    ")\n",
    "\n",
    "# exclude upper extreme values that might be trucks\n",
    "df = df[(df['tank_capacity_l'] < 100) | (df['co2_g_km'].isna())]"
   ]
  },
  {
   "cell_type": "code",
   "execution_count": 674,
   "id": "ce027d23",
   "metadata": {},
   "outputs": [
    {
     "data": {
      "text/plain": [
       "(94128, 27)"
      ]
     },
     "execution_count": 674,
     "metadata": {},
     "output_type": "execute_result"
    }
   ],
   "source": [
    "df.shape"
   ]
  },
  {
   "cell_type": "markdown",
   "id": "6d79ba16",
   "metadata": {},
   "source": [
    "### engine_displacement_cm3\n",
    "This is a difficult one. The % of outliers is high and the distribution is very skewed. The values are realistic, so we won't delete anything for now, but let's consider applying log transform later."
   ]
  },
  {
   "cell_type": "markdown",
   "id": "5bae5d99",
   "metadata": {},
   "source": [
    "### Emissions: co2_g_km\n",
    "Also very skewed, so we can consider log transform. The upper fence is around 200 g/km. Above 500, these might be errors so we can a delete the upper values without affecting the lower ones (low emissions belong to the electric cars)."
   ]
  },
  {
   "cell_type": "code",
   "execution_count": 675,
   "id": "270605be",
   "metadata": {},
   "outputs": [],
   "source": [
    "df = df[(df['co2_g_km'] < 400) | (df['co2_g_km'].isna())]"
   ]
  },
  {
   "cell_type": "code",
   "execution_count": 676,
   "id": "7df33390",
   "metadata": {},
   "outputs": [
    {
     "data": {
      "text/plain": [
       "(94128, 27)"
      ]
     },
     "execution_count": 676,
     "metadata": {},
     "output_type": "execute_result"
    }
   ],
   "source": [
    "df.shape"
   ]
  },
  {
   "cell_type": "markdown",
   "id": "dbcdd0aa",
   "metadata": {},
   "source": [
    "### cylinder\n",
    "Here, we probably have many outliers due to electric or mixedd-type cars. The higher values are for determined types of cars. So, for now, we're keeping them."
   ]
  },
  {
   "cell_type": "markdown",
   "id": "6be3f4ab",
   "metadata": {},
   "source": [
    "## Dataframe check\n",
    "Now, let's chek out the dataframe after dealing with the outliers:"
   ]
  },
  {
   "cell_type": "code",
   "execution_count": 678,
   "id": "576ed78a",
   "metadata": {},
   "outputs": [
    {
     "data": {
      "text/plain": [
       "(94128, 27)"
      ]
     },
     "execution_count": 678,
     "metadata": {},
     "output_type": "execute_result"
    }
   ],
   "source": [
    "df.shape"
   ]
  },
  {
   "cell_type": "code",
   "execution_count": 679,
   "id": "76ca3e55",
   "metadata": {},
   "outputs": [
    {
     "name": "stdout",
     "output_type": "stream",
     "text": [
      "<class 'pandas.core.frame.DataFrame'>\n",
      "Index: 94128 entries, 0 to 106148\n",
      "Data columns (total 27 columns):\n",
      " #   Column                       Non-Null Count  Dtype  \n",
      "---  ------                       --------------  -----  \n",
      " 0   fuel_type                    94128 non-null  object \n",
      " 1   mileage_km                   94128 non-null  float64\n",
      " 2   body_type                    94128 non-null  object \n",
      " 3   transmission                 94128 non-null  object \n",
      " 4   power_hp                     94128 non-null  float64\n",
      " 5   warranty_months              87647 non-null  float64\n",
      " 6   emissions_label              87631 non-null  object \n",
      " 7   price                        94128 non-null  float64\n",
      " 8   length_mm                    70369 non-null  float64\n",
      " 9   width_mm                     70522 non-null  float64\n",
      " 10  height_mm                    70358 non-null  float64\n",
      " 11  wheelbase_mm                 70552 non-null  float64\n",
      " 12  weight_kg                    70552 non-null  float64\n",
      " 13  doors                        70551 non-null  float64\n",
      " 14  seats                        70552 non-null  float64\n",
      " 15  engine_displacement_cm3      70552 non-null  float64\n",
      " 16  cylinders                    68537 non-null  float64\n",
      " 17  turbo                        70552 non-null  object \n",
      " 18  consumption_city_l_100km     70552 non-null  float64\n",
      " 19  consumption_highway_l_100km  70552 non-null  float64\n",
      " 20  consumption_mixed_l_100km    70552 non-null  float64\n",
      " 21  co2_g_km                     53706 non-null  float64\n",
      " 22  tank_capacity_l              70552 non-null  float64\n",
      " 23  registration_month           94128 non-null  int64  \n",
      " 24  registration_year            94128 non-null  int64  \n",
      " 25  trunk_dim_1                  70552 non-null  float64\n",
      " 26  trunk_dim_2                  70552 non-null  float64\n",
      "dtypes: float64(20), int64(2), object(5)\n",
      "memory usage: 20.1+ MB\n"
     ]
    }
   ],
   "source": [
    "df.info()"
   ]
  },
  {
   "cell_type": "code",
   "execution_count": 680,
   "id": "d96b412a",
   "metadata": {},
   "outputs": [
    {
     "data": {
      "text/plain": [
       "fuel_type                          0\n",
       "mileage_km                         0\n",
       "body_type                          0\n",
       "transmission                       0\n",
       "power_hp                           0\n",
       "warranty_months                 6481\n",
       "emissions_label                 6497\n",
       "price                              0\n",
       "length_mm                      23759\n",
       "width_mm                       23606\n",
       "height_mm                      23770\n",
       "wheelbase_mm                   23576\n",
       "weight_kg                      23576\n",
       "doors                          23577\n",
       "seats                          23576\n",
       "engine_displacement_cm3        23576\n",
       "cylinders                      25591\n",
       "turbo                          23576\n",
       "consumption_city_l_100km       23576\n",
       "consumption_highway_l_100km    23576\n",
       "consumption_mixed_l_100km      23576\n",
       "co2_g_km                       40422\n",
       "tank_capacity_l                23576\n",
       "registration_month                 0\n",
       "registration_year                  0\n",
       "trunk_dim_1                    23576\n",
       "trunk_dim_2                    23576\n",
       "dtype: int64"
      ]
     },
     "execution_count": 680,
     "metadata": {},
     "output_type": "execute_result"
    }
   ],
   "source": [
    "df.isna().sum()"
   ]
  },
  {
   "cell_type": "markdown",
   "id": "351fceda",
   "metadata": {},
   "source": [
    "So far, we haven't lose too much information. We still have to deal with NaN's, log transforms and the encodings in the next notebooks. Let's now save the outliers-free df to use it later."
   ]
  },
  {
   "cell_type": "code",
   "execution_count": 681,
   "id": "63c2279c",
   "metadata": {},
   "outputs": [],
   "source": [
    "df.to_csv('../data/data_outliers_free.csv', index=False)"
   ]
  },
  {
   "cell_type": "markdown",
   "id": "af24a139",
   "metadata": {},
   "source": []
  }
 ],
 "metadata": {
  "kernelspec": {
   "display_name": ".venv",
   "language": "python",
   "name": "python3"
  },
  "language_info": {
   "codemirror_mode": {
    "name": "ipython",
    "version": 3
   },
   "file_extension": ".py",
   "mimetype": "text/x-python",
   "name": "python",
   "nbconvert_exporter": "python",
   "pygments_lexer": "ipython3",
   "version": "3.11.9"
  }
 },
 "nbformat": 4,
 "nbformat_minor": 5
}
