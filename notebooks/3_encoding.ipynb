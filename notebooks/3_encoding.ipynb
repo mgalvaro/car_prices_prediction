{
 "cells": [
  {
   "cell_type": "markdown",
   "id": "6fab278e",
   "metadata": {},
   "source": [
    "# 3. Encoding\n",
    "In this stage of the project, we are going to input the encoding to the categorical variables. The ML models only allow us to use numbers, so it is of upmost importance to change these for right numerical variables:\n",
    "- Using LabelEncoder() from scikit-klearn for binary variables.\n",
    "- OnehotEncoder() for the multi-categorical variables.\n",
    "\n",
    "After that, we have to apply log transform to several columns to overcome the strong skewness they have."
   ]
  },
  {
   "cell_type": "markdown",
   "id": "0d29f810",
   "metadata": {},
   "source": [
    "Let's import the necessary libraries and the data, free of outliers."
   ]
  },
  {
   "cell_type": "code",
   "execution_count": 157,
   "id": "9038b49d",
   "metadata": {},
   "outputs": [],
   "source": [
    "import numpy as np\n",
    "import pandas as pd\n",
    "import matplotlib.pyplot as plt\n",
    "import seaborn as sns\n",
    "from sklearn.preprocessing import LabelEncoder\n",
    "from sklearn.preprocessing import OneHotEncoder\n"
   ]
  },
  {
   "cell_type": "code",
   "execution_count": 158,
   "id": "b71c7c5d",
   "metadata": {},
   "outputs": [],
   "source": [
    "df = pd.read_csv(\"../data/data_outliers_free.csv\")"
   ]
  },
  {
   "cell_type": "code",
   "execution_count": 159,
   "id": "3ff8aee6",
   "metadata": {},
   "outputs": [
    {
     "name": "stdout",
     "output_type": "stream",
     "text": [
      "<class 'pandas.core.frame.DataFrame'>\n",
      "RangeIndex: 94128 entries, 0 to 94127\n",
      "Data columns (total 27 columns):\n",
      " #   Column                       Non-Null Count  Dtype  \n",
      "---  ------                       --------------  -----  \n",
      " 0   fuel_type                    94128 non-null  object \n",
      " 1   mileage_km                   94128 non-null  float64\n",
      " 2   body_type                    94128 non-null  object \n",
      " 3   transmission                 94128 non-null  object \n",
      " 4   power_hp                     94128 non-null  float64\n",
      " 5   warranty_months              87647 non-null  float64\n",
      " 6   emissions_label              87631 non-null  object \n",
      " 7   price                        94128 non-null  float64\n",
      " 8   length_mm                    70369 non-null  float64\n",
      " 9   width_mm                     70522 non-null  float64\n",
      " 10  height_mm                    70358 non-null  float64\n",
      " 11  wheelbase_mm                 70552 non-null  float64\n",
      " 12  weight_kg                    70552 non-null  float64\n",
      " 13  doors                        70551 non-null  float64\n",
      " 14  seats                        70552 non-null  float64\n",
      " 15  engine_displacement_cm3      70552 non-null  float64\n",
      " 16  cylinders                    68537 non-null  float64\n",
      " 17  turbo                        70552 non-null  object \n",
      " 18  consumption_city_l_100km     70552 non-null  float64\n",
      " 19  consumption_highway_l_100km  70552 non-null  float64\n",
      " 20  consumption_mixed_l_100km    70552 non-null  float64\n",
      " 21  co2_g_km                     53706 non-null  float64\n",
      " 22  tank_capacity_l              70552 non-null  float64\n",
      " 23  registration_month           94128 non-null  int64  \n",
      " 24  registration_year            94128 non-null  int64  \n",
      " 25  trunk_dim_1                  70552 non-null  float64\n",
      " 26  trunk_dim_2                  70552 non-null  float64\n",
      "dtypes: float64(20), int64(2), object(5)\n",
      "memory usage: 19.4+ MB\n"
     ]
    }
   ],
   "source": [
    "df.info()"
   ]
  },
  {
   "cell_type": "code",
   "execution_count": 160,
   "id": "331399da",
   "metadata": {},
   "outputs": [
    {
     "data": {
      "text/plain": [
       "fuel_type                          0\n",
       "mileage_km                         0\n",
       "body_type                          0\n",
       "transmission                       0\n",
       "power_hp                           0\n",
       "warranty_months                 6481\n",
       "emissions_label                 6497\n",
       "price                              0\n",
       "length_mm                      23759\n",
       "width_mm                       23606\n",
       "height_mm                      23770\n",
       "wheelbase_mm                   23576\n",
       "weight_kg                      23576\n",
       "doors                          23577\n",
       "seats                          23576\n",
       "engine_displacement_cm3        23576\n",
       "cylinders                      25591\n",
       "turbo                          23576\n",
       "consumption_city_l_100km       23576\n",
       "consumption_highway_l_100km    23576\n",
       "consumption_mixed_l_100km      23576\n",
       "co2_g_km                       40422\n",
       "tank_capacity_l                23576\n",
       "registration_month                 0\n",
       "registration_year                  0\n",
       "trunk_dim_1                    23576\n",
       "trunk_dim_2                    23576\n",
       "dtype: int64"
      ]
     },
     "execution_count": 160,
     "metadata": {},
     "output_type": "execute_result"
    }
   ],
   "source": [
    "df.isna().sum()"
   ]
  },
  {
   "cell_type": "markdown",
   "id": "8bef8c08",
   "metadata": {},
   "source": [
    "_________________________"
   ]
  },
  {
   "cell_type": "markdown",
   "id": "bdd367f3",
   "metadata": {},
   "source": [
    "## Encode categorical variables\n",
    "Categorical variables are those with a data type 'object' plus registration_year, registration_month, cylinders, seats and doors. The last ones have already a numeric data type, but since they're actually categories, we're going to have to encode them."
   ]
  },
  {
   "cell_type": "code",
   "execution_count": 161,
   "id": "07187dbe",
   "metadata": {},
   "outputs": [
    {
     "data": {
      "text/html": [
       "<div>\n",
       "<style scoped>\n",
       "    .dataframe tbody tr th:only-of-type {\n",
       "        vertical-align: middle;\n",
       "    }\n",
       "\n",
       "    .dataframe tbody tr th {\n",
       "        vertical-align: top;\n",
       "    }\n",
       "\n",
       "    .dataframe thead th {\n",
       "        text-align: right;\n",
       "    }\n",
       "</style>\n",
       "<table border=\"1\" class=\"dataframe\">\n",
       "  <thead>\n",
       "    <tr style=\"text-align: right;\">\n",
       "      <th></th>\n",
       "      <th>fuel_type</th>\n",
       "      <th>body_type</th>\n",
       "      <th>transmission</th>\n",
       "      <th>emissions_label</th>\n",
       "      <th>turbo</th>\n",
       "      <th>registration_year</th>\n",
       "      <th>registration_month</th>\n",
       "      <th>cylinders</th>\n",
       "      <th>seats</th>\n",
       "      <th>doors</th>\n",
       "    </tr>\n",
       "  </thead>\n",
       "  <tbody>\n",
       "    <tr>\n",
       "      <th>0</th>\n",
       "      <td>Petrol</td>\n",
       "      <td>Sedan</td>\n",
       "      <td>Manual</td>\n",
       "      <td>C</td>\n",
       "      <td>NaN</td>\n",
       "      <td>2023</td>\n",
       "      <td>2</td>\n",
       "      <td>NaN</td>\n",
       "      <td>NaN</td>\n",
       "      <td>NaN</td>\n",
       "    </tr>\n",
       "    <tr>\n",
       "      <th>1</th>\n",
       "      <td>Petrol</td>\n",
       "      <td>Sedan</td>\n",
       "      <td>Manual</td>\n",
       "      <td>C</td>\n",
       "      <td>NaN</td>\n",
       "      <td>2023</td>\n",
       "      <td>6</td>\n",
       "      <td>NaN</td>\n",
       "      <td>NaN</td>\n",
       "      <td>NaN</td>\n",
       "    </tr>\n",
       "    <tr>\n",
       "      <th>2</th>\n",
       "      <td>Electric</td>\n",
       "      <td>Sedan</td>\n",
       "      <td>Automatic</td>\n",
       "      <td>0 EMISSIONS</td>\n",
       "      <td>Turbo</td>\n",
       "      <td>2023</td>\n",
       "      <td>9</td>\n",
       "      <td>NaN</td>\n",
       "      <td>4.0</td>\n",
       "      <td>3.0</td>\n",
       "    </tr>\n",
       "    <tr>\n",
       "      <th>3</th>\n",
       "      <td>Electric</td>\n",
       "      <td>Sedan</td>\n",
       "      <td>Automatic</td>\n",
       "      <td>0 EMISSIONS</td>\n",
       "      <td>Turbo</td>\n",
       "      <td>2023</td>\n",
       "      <td>10</td>\n",
       "      <td>NaN</td>\n",
       "      <td>4.0</td>\n",
       "      <td>3.0</td>\n",
       "    </tr>\n",
       "    <tr>\n",
       "      <th>4</th>\n",
       "      <td>Electric</td>\n",
       "      <td>Sedan</td>\n",
       "      <td>Automatic</td>\n",
       "      <td>0 EMISSIONS</td>\n",
       "      <td>Turbo</td>\n",
       "      <td>2023</td>\n",
       "      <td>8</td>\n",
       "      <td>NaN</td>\n",
       "      <td>4.0</td>\n",
       "      <td>3.0</td>\n",
       "    </tr>\n",
       "  </tbody>\n",
       "</table>\n",
       "</div>"
      ],
      "text/plain": [
       "  fuel_type body_type transmission emissions_label  turbo  registration_year  \\\n",
       "0    Petrol     Sedan       Manual               C    NaN               2023   \n",
       "1    Petrol     Sedan       Manual               C    NaN               2023   \n",
       "2  Electric     Sedan    Automatic     0 EMISSIONS  Turbo               2023   \n",
       "3  Electric     Sedan    Automatic     0 EMISSIONS  Turbo               2023   \n",
       "4  Electric     Sedan    Automatic     0 EMISSIONS  Turbo               2023   \n",
       "\n",
       "   registration_month  cylinders  seats  doors  \n",
       "0                   2        NaN    NaN    NaN  \n",
       "1                   6        NaN    NaN    NaN  \n",
       "2                   9        NaN    4.0    3.0  \n",
       "3                  10        NaN    4.0    3.0  \n",
       "4                   8        NaN    4.0    3.0  "
      ]
     },
     "execution_count": 161,
     "metadata": {},
     "output_type": "execute_result"
    }
   ],
   "source": [
    "df_encoding = pd.concat([df.select_dtypes(exclude='number'), df[['registration_year', 'registration_month', 'cylinders', 'seats', 'doors']]], axis=1)\n",
    "df_encoding.head()"
   ]
  },
  {
   "cell_type": "markdown",
   "id": "1ae3bd5c",
   "metadata": {},
   "source": [
    "__________________________\n",
    "### Encoding binary variables - LabelEncoder\n",
    "We have 2 binary variables here:\n",
    "- transmission\n",
    "- turbo\n",
    "\n",
    "We can use the LabelEncoder directly with transmission, however, we need to apply some transformations in the turbo column, sice the turbo type is specified. We only going to keep if the car has turbo or not."
   ]
  },
  {
   "cell_type": "markdown",
   "id": "5f230c0c",
   "metadata": {},
   "source": [
    "#### transmission\n",
    "Instead of using the LabelEncoder, we're going to map the entire column. There are no NaN's already, so we apply 1 for automatic cars and rename the column to indicate weather a car is automatic or not, to match the criterion."
   ]
  },
  {
   "cell_type": "code",
   "execution_count": 162,
   "id": "1f8378b9",
   "metadata": {},
   "outputs": [],
   "source": [
    "df_encoding['transmission_auto'] = df_encoding['transmission'].map({'Automatic': 1, 'Manual': 0})\n",
    "df_encoding.drop(columns=['transmission'], inplace=True)"
   ]
  },
  {
   "cell_type": "code",
   "execution_count": 163,
   "id": "7fe43b20",
   "metadata": {},
   "outputs": [
    {
     "data": {
      "text/plain": [
       "array([0, 1])"
      ]
     },
     "execution_count": 163,
     "metadata": {},
     "output_type": "execute_result"
    }
   ],
   "source": [
    "df_encoding['transmission_auto'].unique()"
   ]
  },
  {
   "cell_type": "markdown",
   "id": "73ae8b92",
   "metadata": {},
   "source": [
    "#### turbo\n",
    "We only keep if the car has turbo or not. We keep the NaN's."
   ]
  },
  {
   "cell_type": "code",
   "execution_count": 164,
   "id": "572ea7e4",
   "metadata": {},
   "outputs": [
    {
     "data": {
      "text/plain": [
       "array([nan, 'Turbo', 'Not specified', 'Variable geometry turbo',\n",
       "       'Twin-turbo', 'Type of forced induction', 'Lysholm supercharger',\n",
       "       'Roots supercharger', 'Supercharger and turbo'], dtype=object)"
      ]
     },
     "execution_count": 164,
     "metadata": {},
     "output_type": "execute_result"
    }
   ],
   "source": [
    "df_encoding['turbo'].unique()"
   ]
  },
  {
   "cell_type": "code",
   "execution_count": 165,
   "id": "2ddfca27",
   "metadata": {},
   "outputs": [],
   "source": [
    "turbo_values = [\n",
    " 'Turbo',\n",
    " 'Variable geometry turbo',\n",
    " 'Twin-turbo',\n",
    " 'Type of forced induction',\n",
    " 'Lysholm supercharger',\n",
    " 'Roots supercharger',\n",
    " 'Supercharger and turbo'\n",
    " ]\n",
    "\n",
    "df_encoding['turbo'] = df_encoding['turbo'].apply(\n",
    "    lambda x: 1 if x in turbo_values else (0 if x == 'Not specified' else np.nan)\n",
    ")"
   ]
  },
  {
   "cell_type": "code",
   "execution_count": 166,
   "id": "ba1bca70",
   "metadata": {},
   "outputs": [
    {
     "data": {
      "text/plain": [
       "array([nan,  1.,  0.])"
      ]
     },
     "execution_count": 166,
     "metadata": {},
     "output_type": "execute_result"
    }
   ],
   "source": [
    "df_encoding['turbo'].unique()"
   ]
  },
  {
   "cell_type": "markdown",
   "id": "f484b92f",
   "metadata": {},
   "source": [
    "_______________________________\n",
    "### Encoding multi-categorical variables - OneHot Encoding\n",
    "This technique creates a column for each different value of each category, so they will contain only zeros and ones. Theproblem with this technique is that it significantly increases the number of columns, therefore the dataframe size, leading to slower performance. We can use some tricks with some of the columns to avoid that. Others, will have to be increased anyways."
   ]
  },
  {
   "cell_type": "markdown",
   "id": "e70587b8",
   "metadata": {},
   "source": [
    "#### OneHot Encoding\n",
    "For most of the columns, we can use a regular One Hot encoding, as shown below:"
   ]
  },
  {
   "cell_type": "code",
   "execution_count": 167,
   "id": "b0f9d491",
   "metadata": {},
   "outputs": [
    {
     "data": {
      "text/plain": [
       "Index(['fuel_type', 'body_type', 'emissions_label', 'turbo',\n",
       "       'registration_year', 'registration_month', 'cylinders', 'seats',\n",
       "       'doors', 'transmission_auto'],\n",
       "      dtype='object')"
      ]
     },
     "execution_count": 167,
     "metadata": {},
     "output_type": "execute_result"
    }
   ],
   "source": [
    "df_encoding.columns"
   ]
  },
  {
   "cell_type": "code",
   "execution_count": 168,
   "id": "b7f4a19e",
   "metadata": {},
   "outputs": [],
   "source": [
    "onehot_list = ['fuel_type', 'body_type', 'emissions_label', 'cylinders', 'seats', 'doors']\n"
   ]
  },
  {
   "cell_type": "markdown",
   "id": "9e0fa9f3",
   "metadata": {},
   "source": [
    "Bear in mind that we still keep the NaN's."
   ]
  },
  {
   "cell_type": "code",
   "execution_count": 169,
   "id": "f384e4c0",
   "metadata": {},
   "outputs": [],
   "source": [
    "# create the encoding object; sparse_output=False returns ndarray (easy handling), handle_unknowk='ignore' when NaNs or unexpected values can be present avoids crashing\n",
    "onehot_encoder = OneHotEncoder(sparse_output=False, handle_unknown='ignore')\n",
    "\n",
    "# get a copy of the dataframe only with the columns we're encoding here\n",
    "df_cat = df_encoding[onehot_list]\n",
    "\n",
    "# fit-transform\n",
    "oh_array = onehot_encoder.fit_transform(df_cat)\n",
    "\n",
    "# create the independent df with the encoded columns; it has to keep the indexing to match the df_encoding\n",
    "df_oh = pd.DataFrame(oh_array, columns=onehot_encoder.get_feature_names_out(onehot_list), index=df_encoding.index)\n",
    "\n",
    "#concatenate the original df with the encoded one, droping the original columns\n",
    "df_encoding = pd.concat([df_encoding.drop(columns=onehot_list), df_oh], axis=1)"
   ]
  },
  {
   "cell_type": "code",
   "execution_count": 170,
   "id": "6f472c67",
   "metadata": {},
   "outputs": [
    {
     "data": {
      "text/html": [
       "<div>\n",
       "<style scoped>\n",
       "    .dataframe tbody tr th:only-of-type {\n",
       "        vertical-align: middle;\n",
       "    }\n",
       "\n",
       "    .dataframe tbody tr th {\n",
       "        vertical-align: top;\n",
       "    }\n",
       "\n",
       "    .dataframe thead th {\n",
       "        text-align: right;\n",
       "    }\n",
       "</style>\n",
       "<table border=\"1\" class=\"dataframe\">\n",
       "  <thead>\n",
       "    <tr style=\"text-align: right;\">\n",
       "      <th></th>\n",
       "      <th>turbo</th>\n",
       "      <th>registration_year</th>\n",
       "      <th>registration_month</th>\n",
       "      <th>transmission_auto</th>\n",
       "      <th>fuel_type_Diesel</th>\n",
       "      <th>fuel_type_Electric</th>\n",
       "      <th>fuel_type_Gas</th>\n",
       "      <th>fuel_type_Hybrid</th>\n",
       "      <th>fuel_type_Petrol</th>\n",
       "      <th>fuel_type_Petrol/Ethanol</th>\n",
       "      <th>...</th>\n",
       "      <th>seats_6.0</th>\n",
       "      <th>seats_7.0</th>\n",
       "      <th>seats_8.0</th>\n",
       "      <th>seats_9.0</th>\n",
       "      <th>seats_nan</th>\n",
       "      <th>doors_2.0</th>\n",
       "      <th>doors_3.0</th>\n",
       "      <th>doors_4.0</th>\n",
       "      <th>doors_5.0</th>\n",
       "      <th>doors_nan</th>\n",
       "    </tr>\n",
       "  </thead>\n",
       "  <tbody>\n",
       "    <tr>\n",
       "      <th>0</th>\n",
       "      <td>NaN</td>\n",
       "      <td>2023</td>\n",
       "      <td>2</td>\n",
       "      <td>0</td>\n",
       "      <td>0.0</td>\n",
       "      <td>0.0</td>\n",
       "      <td>0.0</td>\n",
       "      <td>0.0</td>\n",
       "      <td>1.0</td>\n",
       "      <td>0.0</td>\n",
       "      <td>...</td>\n",
       "      <td>0.0</td>\n",
       "      <td>0.0</td>\n",
       "      <td>0.0</td>\n",
       "      <td>0.0</td>\n",
       "      <td>1.0</td>\n",
       "      <td>0.0</td>\n",
       "      <td>0.0</td>\n",
       "      <td>0.0</td>\n",
       "      <td>0.0</td>\n",
       "      <td>1.0</td>\n",
       "    </tr>\n",
       "    <tr>\n",
       "      <th>1</th>\n",
       "      <td>NaN</td>\n",
       "      <td>2023</td>\n",
       "      <td>6</td>\n",
       "      <td>0</td>\n",
       "      <td>0.0</td>\n",
       "      <td>0.0</td>\n",
       "      <td>0.0</td>\n",
       "      <td>0.0</td>\n",
       "      <td>1.0</td>\n",
       "      <td>0.0</td>\n",
       "      <td>...</td>\n",
       "      <td>0.0</td>\n",
       "      <td>0.0</td>\n",
       "      <td>0.0</td>\n",
       "      <td>0.0</td>\n",
       "      <td>1.0</td>\n",
       "      <td>0.0</td>\n",
       "      <td>0.0</td>\n",
       "      <td>0.0</td>\n",
       "      <td>0.0</td>\n",
       "      <td>1.0</td>\n",
       "    </tr>\n",
       "    <tr>\n",
       "      <th>2</th>\n",
       "      <td>1.0</td>\n",
       "      <td>2023</td>\n",
       "      <td>9</td>\n",
       "      <td>1</td>\n",
       "      <td>0.0</td>\n",
       "      <td>1.0</td>\n",
       "      <td>0.0</td>\n",
       "      <td>0.0</td>\n",
       "      <td>0.0</td>\n",
       "      <td>0.0</td>\n",
       "      <td>...</td>\n",
       "      <td>0.0</td>\n",
       "      <td>0.0</td>\n",
       "      <td>0.0</td>\n",
       "      <td>0.0</td>\n",
       "      <td>0.0</td>\n",
       "      <td>0.0</td>\n",
       "      <td>1.0</td>\n",
       "      <td>0.0</td>\n",
       "      <td>0.0</td>\n",
       "      <td>0.0</td>\n",
       "    </tr>\n",
       "    <tr>\n",
       "      <th>3</th>\n",
       "      <td>1.0</td>\n",
       "      <td>2023</td>\n",
       "      <td>10</td>\n",
       "      <td>1</td>\n",
       "      <td>0.0</td>\n",
       "      <td>1.0</td>\n",
       "      <td>0.0</td>\n",
       "      <td>0.0</td>\n",
       "      <td>0.0</td>\n",
       "      <td>0.0</td>\n",
       "      <td>...</td>\n",
       "      <td>0.0</td>\n",
       "      <td>0.0</td>\n",
       "      <td>0.0</td>\n",
       "      <td>0.0</td>\n",
       "      <td>0.0</td>\n",
       "      <td>0.0</td>\n",
       "      <td>1.0</td>\n",
       "      <td>0.0</td>\n",
       "      <td>0.0</td>\n",
       "      <td>0.0</td>\n",
       "    </tr>\n",
       "    <tr>\n",
       "      <th>4</th>\n",
       "      <td>1.0</td>\n",
       "      <td>2023</td>\n",
       "      <td>8</td>\n",
       "      <td>1</td>\n",
       "      <td>0.0</td>\n",
       "      <td>1.0</td>\n",
       "      <td>0.0</td>\n",
       "      <td>0.0</td>\n",
       "      <td>0.0</td>\n",
       "      <td>0.0</td>\n",
       "      <td>...</td>\n",
       "      <td>0.0</td>\n",
       "      <td>0.0</td>\n",
       "      <td>0.0</td>\n",
       "      <td>0.0</td>\n",
       "      <td>0.0</td>\n",
       "      <td>0.0</td>\n",
       "      <td>1.0</td>\n",
       "      <td>0.0</td>\n",
       "      <td>0.0</td>\n",
       "      <td>0.0</td>\n",
       "    </tr>\n",
       "  </tbody>\n",
       "</table>\n",
       "<p>5 rows × 53 columns</p>\n",
       "</div>"
      ],
      "text/plain": [
       "   turbo  registration_year  registration_month  transmission_auto  \\\n",
       "0    NaN               2023                   2                  0   \n",
       "1    NaN               2023                   6                  0   \n",
       "2    1.0               2023                   9                  1   \n",
       "3    1.0               2023                  10                  1   \n",
       "4    1.0               2023                   8                  1   \n",
       "\n",
       "   fuel_type_Diesel  fuel_type_Electric  fuel_type_Gas  fuel_type_Hybrid  \\\n",
       "0               0.0                 0.0            0.0               0.0   \n",
       "1               0.0                 0.0            0.0               0.0   \n",
       "2               0.0                 1.0            0.0               0.0   \n",
       "3               0.0                 1.0            0.0               0.0   \n",
       "4               0.0                 1.0            0.0               0.0   \n",
       "\n",
       "   fuel_type_Petrol  fuel_type_Petrol/Ethanol  ...  seats_6.0  seats_7.0  \\\n",
       "0               1.0                       0.0  ...        0.0        0.0   \n",
       "1               1.0                       0.0  ...        0.0        0.0   \n",
       "2               0.0                       0.0  ...        0.0        0.0   \n",
       "3               0.0                       0.0  ...        0.0        0.0   \n",
       "4               0.0                       0.0  ...        0.0        0.0   \n",
       "\n",
       "   seats_8.0  seats_9.0  seats_nan  doors_2.0  doors_3.0  doors_4.0  \\\n",
       "0        0.0        0.0        1.0        0.0        0.0        0.0   \n",
       "1        0.0        0.0        1.0        0.0        0.0        0.0   \n",
       "2        0.0        0.0        0.0        0.0        1.0        0.0   \n",
       "3        0.0        0.0        0.0        0.0        1.0        0.0   \n",
       "4        0.0        0.0        0.0        0.0        1.0        0.0   \n",
       "\n",
       "   doors_5.0  doors_nan  \n",
       "0        0.0        1.0  \n",
       "1        0.0        1.0  \n",
       "2        0.0        0.0  \n",
       "3        0.0        0.0  \n",
       "4        0.0        0.0  \n",
       "\n",
       "[5 rows x 53 columns]"
      ]
     },
     "execution_count": 170,
     "metadata": {},
     "output_type": "execute_result"
    }
   ],
   "source": [
    "df_encoding.head()"
   ]
  },
  {
   "cell_type": "markdown",
   "id": "3f981fe1",
   "metadata": {},
   "source": [
    "__________________________\n",
    "### Out-of-the-box encodings\n",
    "Only 2 variables left: \n",
    "- registration_year\n",
    "- registration_month\n",
    "\n",
    "We're going to transform these variables into a more convenient format. If we use the OneHot encoder, the result is a column for every single year and every month we have in the dataframe, impacting the algorithm performance. Furthermore, if there are some kind of seasonal pattern, the algorithm won't be able to catch it. For example: the months January and December are one after another, close in time. This can be an important information that we should not ignore. Let's see now how to move on.\n",
    "\n",
    "_______________________\n",
    "#### registration_year\n",
    "We have different registration years, each of them is categorical. We can turn that variable into a continuous one by gettin the \"car age\" instead of the year itself. This way, we will only have 1 column, not even an extra one, since we can drop the original."
   ]
  },
  {
   "cell_type": "code",
   "execution_count": 171,
   "id": "ca703eac",
   "metadata": {},
   "outputs": [],
   "source": [
    "df_encoding['car_age'] = df_encoding['registration_year'].apply(lambda x: 2025-x)"
   ]
  },
  {
   "cell_type": "code",
   "execution_count": 172,
   "id": "8db18321",
   "metadata": {},
   "outputs": [],
   "source": [
    "df_encoding.drop(columns='registration_year', inplace=True)"
   ]
  },
  {
   "cell_type": "markdown",
   "id": "9a264229",
   "metadata": {},
   "source": [
    "#### registration_month\n",
    "Here, we can apply a sinusoidal or cyclical encoding. We're going to encode the month as sinusoidal coordinates, so the algorithm can catch much better the proximity between months wich are closer between them. We also avoid getting 12 extra columns."
   ]
  },
  {
   "cell_type": "code",
   "execution_count": 173,
   "id": "0a4226b2",
   "metadata": {},
   "outputs": [],
   "source": [
    "df['reg_month_sin'] = np.sin(2 * np.pi * df['registration_month'] / 12)\n",
    "df['reg_month_cos'] = np.cos(2 * np.pi * df['registration_month'] / 12)"
   ]
  },
  {
   "cell_type": "code",
   "execution_count": 174,
   "id": "563d2fb3",
   "metadata": {},
   "outputs": [],
   "source": [
    "df_encoding.drop(columns='registration_month', inplace=True)"
   ]
  },
  {
   "cell_type": "code",
   "execution_count": 175,
   "id": "0e9378c6",
   "metadata": {},
   "outputs": [
    {
     "data": {
      "text/html": [
       "<div>\n",
       "<style scoped>\n",
       "    .dataframe tbody tr th:only-of-type {\n",
       "        vertical-align: middle;\n",
       "    }\n",
       "\n",
       "    .dataframe tbody tr th {\n",
       "        vertical-align: top;\n",
       "    }\n",
       "\n",
       "    .dataframe thead th {\n",
       "        text-align: right;\n",
       "    }\n",
       "</style>\n",
       "<table border=\"1\" class=\"dataframe\">\n",
       "  <thead>\n",
       "    <tr style=\"text-align: right;\">\n",
       "      <th></th>\n",
       "      <th>turbo</th>\n",
       "      <th>transmission_auto</th>\n",
       "      <th>fuel_type_Diesel</th>\n",
       "      <th>fuel_type_Electric</th>\n",
       "      <th>fuel_type_Gas</th>\n",
       "      <th>fuel_type_Hybrid</th>\n",
       "      <th>fuel_type_Petrol</th>\n",
       "      <th>fuel_type_Petrol/Ethanol</th>\n",
       "      <th>fuel_type_Petrol/Gas</th>\n",
       "      <th>fuel_type_Plug-in Hybrid</th>\n",
       "      <th>...</th>\n",
       "      <th>seats_7.0</th>\n",
       "      <th>seats_8.0</th>\n",
       "      <th>seats_9.0</th>\n",
       "      <th>seats_nan</th>\n",
       "      <th>doors_2.0</th>\n",
       "      <th>doors_3.0</th>\n",
       "      <th>doors_4.0</th>\n",
       "      <th>doors_5.0</th>\n",
       "      <th>doors_nan</th>\n",
       "      <th>car_age</th>\n",
       "    </tr>\n",
       "  </thead>\n",
       "  <tbody>\n",
       "    <tr>\n",
       "      <th>0</th>\n",
       "      <td>NaN</td>\n",
       "      <td>0</td>\n",
       "      <td>0.0</td>\n",
       "      <td>0.0</td>\n",
       "      <td>0.0</td>\n",
       "      <td>0.0</td>\n",
       "      <td>1.0</td>\n",
       "      <td>0.0</td>\n",
       "      <td>0.0</td>\n",
       "      <td>0.0</td>\n",
       "      <td>...</td>\n",
       "      <td>0.0</td>\n",
       "      <td>0.0</td>\n",
       "      <td>0.0</td>\n",
       "      <td>1.0</td>\n",
       "      <td>0.0</td>\n",
       "      <td>0.0</td>\n",
       "      <td>0.0</td>\n",
       "      <td>0.0</td>\n",
       "      <td>1.0</td>\n",
       "      <td>2</td>\n",
       "    </tr>\n",
       "    <tr>\n",
       "      <th>1</th>\n",
       "      <td>NaN</td>\n",
       "      <td>0</td>\n",
       "      <td>0.0</td>\n",
       "      <td>0.0</td>\n",
       "      <td>0.0</td>\n",
       "      <td>0.0</td>\n",
       "      <td>1.0</td>\n",
       "      <td>0.0</td>\n",
       "      <td>0.0</td>\n",
       "      <td>0.0</td>\n",
       "      <td>...</td>\n",
       "      <td>0.0</td>\n",
       "      <td>0.0</td>\n",
       "      <td>0.0</td>\n",
       "      <td>1.0</td>\n",
       "      <td>0.0</td>\n",
       "      <td>0.0</td>\n",
       "      <td>0.0</td>\n",
       "      <td>0.0</td>\n",
       "      <td>1.0</td>\n",
       "      <td>2</td>\n",
       "    </tr>\n",
       "    <tr>\n",
       "      <th>2</th>\n",
       "      <td>1.0</td>\n",
       "      <td>1</td>\n",
       "      <td>0.0</td>\n",
       "      <td>1.0</td>\n",
       "      <td>0.0</td>\n",
       "      <td>0.0</td>\n",
       "      <td>0.0</td>\n",
       "      <td>0.0</td>\n",
       "      <td>0.0</td>\n",
       "      <td>0.0</td>\n",
       "      <td>...</td>\n",
       "      <td>0.0</td>\n",
       "      <td>0.0</td>\n",
       "      <td>0.0</td>\n",
       "      <td>0.0</td>\n",
       "      <td>0.0</td>\n",
       "      <td>1.0</td>\n",
       "      <td>0.0</td>\n",
       "      <td>0.0</td>\n",
       "      <td>0.0</td>\n",
       "      <td>2</td>\n",
       "    </tr>\n",
       "    <tr>\n",
       "      <th>3</th>\n",
       "      <td>1.0</td>\n",
       "      <td>1</td>\n",
       "      <td>0.0</td>\n",
       "      <td>1.0</td>\n",
       "      <td>0.0</td>\n",
       "      <td>0.0</td>\n",
       "      <td>0.0</td>\n",
       "      <td>0.0</td>\n",
       "      <td>0.0</td>\n",
       "      <td>0.0</td>\n",
       "      <td>...</td>\n",
       "      <td>0.0</td>\n",
       "      <td>0.0</td>\n",
       "      <td>0.0</td>\n",
       "      <td>0.0</td>\n",
       "      <td>0.0</td>\n",
       "      <td>1.0</td>\n",
       "      <td>0.0</td>\n",
       "      <td>0.0</td>\n",
       "      <td>0.0</td>\n",
       "      <td>2</td>\n",
       "    </tr>\n",
       "    <tr>\n",
       "      <th>4</th>\n",
       "      <td>1.0</td>\n",
       "      <td>1</td>\n",
       "      <td>0.0</td>\n",
       "      <td>1.0</td>\n",
       "      <td>0.0</td>\n",
       "      <td>0.0</td>\n",
       "      <td>0.0</td>\n",
       "      <td>0.0</td>\n",
       "      <td>0.0</td>\n",
       "      <td>0.0</td>\n",
       "      <td>...</td>\n",
       "      <td>0.0</td>\n",
       "      <td>0.0</td>\n",
       "      <td>0.0</td>\n",
       "      <td>0.0</td>\n",
       "      <td>0.0</td>\n",
       "      <td>1.0</td>\n",
       "      <td>0.0</td>\n",
       "      <td>0.0</td>\n",
       "      <td>0.0</td>\n",
       "      <td>2</td>\n",
       "    </tr>\n",
       "  </tbody>\n",
       "</table>\n",
       "<p>5 rows × 52 columns</p>\n",
       "</div>"
      ],
      "text/plain": [
       "   turbo  transmission_auto  fuel_type_Diesel  fuel_type_Electric  \\\n",
       "0    NaN                  0               0.0                 0.0   \n",
       "1    NaN                  0               0.0                 0.0   \n",
       "2    1.0                  1               0.0                 1.0   \n",
       "3    1.0                  1               0.0                 1.0   \n",
       "4    1.0                  1               0.0                 1.0   \n",
       "\n",
       "   fuel_type_Gas  fuel_type_Hybrid  fuel_type_Petrol  \\\n",
       "0            0.0               0.0               1.0   \n",
       "1            0.0               0.0               1.0   \n",
       "2            0.0               0.0               0.0   \n",
       "3            0.0               0.0               0.0   \n",
       "4            0.0               0.0               0.0   \n",
       "\n",
       "   fuel_type_Petrol/Ethanol  fuel_type_Petrol/Gas  fuel_type_Plug-in Hybrid  \\\n",
       "0                       0.0                   0.0                       0.0   \n",
       "1                       0.0                   0.0                       0.0   \n",
       "2                       0.0                   0.0                       0.0   \n",
       "3                       0.0                   0.0                       0.0   \n",
       "4                       0.0                   0.0                       0.0   \n",
       "\n",
       "   ...  seats_7.0  seats_8.0  seats_9.0  seats_nan  doors_2.0  doors_3.0  \\\n",
       "0  ...        0.0        0.0        0.0        1.0        0.0        0.0   \n",
       "1  ...        0.0        0.0        0.0        1.0        0.0        0.0   \n",
       "2  ...        0.0        0.0        0.0        0.0        0.0        1.0   \n",
       "3  ...        0.0        0.0        0.0        0.0        0.0        1.0   \n",
       "4  ...        0.0        0.0        0.0        0.0        0.0        1.0   \n",
       "\n",
       "   doors_4.0  doors_5.0  doors_nan  car_age  \n",
       "0        0.0        0.0        1.0        2  \n",
       "1        0.0        0.0        1.0        2  \n",
       "2        0.0        0.0        0.0        2  \n",
       "3        0.0        0.0        0.0        2  \n",
       "4        0.0        0.0        0.0        2  \n",
       "\n",
       "[5 rows x 52 columns]"
      ]
     },
     "execution_count": 175,
     "metadata": {},
     "output_type": "execute_result"
    }
   ],
   "source": [
    "df_encoding.head()"
   ]
  },
  {
   "cell_type": "markdown",
   "id": "092042f9",
   "metadata": {},
   "source": [
    "### Put everything together\n",
    "Let's now concatenate the copy of the original df with the encodings:"
   ]
  },
  {
   "cell_type": "code",
   "execution_count": 176,
   "id": "6e4550ff",
   "metadata": {},
   "outputs": [
    {
     "data": {
      "text/plain": [
       "['fuel_type',\n",
       " 'body_type',\n",
       " 'emissions_label',\n",
       " 'cylinders',\n",
       " 'seats',\n",
       " 'doors',\n",
       " 'turbo',\n",
       " 'transmission']"
      ]
     },
     "execution_count": 176,
     "metadata": {},
     "output_type": "execute_result"
    }
   ],
   "source": [
    "onehot_list + ['turbo', 'transmission']"
   ]
  },
  {
   "cell_type": "code",
   "execution_count": 177,
   "id": "0565afae",
   "metadata": {},
   "outputs": [],
   "source": [
    "df_model = pd.concat([df.drop(columns=onehot_list + ['turbo', 'transmission', 'registration_year', 'registration_month']), df_encoding], axis=1)"
   ]
  },
  {
   "cell_type": "markdown",
   "id": "359155c4",
   "metadata": {},
   "source": [
    "Check the data types to ensure all of them are numeric."
   ]
  },
  {
   "cell_type": "code",
   "execution_count": 178,
   "id": "87c8abf1",
   "metadata": {},
   "outputs": [
    {
     "name": "stdout",
     "output_type": "stream",
     "text": [
      "<class 'pandas.core.frame.DataFrame'>\n",
      "RangeIndex: 94128 entries, 0 to 94127\n",
      "Data columns (total 71 columns):\n",
      " #   Column                                    Non-Null Count  Dtype  \n",
      "---  ------                                    --------------  -----  \n",
      " 0   mileage_km                                94128 non-null  float64\n",
      " 1   power_hp                                  94128 non-null  float64\n",
      " 2   warranty_months                           87647 non-null  float64\n",
      " 3   price                                     94128 non-null  float64\n",
      " 4   length_mm                                 70369 non-null  float64\n",
      " 5   width_mm                                  70522 non-null  float64\n",
      " 6   height_mm                                 70358 non-null  float64\n",
      " 7   wheelbase_mm                              70552 non-null  float64\n",
      " 8   weight_kg                                 70552 non-null  float64\n",
      " 9   engine_displacement_cm3                   70552 non-null  float64\n",
      " 10  consumption_city_l_100km                  70552 non-null  float64\n",
      " 11  consumption_highway_l_100km               70552 non-null  float64\n",
      " 12  consumption_mixed_l_100km                 70552 non-null  float64\n",
      " 13  co2_g_km                                  53706 non-null  float64\n",
      " 14  tank_capacity_l                           70552 non-null  float64\n",
      " 15  trunk_dim_1                               70552 non-null  float64\n",
      " 16  trunk_dim_2                               70552 non-null  float64\n",
      " 17  reg_month_sin                             94128 non-null  float64\n",
      " 18  reg_month_cos                             94128 non-null  float64\n",
      " 19  turbo                                     70552 non-null  float64\n",
      " 20  transmission_auto                         94128 non-null  int64  \n",
      " 21  fuel_type_Diesel                          94128 non-null  float64\n",
      " 22  fuel_type_Electric                        94128 non-null  float64\n",
      " 23  fuel_type_Gas                             94128 non-null  float64\n",
      " 24  fuel_type_Hybrid                          94128 non-null  float64\n",
      " 25  fuel_type_Petrol                          94128 non-null  float64\n",
      " 26  fuel_type_Petrol/Ethanol                  94128 non-null  float64\n",
      " 27  fuel_type_Petrol/Gas                      94128 non-null  float64\n",
      " 28  fuel_type_Plug-in Hybrid                  94128 non-null  float64\n",
      " 29  fuel_type_Plug-in Hybrid Diesel/Electric  94128 non-null  float64\n",
      " 30  fuel_type_Plug-in Hybrid Petrol/Electric  94128 non-null  float64\n",
      " 31  body_type_Commercial                      94128 non-null  float64\n",
      " 32  body_type_Convertible                     94128 non-null  float64\n",
      " 33  body_type_Coupe                           94128 non-null  float64\n",
      " 34  body_type_Coupe/Sports                    94128 non-null  float64\n",
      " 35  body_type_Estate                          94128 non-null  float64\n",
      " 36  body_type_MPV                             94128 non-null  float64\n",
      " 37  body_type_Pickup                          94128 non-null  float64\n",
      " 38  body_type_Roadster                        94128 non-null  float64\n",
      " 39  body_type_SUV                             94128 non-null  float64\n",
      " 40  body_type_SUV/Pickup                      94128 non-null  float64\n",
      " 41  body_type_Sedan                           94128 non-null  float64\n",
      " 42  body_type_Small                           94128 non-null  float64\n",
      " 43  body_type_Targa                           94128 non-null  float64\n",
      " 44  emissions_label_0 EMISSIONS               94128 non-null  float64\n",
      " 45  emissions_label_B                         94128 non-null  float64\n",
      " 46  emissions_label_C                         94128 non-null  float64\n",
      " 47  emissions_label_ECO                       94128 non-null  float64\n",
      " 48  emissions_label_nan                       94128 non-null  float64\n",
      " 49  cylinders_2.0                             94128 non-null  float64\n",
      " 50  cylinders_3.0                             94128 non-null  float64\n",
      " 51  cylinders_4.0                             94128 non-null  float64\n",
      " 52  cylinders_5.0                             94128 non-null  float64\n",
      " 53  cylinders_6.0                             94128 non-null  float64\n",
      " 54  cylinders_8.0                             94128 non-null  float64\n",
      " 55  cylinders_10.0                            94128 non-null  float64\n",
      " 56  cylinders_nan                             94128 non-null  float64\n",
      " 57  seats_2.0                                 94128 non-null  float64\n",
      " 58  seats_4.0                                 94128 non-null  float64\n",
      " 59  seats_5.0                                 94128 non-null  float64\n",
      " 60  seats_6.0                                 94128 non-null  float64\n",
      " 61  seats_7.0                                 94128 non-null  float64\n",
      " 62  seats_8.0                                 94128 non-null  float64\n",
      " 63  seats_9.0                                 94128 non-null  float64\n",
      " 64  seats_nan                                 94128 non-null  float64\n",
      " 65  doors_2.0                                 94128 non-null  float64\n",
      " 66  doors_3.0                                 94128 non-null  float64\n",
      " 67  doors_4.0                                 94128 non-null  float64\n",
      " 68  doors_5.0                                 94128 non-null  float64\n",
      " 69  doors_nan                                 94128 non-null  float64\n",
      " 70  car_age                                   94128 non-null  int64  \n",
      "dtypes: float64(69), int64(2)\n",
      "memory usage: 51.0 MB\n"
     ]
    }
   ],
   "source": [
    "df_model.info()"
   ]
  },
  {
   "cell_type": "markdown",
   "id": "cb207191",
   "metadata": {},
   "source": [
    "## Correlations\n",
    "Before saving the data for the next step. we can make  small analysis to check if there are highly correlated variables. When 2 variables are highly correlated, they're not really giving us extra information, so we can keep only one of them. Actually, there are some candidates for that. Those related to the cars consumption are very likely saying the same."
   ]
  },
  {
   "cell_type": "code",
   "execution_count": 179,
   "id": "babd7530",
   "metadata": {},
   "outputs": [
    {
     "data": {
      "text/plain": [
       "Index(['mileage_km', 'power_hp', 'warranty_months', 'price', 'length_mm',\n",
       "       'width_mm', 'height_mm', 'wheelbase_mm', 'weight_kg',\n",
       "       'engine_displacement_cm3', 'consumption_city_l_100km',\n",
       "       'consumption_highway_l_100km', 'consumption_mixed_l_100km', 'co2_g_km',\n",
       "       'tank_capacity_l', 'trunk_dim_1', 'trunk_dim_2', 'reg_month_sin',\n",
       "       'reg_month_cos', 'turbo', 'transmission_auto', 'fuel_type_Diesel',\n",
       "       'fuel_type_Electric', 'fuel_type_Gas', 'fuel_type_Hybrid',\n",
       "       'fuel_type_Petrol', 'fuel_type_Petrol/Ethanol', 'fuel_type_Petrol/Gas',\n",
       "       'fuel_type_Plug-in Hybrid', 'fuel_type_Plug-in Hybrid Diesel/Electric',\n",
       "       'fuel_type_Plug-in Hybrid Petrol/Electric', 'body_type_Commercial',\n",
       "       'body_type_Convertible', 'body_type_Coupe', 'body_type_Coupe/Sports',\n",
       "       'body_type_Estate', 'body_type_MPV', 'body_type_Pickup',\n",
       "       'body_type_Roadster', 'body_type_SUV', 'body_type_SUV/Pickup',\n",
       "       'body_type_Sedan', 'body_type_Small', 'body_type_Targa',\n",
       "       'emissions_label_0 EMISSIONS', 'emissions_label_B', 'emissions_label_C',\n",
       "       'emissions_label_ECO', 'emissions_label_nan', 'cylinders_2.0',\n",
       "       'cylinders_3.0', 'cylinders_4.0', 'cylinders_5.0', 'cylinders_6.0',\n",
       "       'cylinders_8.0', 'cylinders_10.0', 'cylinders_nan', 'seats_2.0',\n",
       "       'seats_4.0', 'seats_5.0', 'seats_6.0', 'seats_7.0', 'seats_8.0',\n",
       "       'seats_9.0', 'seats_nan', 'doors_2.0', 'doors_3.0', 'doors_4.0',\n",
       "       'doors_5.0', 'doors_nan', 'car_age'],\n",
       "      dtype='object')"
      ]
     },
     "execution_count": 179,
     "metadata": {},
     "output_type": "execute_result"
    }
   ],
   "source": [
    "df_model.columns"
   ]
  },
  {
   "cell_type": "code",
   "execution_count": 180,
   "id": "6aed51e7",
   "metadata": {},
   "outputs": [
    {
     "data": {
      "text/plain": [
       "9"
      ]
     },
     "execution_count": 180,
     "metadata": {},
     "output_type": "execute_result"
    }
   ],
   "source": [
    "high_corr = []\n",
    "for col in df_model.columns:\n",
    "    if -0.3 < df_model[[col, 'price']].corr().iloc[0,1] < 0.3:\n",
    "        pass\n",
    "    else: \n",
    "        high_corr.append(col)\n",
    "\n",
    "len(high_corr)"
   ]
  },
  {
   "cell_type": "code",
   "execution_count": 181,
   "id": "3b597664",
   "metadata": {},
   "outputs": [
    {
     "data": {
      "image/png": "[encoded data removed]",
      "text/plain": [
       "<Figure size 1500x800 with 2 Axes>"
      ]
     },
     "metadata": {},
     "output_type": "display_data"
    }
   ],
   "source": [
    "plt.figure(figsize = (15, 8))\n",
    "\n",
    "sns.heatmap(df_model[high_corr].corr(), annot = True)\n",
    "plt.show()"
   ]
  },
  {
   "cell_type": "markdown",
   "id": "5d7effec",
   "metadata": {},
   "source": [
    "We can see that the price has the highest correlation with power. It's a positive correlation that makes sense (more power, more expensive car). The same happens with dimensional varibles and transmission. Bigger cars are usually more expensive,as well as the automatic ones.\n",
    "\n",
    "The car age and the mileage are negative correlations that also make sense. The older the car is and the more distance the car has made, the cheaper it gets."
   ]
  },
  {
   "cell_type": "markdown",
   "id": "d04ee2cf",
   "metadata": {},
   "source": [
    "### Fuel consumption\n",
    "We're going to drop city and highway consumption, since they're all highly correlated. They're not giving us new information and mixed is a good overall aproximation. We might keep the emmissions, just in case we prefer to emphathize this approach with the ML algorithms, although keeping the mixed consumption could be more interpretable. In any case, we will decide it after applying Feature importances. Here, we can observe the high correlation:"
   ]
  },
  {
   "cell_type": "code",
   "execution_count": 182,
   "id": "7dc413fb",
   "metadata": {},
   "outputs": [
    {
     "data": {
      "text/plain": [
       "4"
      ]
     },
     "execution_count": 182,
     "metadata": {},
     "output_type": "execute_result"
    }
   ],
   "source": [
    "high_corr = []\n",
    "for col in ['co2_g_km', 'consumption_city_l_100km', 'consumption_highway_l_100km', 'consumption_mixed_l_100km']:\n",
    "    if -0.8 < df_model[[col, 'co2_g_km']].corr().iloc[0,1] < 0.8:\n",
    "        pass\n",
    "    else: \n",
    "        high_corr.append(col)\n",
    "\n",
    "len(high_corr)"
   ]
  },
  {
   "cell_type": "code",
   "execution_count": 183,
   "id": "07ddd180",
   "metadata": {},
   "outputs": [
    {
     "data": {
      "image/png": "[encoded data removed]",
      "text/plain": [
       "<Figure size 1500x800 with 2 Axes>"
      ]
     },
     "metadata": {},
     "output_type": "display_data"
    }
   ],
   "source": [
    "plt.figure(figsize = (15, 8))\n",
    "\n",
    "sns.heatmap(df_model[high_corr].corr(), annot = True)\n",
    "plt.show()"
   ]
  },
  {
   "cell_type": "code",
   "execution_count": 184,
   "id": "7fa2cbcf",
   "metadata": {},
   "outputs": [],
   "source": [
    "df_model.drop(columns=['consumption_city_l_100km', 'consumption_highway_l_100km'], inplace=True)"
   ]
  },
  {
   "cell_type": "markdown",
   "id": "afa5152b",
   "metadata": {},
   "source": [
    "Let's save this df so we can use it in the final stage before modelling."
   ]
  },
  {
   "cell_type": "code",
   "execution_count": 185,
   "id": "dfec47d2",
   "metadata": {},
   "outputs": [],
   "source": [
    "df_model.to_csv('../data/data_encoded.csv', index=False)"
   ]
  },
  {
   "cell_type": "code",
   "execution_count": null,
   "id": "839ecb49",
   "metadata": {},
   "outputs": [],
   "source": []
  }
 ],
 "metadata": {
  "kernelspec": {
   "display_name": ".venv",
   "language": "python",
   "name": "python3"
  },
  "language_info": {
   "codemirror_mode": {
    "name": "ipython",
    "version": 3
   },
   "file_extension": ".py",
   "mimetype": "text/x-python",
   "name": "python",
   "nbconvert_exporter": "python",
   "pygments_lexer": "ipython3",
   "version": "3.11.9"
  }
 },
 "nbformat": 4,
 "nbformat_minor": 5
}
