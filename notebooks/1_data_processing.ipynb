{
 "cells": [
  {
   "cell_type": "markdown",
   "id": "ee4c1abc",
   "metadata": {},
   "source": [
    "# 1. Data Processing, Formatting and Cleaning\n",
    "The first task will be to transform the raw data we have. Those were extracted from the website autocasion.com and stored in a csv file. Then, translated into English in the notebook 0_translation.ipynb. \n",
    "\n",
    "The goal is to get a clean dataset ready to be analyzed for EDA by: \n",
    "- dealing with NaN's\n",
    "- removing duplicates\n",
    "- converting data to the proper data types"
   ]
  },
  {
   "cell_type": "code",
   "execution_count": 2,
   "id": "8eeca8ee",
   "metadata": {},
   "outputs": [],
   "source": [
    "import numpy as np\n",
    "import pandas as pd\n",
    "import matplotlib.pyplot as plt\n",
    "import seaborn as sns"
   ]
  },
  {
   "cell_type": "code",
   "execution_count": 3,
   "id": "7667db19",
   "metadata": {},
   "outputs": [],
   "source": [
    "# there are mixed types, it is recommended to use low_memory=False to avoid errors when pandas is reading\n",
    "# this way, pandas reads all the file before deciding which data type should assign to each column, instead of reading it in chunks\n",
    "df = pd.read_csv('../data/data_raw_en.csv', low_memory=False)  "
   ]
  },
  {
   "cell_type": "markdown",
   "id": "7c2345b6",
   "metadata": {},
   "source": [
    "___________________________________________\n",
    "## Data frame basic info"
   ]
  },
  {
   "cell_type": "code",
   "execution_count": 4,
   "id": "5c1e237a",
   "metadata": {},
   "outputs": [
    {
     "data": {
      "text/plain": [
       "(106431, 29)"
      ]
     },
     "execution_count": 4,
     "metadata": {},
     "output_type": "execute_result"
    }
   ],
   "source": [
    "df.shape"
   ]
  },
  {
   "cell_type": "code",
   "execution_count": 5,
   "id": "b53917ea",
   "metadata": {},
   "outputs": [
    {
     "data": {
      "text/html": [
       "<div>\n",
       "<style scoped>\n",
       "    .dataframe tbody tr th:only-of-type {\n",
       "        vertical-align: middle;\n",
       "    }\n",
       "\n",
       "    .dataframe tbody tr th {\n",
       "        vertical-align: top;\n",
       "    }\n",
       "\n",
       "    .dataframe thead th {\n",
       "        text-align: right;\n",
       "    }\n",
       "</style>\n",
       "<table border=\"1\" class=\"dataframe\">\n",
       "  <thead>\n",
       "    <tr style=\"text-align: right;\">\n",
       "      <th></th>\n",
       "      <th>registration_date</th>\n",
       "      <th>fuel_type_1</th>\n",
       "      <th>mileage_km</th>\n",
       "      <th>body_type_1</th>\n",
       "      <th>transmission</th>\n",
       "      <th>power_hp</th>\n",
       "      <th>warranty_months</th>\n",
       "      <th>color</th>\n",
       "      <th>emissions_label</th>\n",
       "      <th>price</th>\n",
       "      <th>...</th>\n",
       "      <th>seats</th>\n",
       "      <th>fuel_type_2</th>\n",
       "      <th>engine_displacement_cm3</th>\n",
       "      <th>cylinders</th>\n",
       "      <th>turbo</th>\n",
       "      <th>consumption_city_l_100km</th>\n",
       "      <th>consumption_highway_l_100km</th>\n",
       "      <th>consumption_mixed_l_100km</th>\n",
       "      <th>co2_g_km</th>\n",
       "      <th>tank_capacity_l</th>\n",
       "    </tr>\n",
       "  </thead>\n",
       "  <tbody>\n",
       "    <tr>\n",
       "      <th>0</th>\n",
       "      <td>02/2023</td>\n",
       "      <td>Petrol</td>\n",
       "      <td>3.900 km</td>\n",
       "      <td>Sedan</td>\n",
       "      <td>Manual</td>\n",
       "      <td>179</td>\n",
       "      <td>12 months</td>\n",
       "      <td>Negro</td>\n",
       "      <td>C</td>\n",
       "      <td>29.000 €</td>\n",
       "      <td>...</td>\n",
       "      <td>NaN</td>\n",
       "      <td>NaN</td>\n",
       "      <td>NaN</td>\n",
       "      <td>NaN</td>\n",
       "      <td>NaN</td>\n",
       "      <td>NaN</td>\n",
       "      <td>NaN</td>\n",
       "      <td>NaN</td>\n",
       "      <td>NaN</td>\n",
       "      <td>NaN</td>\n",
       "    </tr>\n",
       "    <tr>\n",
       "      <th>1</th>\n",
       "      <td>06/2023</td>\n",
       "      <td>Petrol</td>\n",
       "      <td>4.000 km</td>\n",
       "      <td>Sedan</td>\n",
       "      <td>Manual</td>\n",
       "      <td>180</td>\n",
       "      <td>24 months</td>\n",
       "      <td>Gris</td>\n",
       "      <td>C</td>\n",
       "      <td>30.500 €</td>\n",
       "      <td>...</td>\n",
       "      <td>NaN</td>\n",
       "      <td>NaN</td>\n",
       "      <td>NaN</td>\n",
       "      <td>NaN</td>\n",
       "      <td>NaN</td>\n",
       "      <td>NaN</td>\n",
       "      <td>NaN</td>\n",
       "      <td>NaN</td>\n",
       "      <td>NaN</td>\n",
       "      <td>NaN</td>\n",
       "    </tr>\n",
       "    <tr>\n",
       "      <th>2</th>\n",
       "      <td>09/2023</td>\n",
       "      <td>Electric</td>\n",
       "      <td>1 km</td>\n",
       "      <td>Sedan</td>\n",
       "      <td>Automatic</td>\n",
       "      <td>154</td>\n",
       "      <td>36 months</td>\n",
       "      <td>Azul Poisson (metalizado)\\n                   ...</td>\n",
       "      <td>0 EMISSIONS</td>\n",
       "      <td>43.800 €</td>\n",
       "      <td>...</td>\n",
       "      <td>4.0</td>\n",
       "      <td>Electric</td>\n",
       "      <td>0.0</td>\n",
       "      <td>NaN</td>\n",
       "      <td>Turbo</td>\n",
       "      <td>0,00</td>\n",
       "      <td>0,00</td>\n",
       "      <td>0,00</td>\n",
       "      <td>-</td>\n",
       "      <td>0,00</td>\n",
       "    </tr>\n",
       "    <tr>\n",
       "      <th>3</th>\n",
       "      <td>10/2023</td>\n",
       "      <td>Electric</td>\n",
       "      <td>7 km</td>\n",
       "      <td>Sedan</td>\n",
       "      <td>Automatic</td>\n",
       "      <td>154</td>\n",
       "      <td>36 months</td>\n",
       "      <td>PUNKN METALLIC</td>\n",
       "      <td>0 EMISSIONS</td>\n",
       "      <td>38.990 €</td>\n",
       "      <td>...</td>\n",
       "      <td>4.0</td>\n",
       "      <td>Electric</td>\n",
       "      <td>0.0</td>\n",
       "      <td>NaN</td>\n",
       "      <td>Turbo</td>\n",
       "      <td>0,00</td>\n",
       "      <td>0,00</td>\n",
       "      <td>0,00</td>\n",
       "      <td>-</td>\n",
       "      <td>0,00</td>\n",
       "    </tr>\n",
       "    <tr>\n",
       "      <th>4</th>\n",
       "      <td>08/2023</td>\n",
       "      <td>Electric</td>\n",
       "      <td>10 km</td>\n",
       "      <td>Sedan</td>\n",
       "      <td>Automatic</td>\n",
       "      <td>154</td>\n",
       "      <td>36 months</td>\n",
       "      <td>Verde</td>\n",
       "      <td>0 EMISSIONS</td>\n",
       "      <td>35.990 €</td>\n",
       "      <td>...</td>\n",
       "      <td>4.0</td>\n",
       "      <td>Electric</td>\n",
       "      <td>0.0</td>\n",
       "      <td>NaN</td>\n",
       "      <td>Turbo</td>\n",
       "      <td>0,00</td>\n",
       "      <td>0,00</td>\n",
       "      <td>0,00</td>\n",
       "      <td>-</td>\n",
       "      <td>0,00</td>\n",
       "    </tr>\n",
       "  </tbody>\n",
       "</table>\n",
       "<p>5 rows × 29 columns</p>\n",
       "</div>"
      ],
      "text/plain": [
       "  registration_date fuel_type_1 mileage_km body_type_1 transmission power_hp  \\\n",
       "0           02/2023      Petrol   3.900 km       Sedan       Manual      179   \n",
       "1           06/2023      Petrol   4.000 km       Sedan       Manual      180   \n",
       "2           09/2023    Electric       1 km       Sedan    Automatic      154   \n",
       "3           10/2023    Electric       7 km       Sedan    Automatic      154   \n",
       "4           08/2023    Electric      10 km       Sedan    Automatic      154   \n",
       "\n",
       "  warranty_months                                              color  \\\n",
       "0       12 months                                              Negro   \n",
       "1       24 months                                               Gris   \n",
       "2       36 months  Azul Poisson (metalizado)\\n                   ...   \n",
       "3       36 months                                     PUNKN METALLIC   \n",
       "4       36 months                                              Verde   \n",
       "\n",
       "  emissions_label     price  ... seats fuel_type_2 engine_displacement_cm3  \\\n",
       "0               C  29.000 €  ...   NaN         NaN                     NaN   \n",
       "1               C  30.500 €  ...   NaN         NaN                     NaN   \n",
       "2     0 EMISSIONS  43.800 €  ...   4.0    Electric                     0.0   \n",
       "3     0 EMISSIONS  38.990 €  ...   4.0    Electric                     0.0   \n",
       "4     0 EMISSIONS  35.990 €  ...   4.0    Electric                     0.0   \n",
       "\n",
       "  cylinders  turbo consumption_city_l_100km  consumption_highway_l_100km  \\\n",
       "0       NaN    NaN                      NaN                          NaN   \n",
       "1       NaN    NaN                      NaN                          NaN   \n",
       "2       NaN  Turbo                     0,00                         0,00   \n",
       "3       NaN  Turbo                     0,00                         0,00   \n",
       "4       NaN  Turbo                     0,00                         0,00   \n",
       "\n",
       "  consumption_mixed_l_100km co2_g_km  tank_capacity_l  \n",
       "0                       NaN      NaN              NaN  \n",
       "1                       NaN      NaN              NaN  \n",
       "2                      0,00        -             0,00  \n",
       "3                      0,00        -             0,00  \n",
       "4                      0,00        -             0,00  \n",
       "\n",
       "[5 rows x 29 columns]"
      ]
     },
     "execution_count": 5,
     "metadata": {},
     "output_type": "execute_result"
    }
   ],
   "source": [
    "df.head()\n"
   ]
  },
  {
   "cell_type": "code",
   "execution_count": 6,
   "id": "1db9a4d8",
   "metadata": {},
   "outputs": [
    {
     "data": {
      "text/plain": [
       "20    35,00\n",
       "21    35,00\n",
       "22    35,00\n",
       "23     0,00\n",
       "24      NaN\n",
       "25      NaN\n",
       "26      NaN\n",
       "27      NaN\n",
       "28     0,00\n",
       "29      NaN\n",
       "30      NaN\n",
       "31      NaN\n",
       "32      NaN\n",
       "33      NaN\n",
       "34      NaN\n",
       "35    58,00\n",
       "36      NaN\n",
       "37    58,00\n",
       "38    58,00\n",
       "39      NaN\n",
       "40    52,00\n",
       "41    52,00\n",
       "42    52,00\n",
       "43    52,00\n",
       "44    58,00\n",
       "45    58,00\n",
       "46    58,00\n",
       "47    58,00\n",
       "48    58,00\n",
       "49      NaN\n",
       "Name: tank_capacity_l, dtype: object"
      ]
     },
     "execution_count": 6,
     "metadata": {},
     "output_type": "execute_result"
    }
   ],
   "source": [
    "df['tank_capacity_l'][20:50]"
   ]
  },
  {
   "cell_type": "code",
   "execution_count": 7,
   "id": "138e82b1",
   "metadata": {},
   "outputs": [
    {
     "name": "stdout",
     "output_type": "stream",
     "text": [
      "<class 'pandas.core.frame.DataFrame'>\n",
      "RangeIndex: 106431 entries, 0 to 106430\n",
      "Data columns (total 29 columns):\n",
      " #   Column                       Non-Null Count   Dtype  \n",
      "---  ------                       --------------   -----  \n",
      " 0   registration_date            106404 non-null  object \n",
      " 1   fuel_type_1                  106366 non-null  object \n",
      " 2   mileage_km                   106404 non-null  object \n",
      " 3   body_type_1                  106260 non-null  object \n",
      " 4   transmission                 106364 non-null  object \n",
      " 5   power_hp                     106404 non-null  object \n",
      " 6   warranty_months              100572 non-null  object \n",
      " 7   color                        106404 non-null  object \n",
      " 8   emissions_label              98035 non-null   object \n",
      " 9   price                        106371 non-null  object \n",
      " 10  url                          106431 non-null  object \n",
      " 11  length_mm                    78550 non-null   object \n",
      " 12  width_mm                     78550 non-null   object \n",
      " 13  height_mm                    78550 non-null   object \n",
      " 14  wheelbase_mm                 78550 non-null   float64\n",
      " 15  trunk_volume_l               78550 non-null   object \n",
      " 16  weight_kg                    78550 non-null   float64\n",
      " 17  body_type_2                  78550 non-null   object \n",
      " 18  doors                        78550 non-null   object \n",
      " 19  seats                        78550 non-null   float64\n",
      " 20  fuel_type_2                  78550 non-null   object \n",
      " 21  engine_displacement_cm3      78550 non-null   float64\n",
      " 22  cylinders                    76121 non-null   float64\n",
      " 23  turbo                        78550 non-null   object \n",
      " 24  consumption_city_l_100km     78550 non-null   object \n",
      " 25  consumption_highway_l_100km  78550 non-null   object \n",
      " 26  consumption_mixed_l_100km    78550 non-null   object \n",
      " 27  co2_g_km                     78550 non-null   object \n",
      " 28  tank_capacity_l              78550 non-null   object \n",
      "dtypes: float64(5), object(24)\n",
      "memory usage: 23.5+ MB\n"
     ]
    }
   ],
   "source": [
    "df.info()"
   ]
  },
  {
   "cell_type": "code",
   "execution_count": 8,
   "id": "29c4a821",
   "metadata": {},
   "outputs": [
    {
     "data": {
      "text/plain": [
       "Index(['registration_date', 'fuel_type_1', 'mileage_km', 'body_type_1',\n",
       "       'transmission', 'power_hp', 'warranty_months', 'color',\n",
       "       'emissions_label', 'price', 'url', 'length_mm', 'width_mm', 'height_mm',\n",
       "       'wheelbase_mm', 'trunk_volume_l', 'weight_kg', 'body_type_2', 'doors',\n",
       "       'seats', 'fuel_type_2', 'engine_displacement_cm3', 'cylinders', 'turbo',\n",
       "       'consumption_city_l_100km', 'consumption_highway_l_100km',\n",
       "       'consumption_mixed_l_100km', 'co2_g_km', 'tank_capacity_l'],\n",
       "      dtype='object')"
      ]
     },
     "execution_count": 8,
     "metadata": {},
     "output_type": "execute_result"
    }
   ],
   "source": [
    "df.columns"
   ]
  },
  {
   "cell_type": "markdown",
   "id": "6efbc47b",
   "metadata": {},
   "source": [
    "_________________________________________________\n",
    "## Compute the NaN's ratio for each variable \n",
    "We should know the ratio of missing values before jumping into any conclusion about what to do with them. But first, we need to do a bit of formatting with the 'price' column, as it contains NaN's and the string 'N/A' where there is no data. So,  we convert everything to a numeric type and input np.nan where needed."
   ]
  },
  {
   "cell_type": "code",
   "execution_count": 9,
   "id": "53452857",
   "metadata": {},
   "outputs": [],
   "source": [
    "df['price'] = df['price'].replace([np.nan, 'N/A'], 'nan')\n",
    "df['price'] = df['price'].astype(str).apply(lambda x:x.replace('.', '').replace(' €', '') if x != 'nan' else np.nan).astype(float)"
   ]
  },
  {
   "cell_type": "markdown",
   "id": "db6d167b",
   "metadata": {},
   "source": [
    "Now, we can create a df to store the NaN's % for each variable and plot it."
   ]
  },
  {
   "cell_type": "code",
   "execution_count": 11,
   "id": "b2b9a3bb",
   "metadata": {},
   "outputs": [
    {
     "data": {
      "text/html": [
       "<div>\n",
       "<style scoped>\n",
       "    .dataframe tbody tr th:only-of-type {\n",
       "        vertical-align: middle;\n",
       "    }\n",
       "\n",
       "    .dataframe tbody tr th {\n",
       "        vertical-align: top;\n",
       "    }\n",
       "\n",
       "    .dataframe thead th {\n",
       "        text-align: right;\n",
       "    }\n",
       "</style>\n",
       "<table border=\"1\" class=\"dataframe\">\n",
       "  <thead>\n",
       "    <tr style=\"text-align: right;\">\n",
       "      <th></th>\n",
       "      <th>parameter</th>\n",
       "      <th>NaNs %</th>\n",
       "    </tr>\n",
       "  </thead>\n",
       "  <tbody>\n",
       "    <tr>\n",
       "      <th>0</th>\n",
       "      <td>cylinders</td>\n",
       "      <td>28.479</td>\n",
       "    </tr>\n",
       "    <tr>\n",
       "      <th>1</th>\n",
       "      <td>width_mm</td>\n",
       "      <td>26.196</td>\n",
       "    </tr>\n",
       "    <tr>\n",
       "      <th>2</th>\n",
       "      <td>turbo</td>\n",
       "      <td>26.196</td>\n",
       "    </tr>\n",
       "    <tr>\n",
       "      <th>3</th>\n",
       "      <td>engine_displacement_cm3</td>\n",
       "      <td>26.196</td>\n",
       "    </tr>\n",
       "    <tr>\n",
       "      <th>4</th>\n",
       "      <td>length_mm</td>\n",
       "      <td>26.196</td>\n",
       "    </tr>\n",
       "  </tbody>\n",
       "</table>\n",
       "</div>"
      ],
      "text/plain": [
       "                 parameter  NaNs %\n",
       "0                cylinders  28.479\n",
       "1                 width_mm  26.196\n",
       "2                    turbo  26.196\n",
       "3  engine_displacement_cm3  26.196\n",
       "4                length_mm  26.196"
      ]
     },
     "execution_count": 11,
     "metadata": {},
     "output_type": "execute_result"
    }
   ],
   "source": [
    "nan_per.head()"
   ]
  },
  {
   "cell_type": "code",
   "execution_count": 12,
   "id": "a391d59f",
   "metadata": {},
   "outputs": [
    {
     "data": {
      "text/html": [
       "<div>\n",
       "<style scoped>\n",
       "    .dataframe tbody tr th:only-of-type {\n",
       "        vertical-align: middle;\n",
       "    }\n",
       "\n",
       "    .dataframe tbody tr th {\n",
       "        vertical-align: top;\n",
       "    }\n",
       "\n",
       "    .dataframe thead th {\n",
       "        text-align: right;\n",
       "    }\n",
       "</style>\n",
       "<table border=\"1\" class=\"dataframe\">\n",
       "  <thead>\n",
       "    <tr style=\"text-align: right;\">\n",
       "      <th></th>\n",
       "      <th>parameter</th>\n",
       "      <th>NaNs %</th>\n",
       "    </tr>\n",
       "  </thead>\n",
       "  <tbody>\n",
       "    <tr>\n",
       "      <th>24</th>\n",
       "      <td>registration_date</td>\n",
       "      <td>0.025</td>\n",
       "    </tr>\n",
       "    <tr>\n",
       "      <th>25</th>\n",
       "      <td>power_hp</td>\n",
       "      <td>0.025</td>\n",
       "    </tr>\n",
       "    <tr>\n",
       "      <th>26</th>\n",
       "      <td>color</td>\n",
       "      <td>0.025</td>\n",
       "    </tr>\n",
       "    <tr>\n",
       "      <th>27</th>\n",
       "      <td>mileage_km</td>\n",
       "      <td>0.025</td>\n",
       "    </tr>\n",
       "    <tr>\n",
       "      <th>28</th>\n",
       "      <td>url</td>\n",
       "      <td>0.000</td>\n",
       "    </tr>\n",
       "  </tbody>\n",
       "</table>\n",
       "</div>"
      ],
      "text/plain": [
       "            parameter  NaNs %\n",
       "24  registration_date   0.025\n",
       "25           power_hp   0.025\n",
       "26              color   0.025\n",
       "27         mileage_km   0.025\n",
       "28                url   0.000"
      ]
     },
     "execution_count": 12,
     "metadata": {},
     "output_type": "execute_result"
    }
   ],
   "source": [
    "nan_per.tail()"
   ]
  },
  {
   "cell_type": "code",
   "execution_count": 13,
   "id": "477da2b0",
   "metadata": {},
   "outputs": [
    {
     "data": {
      "text/plain": [
       "<function matplotlib.pyplot.show(close=None, block=None)>"
      ]
     },
     "execution_count": 13,
     "metadata": {},
     "output_type": "execute_result"
    },
    {
     "data": {
      "image/png": "[encoded data removed]",
      "text/plain": [
       "<Figure size 1000x600 with 1 Axes>"
      ]
     },
     "metadata": {},
     "output_type": "display_data"
    }
   ],
   "source": [
    "sns.set_style('darkgrid')\n",
    "plt.figure(figsize=(10, 6))\n",
    "\n",
    "sns.barplot(data=nan_per, x='NaNs %', y='parameter', color='#77DD77')\n",
    "\n",
    "for container in plt.gca().containers:\n",
    "    plt.gca().bar_label(container, fmt='%.1f%%', padding=3)\n",
    "\n",
    "plt.title(\"% of NaN's per parameter\")\n",
    "plt.xticks(rotation=45, ha='right')\n",
    "plt.tight_layout()\n",
    "\n",
    "plt.show"
   ]
  },
  {
   "cell_type": "code",
   "execution_count": null,
   "id": "333641fb",
   "metadata": {},
   "outputs": [],
   "source": []
  },
  {
   "cell_type": "markdown",
   "id": "e524b4da",
   "metadata": {},
   "source": [
    "As we can see here, there several parameters with a remarkable amount of NaN's (between 25 and 30%). Luckily, the target column has a very low amount."
   ]
  },
  {
   "cell_type": "markdown",
   "id": "e3b39cea",
   "metadata": {},
   "source": [
    "_________________________\n",
    "## Data Processing \n",
    "In this stage, we're going to give some format to the data to produce a clean dataframe, not ready for Machine Learning yet, but at least prepared to perform a proper EDA.\n",
    "\n",
    "We can start dropping unnecessary data like duplicates or rows with minimum percentage of NaN's.\n",
    "\n",
    "Thanks to df.info() we could see that there are a lot of object type columns, even those that should be numeric. So, let's start converting those to numeric type columns. We have to be carefull, as there re mixed data types in some of them. This can cause errors while processing."
   ]
  },
  {
   "cell_type": "markdown",
   "id": "83c7b802",
   "metadata": {},
   "source": [
    "#### Drop unnecessary data\n",
    "One thing we can already do now is to get rid of the rows where there is a NaN in a variable with less than 1% of NaN's in the whole dataset. This won't impact remarkably in the algorithms performance, while keeping the vast majority of data. In this case, those are:"
   ]
  },
  {
   "cell_type": "code",
   "execution_count": 14,
   "id": "fca3901e",
   "metadata": {},
   "outputs": [],
   "source": [
    "df.dropna(subset=['body_type_1', 'transmission', 'fuel_type_1', 'power_hp', 'price', 'mileage_km'], axis=0, inplace=True)"
   ]
  },
  {
   "cell_type": "markdown",
   "id": "9ad5d47b",
   "metadata": {},
   "source": [
    "We have also detected that there are 2 duplicated columns: body_type and fuel_type (1 and 2). The ones with the index 1 have far less NaN's than the others, so we're going to drop fuel_type_2 and body_type_2 as well."
   ]
  },
  {
   "cell_type": "code",
   "execution_count": 15,
   "id": "d721258f",
   "metadata": {},
   "outputs": [],
   "source": [
    "df.drop(columns=['body_type_2', 'fuel_type_2'], inplace=True)"
   ]
  },
  {
   "cell_type": "markdown",
   "id": "719186fc",
   "metadata": {},
   "source": [
    "Next, we're going to drop the columns 'Color' and 'url', as they won't be useful for the prediction models"
   ]
  },
  {
   "cell_type": "code",
   "execution_count": 16,
   "id": "81fba02d",
   "metadata": {},
   "outputs": [],
   "source": [
    "df.drop(columns=['color', 'url'], inplace=True)"
   ]
  },
  {
   "cell_type": "markdown",
   "id": "6444a619",
   "metadata": {},
   "source": [
    "#### Extra useful columns\n",
    "We also have the registration_date in the format MM/YYYY. It could be handy to have 2 different columns, one with the month and another with the year. \n",
    "\n",
    "We can do the same with thetrunk_capacity column. Divide it into 2 columns with one dimension in each one.\n",
    "\n",
    "Let's do that and drop the originals, leaving the proper data type to the new columns already."
   ]
  },
  {
   "cell_type": "code",
   "execution_count": 17,
   "id": "c5039322",
   "metadata": {},
   "outputs": [],
   "source": [
    "df['registration_month'] = df['registration_date'].apply(lambda x:x[0:2]).astype(int)\n",
    "df['registration_year'] = df['registration_date'].apply(lambda x:x[-4:]).astype(int)"
   ]
  },
  {
   "cell_type": "markdown",
   "id": "0186ecc1",
   "metadata": {},
   "source": [
    "With the trunk_volume column, we have to trick Python, converting np.nan into strings with the same format than the rest, and then everything into floats."
   ]
  },
  {
   "cell_type": "code",
   "execution_count": 18,
   "id": "610db01f",
   "metadata": {},
   "outputs": [],
   "source": [
    "df['trunk_dim_1'] = df['trunk_volume_l'].replace(np.nan, '-1/-1').apply(lambda x: x.split('/')[0]).replace('-1', np.nan).astype(float)\n",
    "df['trunk_dim_2'] = df['trunk_volume_l'].replace(np.nan, '-1/-1').apply(lambda x: x.split('/')[1]).replace('-1', np.nan).astype(float)"
   ]
  },
  {
   "cell_type": "code",
   "execution_count": 19,
   "id": "f53470ab",
   "metadata": {},
   "outputs": [],
   "source": [
    "df.drop(columns=['registration_date', 'trunk_volume_l'], inplace=True)"
   ]
  },
  {
   "cell_type": "markdown",
   "id": "2136440f",
   "metadata": {},
   "source": [
    "#### Deep data cleaning and formatting\n",
    "Now, we have to work on the rest of the columns. Some of them require the same changes between them, others have to be dealt with individually. In the end, the following cells execute the data claening and formatting needed, leaving the appropriate data type in each one"
   ]
  },
  {
   "cell_type": "markdown",
   "id": "29b1a50e",
   "metadata": {},
   "source": [
    "For example, in the columns with the cars dimensions, there are several formats to indicate there is no data: np.nan, 'N/A' and '-'. So, we can map those to the string 'nan' and then convert it into an np.nan. The whole column can be converted into float type then."
   ]
  },
  {
   "cell_type": "code",
   "execution_count": 20,
   "id": "af2b5d09",
   "metadata": {},
   "outputs": [],
   "source": [
    "columns_to_float = ['length_mm','width_mm','height_mm']\n",
    "\n",
    "for col in columns_to_float:\n",
    "    df[col] = df[col].replace([np.nan, 'N/A'], 'nan')\n",
    "    df[col] = df[col].apply(lambda x: x.replace('-','nan').split(' ')[0])\n",
    "    df[col] = df[col].replace('nan', np.nan).astype(float)"
   ]
  },
  {
   "cell_type": "markdown",
   "id": "18815db9",
   "metadata": {},
   "source": [
    "We can do the same trick to the following columns, just with a small change in format:"
   ]
  },
  {
   "cell_type": "code",
   "execution_count": 21,
   "id": "fddf83d6",
   "metadata": {},
   "outputs": [],
   "source": [
    "columns_to_float_2 = ['tank_capacity_l', 'consumption_city_l_100km', 'consumption_highway_l_100km', 'consumption_mixed_l_100km']\n",
    "\n",
    "for col in columns_to_float_2:\n",
    "    df[col] = df[col].replace(np.nan, '-1')\n",
    "    df[col] = df[col].apply(lambda x: x.replace(',','.'))\n",
    "    df[col] = df[col].replace('-1', np.nan).astype(float)"
   ]
  },
  {
   "cell_type": "code",
   "execution_count": 22,
   "id": "fe65c440",
   "metadata": {},
   "outputs": [
    {
     "data": {
      "text/plain": [
       "Index(['fuel_type_1', 'mileage_km', 'body_type_1', 'transmission', 'power_hp',\n",
       "       'warranty_months', 'emissions_label', 'price', 'length_mm', 'width_mm',\n",
       "       'height_mm', 'wheelbase_mm', 'weight_kg', 'doors', 'seats',\n",
       "       'engine_displacement_cm3', 'cylinders', 'turbo',\n",
       "       'consumption_city_l_100km', 'consumption_highway_l_100km',\n",
       "       'consumption_mixed_l_100km', 'co2_g_km', 'tank_capacity_l',\n",
       "       'registration_month', 'registration_year', 'trunk_dim_1',\n",
       "       'trunk_dim_2'],\n",
       "      dtype='object')"
      ]
     },
     "execution_count": 22,
     "metadata": {},
     "output_type": "execute_result"
    }
   ],
   "source": [
    "df.columns"
   ]
  },
  {
   "cell_type": "markdown",
   "id": "652e82c1",
   "metadata": {},
   "source": [
    "With 'warranty_months', let's remove the word months, apply np.nan where we don't have data and 0 where there's no warranty."
   ]
  },
  {
   "cell_type": "code",
   "execution_count": 23,
   "id": "08c28dfe",
   "metadata": {},
   "outputs": [],
   "source": [
    "df['warranty_months'] = df['warranty_months'].replace(np.nan, '-1').apply(lambda x: x.split(' ')[0])\n",
    "df['warranty_months'] = df['warranty_months'].apply(lambda x: x.replace('No', '0').replace('Sí', '-1'))\n",
    "df['warranty_months'] = df['warranty_months'].apply(lambda x:x.replace(' months', ''))\n",
    "df['warranty_months'] = df['warranty_months'].replace('-1', np.nan).astype(float)"
   ]
  },
  {
   "cell_type": "markdown",
   "id": "d64555da",
   "metadata": {},
   "source": [
    "Now, let's format kilometers and power. We can directly drop the nan's in kilometers, since the ratio is very low, so it won't impact remarkably on the algorithms performances."
   ]
  },
  {
   "cell_type": "code",
   "execution_count": 24,
   "id": "548eb0ac",
   "metadata": {},
   "outputs": [],
   "source": [
    "df[\"mileage_km\"] = df[\"mileage_km\"].apply(lambda x : float(x.split()[0].replace(\".\", \"\")))"
   ]
  },
  {
   "cell_type": "code",
   "execution_count": 25,
   "id": "517cb3ca",
   "metadata": {},
   "outputs": [],
   "source": [
    "df[\"power_hp\"] = df[\"power_hp\"].replace('-',np.nan).astype(float)"
   ]
  },
  {
   "cell_type": "markdown",
   "id": "2be5a523",
   "metadata": {},
   "source": [
    "Finally, we add some np,nan in these columns:"
   ]
  },
  {
   "cell_type": "code",
   "execution_count": 26,
   "id": "2825beec",
   "metadata": {},
   "outputs": [],
   "source": [
    "df['co2_g_km'] = df['co2_g_km'].replace('-', np.nan).astype(float)\n",
    "df['doors'] = df['doors'].replace('-', np.nan).astype(float)"
   ]
  },
  {
   "cell_type": "markdown",
   "id": "4f62fee1",
   "metadata": {},
   "source": [
    "Let's check again the data types: df.info()"
   ]
  },
  {
   "cell_type": "code",
   "execution_count": 27,
   "id": "87c2ffaa",
   "metadata": {},
   "outputs": [
    {
     "name": "stdout",
     "output_type": "stream",
     "text": [
      "<class 'pandas.core.frame.DataFrame'>\n",
      "Index: 106149 entries, 0 to 106430\n",
      "Data columns (total 27 columns):\n",
      " #   Column                       Non-Null Count   Dtype  \n",
      "---  ------                       --------------   -----  \n",
      " 0   fuel_type_1                  106149 non-null  object \n",
      " 1   mileage_km                   106149 non-null  float64\n",
      " 2   body_type_1                  106149 non-null  object \n",
      " 3   transmission                 106149 non-null  object \n",
      " 4   power_hp                     104039 non-null  float64\n",
      " 5   warranty_months              95528 non-null   float64\n",
      " 6   emissions_label              97841 non-null   object \n",
      " 7   price                        106149 non-null  float64\n",
      " 8   length_mm                    78242 non-null   float64\n",
      " 9   width_mm                     78487 non-null   float64\n",
      " 10  height_mm                    78234 non-null   float64\n",
      " 11  wheelbase_mm                 78534 non-null   float64\n",
      " 12  weight_kg                    78534 non-null   float64\n",
      " 13  doors                        78533 non-null   float64\n",
      " 14  seats                        78534 non-null   float64\n",
      " 15  engine_displacement_cm3      78534 non-null   float64\n",
      " 16  cylinders                    76105 non-null   float64\n",
      " 17  turbo                        78534 non-null   object \n",
      " 18  consumption_city_l_100km     78534 non-null   float64\n",
      " 19  consumption_highway_l_100km  78534 non-null   float64\n",
      " 20  consumption_mixed_l_100km    78534 non-null   float64\n",
      " 21  co2_g_km                     59300 non-null   float64\n",
      " 22  tank_capacity_l              78534 non-null   float64\n",
      " 23  registration_month           106149 non-null  int64  \n",
      " 24  registration_year            106149 non-null  int64  \n",
      " 25  trunk_dim_1                  78534 non-null   float64\n",
      " 26  trunk_dim_2                  78534 non-null   float64\n",
      "dtypes: float64(20), int64(2), object(5)\n",
      "memory usage: 22.7+ MB\n"
     ]
    }
   ],
   "source": [
    "df.info()"
   ]
  },
  {
   "cell_type": "markdown",
   "id": "ef0ac331",
   "metadata": {},
   "source": [
    "A final detail would be to rename fuel_type_1 and body_type one dropping the index 1"
   ]
  },
  {
   "cell_type": "code",
   "execution_count": 28,
   "id": "fb67e221",
   "metadata": {},
   "outputs": [],
   "source": [
    "df.rename(columns={'fuel_type_1':'fuel_type', 'body_type_1':'body_type'}, inplace=True)"
   ]
  },
  {
   "cell_type": "markdown",
   "id": "90b39ad5",
   "metadata": {},
   "source": [
    "We now have the df cleaned and prepared for EDA, so we can store it and use it."
   ]
  },
  {
   "cell_type": "code",
   "execution_count": 32,
   "id": "e523bf51",
   "metadata": {},
   "outputs": [],
   "source": [
    "df.to_csv('../data/data_formatted.csv', index=False)"
   ]
  }
 ],
 "metadata": {
  "kernelspec": {
   "display_name": ".venv",
   "language": "python",
   "name": "python3"
  },
  "language_info": {
   "codemirror_mode": {
    "name": "ipython",
    "version": 3
   },
   "file_extension": ".py",
   "mimetype": "text/x-python",
   "name": "python",
   "nbconvert_exporter": "python",
   "pygments_lexer": "ipython3",
   "version": "3.11.9"
  }
 },
 "nbformat": 4,
 "nbformat_minor": 5
}
