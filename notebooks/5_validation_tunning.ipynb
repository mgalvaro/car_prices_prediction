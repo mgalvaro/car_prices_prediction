{
 "cells": [
  {
   "cell_type": "markdown",
   "id": "d1c95640",
   "metadata": {},
   "source": [
    "# 5. Model Validation and Tuning\n",
    "Once we've got the best model, we have to validate and tune it to ensure the best performance. In this case, we're going with the GradientBoosting."
   ]
  },
  {
   "cell_type": "code",
   "execution_count": 2,
   "id": "e20fdb12",
   "metadata": {},
   "outputs": [],
   "source": [
    "import numpy as np\n",
    "import pandas as pd\n",
    "import matplotlib.pyplot as plt\n",
    "import seaborn as sns\n",
    "\n",
    "from sklearn.preprocessing import MinMaxScaler\n",
    "from sklearn.model_selection import train_test_split\n",
    "from sklearn.ensemble import RandomForestRegressor\n",
    "\n",
    "from sklearn.metrics import mean_absolute_error\n",
    "from sklearn.metrics import mean_squared_error\n",
    "from sklearn.metrics import r2_score\n",
    "\n",
    "from sklearn.model_selection import RandomizedSearchCV"
   ]
  },
  {
   "cell_type": "code",
   "execution_count": 6,
   "id": "1e24b17c",
   "metadata": {},
   "outputs": [],
   "source": [
    "df = pd.read_csv(\"../data/data_imputed.csv\")\n",
    "df_sample = df.sample(frac=0.3, random_state=42, ignore_index=True)"
   ]
  },
  {
   "cell_type": "markdown",
   "id": "d31ec97d",
   "metadata": {},
   "source": [
    "### Define train/test\n",
    "We get the columns with the most important features from feature importances."
   ]
  },
  {
   "cell_type": "code",
   "execution_count": 7,
   "id": "4ebb3ba5",
   "metadata": {},
   "outputs": [],
   "source": [
    "most_imp = ['car_age',\n",
    " 'transmission_auto',\n",
    " 'log_power_hp',\n",
    " 'log_mileage_km',\n",
    " 'weight_kg',\n",
    " 'consumption_mixed_l_100km',\n",
    " 'log_co2_g_km',\n",
    " 'height_mm',\n",
    " 'wheelbase_mm',\n",
    " 'log_engine_displacement_cm3',\n",
    " 'length_mm',\n",
    " 'width_mm',\n",
    " 'trunk_dim_1',\n",
    " 'tank_capacity_l']"
   ]
  },
  {
   "cell_type": "code",
   "execution_count": 8,
   "id": "bfb94f26",
   "metadata": {},
   "outputs": [
    {
     "data": {
      "text/plain": [
       "((28238, 14), (28238,))"
      ]
     },
     "execution_count": 8,
     "metadata": {},
     "output_type": "execute_result"
    }
   ],
   "source": [
    "X = df_sample[most_imp]\n",
    "y = df_sample['log_price']\n",
    "\n",
    "X.shape, y.shape"
   ]
  },
  {
   "cell_type": "markdown",
   "id": "a8c6c16f",
   "metadata": {},
   "source": [
    "Define train/test"
   ]
  },
  {
   "cell_type": "code",
   "execution_count": 9,
   "id": "3a7cd673",
   "metadata": {},
   "outputs": [
    {
     "name": "stdout",
     "output_type": "stream",
     "text": [
      "X_train: (22590, 14), y_train: (22590,)\n",
      "X_test: (5648, 14),  y_test: (5648,)\n"
     ]
    }
   ],
   "source": [
    "X_train, X_test, y_train, y_test = train_test_split(X, y, test_size=0.2, random_state=42)\n",
    "\n",
    "print(f\"X_train: {X_train.shape}, y_train: {y_train.shape}\")\n",
    "print(f\"X_test: {X_test.shape},  y_test: {y_test.shape}\")"
   ]
  },
  {
   "cell_type": "markdown",
   "id": "78f9f2b8",
   "metadata": {},
   "source": [
    "As we've seen in the previous notebook, for random forest is not strictly necessary to scale the dataset."
   ]
  },
  {
   "cell_type": "code",
   "execution_count": 10,
   "id": "d9c3bc4a",
   "metadata": {},
   "outputs": [],
   "source": [
    "# scaler_x = MinMaxScaler()\n",
    "# x_train_scaled = scaler_x.fit_transform(X_train)\n",
    "# x_test_scaled = scaler_x.transform(X_test)"
   ]
  },
  {
   "cell_type": "code",
   "execution_count": 11,
   "id": "e346d17a",
   "metadata": {},
   "outputs": [],
   "source": [
    "# scaler_y = MinMaxScaler()\n",
    "# y_train_scaled = scaler_y.fit_transform(y_train.values.reshape(-1, 1))\n",
    "# y_test_scaled = scaler_y.transform(y_test.values.reshape(-1, 1))"
   ]
  },
  {
   "cell_type": "markdown",
   "id": "d174674a",
   "metadata": {},
   "source": [
    "_____________________\n",
    "## GridSearch for model tuning\n",
    "Let's now tune the model using GridSearch with different hyperparameters. When it's done, this is going to return the best combination of hyperparameters, which we will validate through different metrics: MAE, RMSE and R2 Score"
   ]
  },
  {
   "cell_type": "code",
   "execution_count": 12,
   "id": "7b2e398e",
   "metadata": {},
   "outputs": [],
   "source": [
    "# Models and hyperparameters\n",
    "\n",
    "model = RandomForestRegressor()\n",
    "\n",
    "parameters = {\n",
    "          \"n_estimators\"           : [100, 200], \n",
    "          \"criterion\"              : ['absolute_error'], \n",
    "          \"max_features\"           : [\"sqrt\"],\n",
    "          \"min_samples_split\"      : [5, 10], \n",
    "          \"random_state\"           : [42],\n",
    "          \"max_depth\"              : [10, 20],\n",
    "          \"min_samples_leaf\"       : [1, 2]\n",
    "}"
   ]
  },
  {
   "cell_type": "code",
   "execution_count": 13,
   "id": "a205eeb7",
   "metadata": {},
   "outputs": [
    {
     "name": "stdout",
     "output_type": "stream",
     "text": [
      "Fitting 3 folds for each of 10 candidates, totalling 30 fits\n"
     ]
    }
   ],
   "source": [
    "rdm_search = RandomizedSearchCV(\n",
    "    model,\n",
    "    param_distributions = parameters,\n",
    "    n_iter = 10,\n",
    "    scoring = 'r2',\n",
    "    cv = 3,\n",
    "    random_state = 42,\n",
    "    n_jobs = -1,\n",
    "    verbose = 1\n",
    ")\n",
    "\n",
    "model_result = rdm_search.fit(X_train, y_train)"
   ]
  },
  {
   "cell_type": "code",
   "execution_count": 14,
   "id": "e297e040",
   "metadata": {},
   "outputs": [
    {
     "data": {
      "text/plain": [
       "{'random_state': 42,\n",
       " 'n_estimators': 200,\n",
       " 'min_samples_split': 5,\n",
       " 'min_samples_leaf': 1,\n",
       " 'max_features': 'sqrt',\n",
       " 'max_depth': 20,\n",
       " 'criterion': 'absolute_error'}"
      ]
     },
     "execution_count": 14,
     "metadata": {},
     "output_type": "execute_result"
    }
   ],
   "source": [
    "best_params = model_result.best_params_\n",
    "best_params"
   ]
  },
  {
   "cell_type": "code",
   "execution_count": 15,
   "id": "53e41020",
   "metadata": {},
   "outputs": [],
   "source": [
    "final_model = RandomForestRegressor(**best_params)"
   ]
  },
  {
   "cell_type": "code",
   "execution_count": 16,
   "id": "7605378d",
   "metadata": {},
   "outputs": [],
   "source": [
    "final_model.fit(X_train, y_train)\n",
    "y_pred_log = final_model.predict(X_test)"
   ]
  },
  {
   "cell_type": "code",
   "execution_count": 17,
   "id": "aa090d6a",
   "metadata": {},
   "outputs": [],
   "source": [
    "y_pred = np.expm1(y_pred_log)\n",
    "y_test = np.expm1(y_test)"
   ]
  },
  {
   "cell_type": "code",
   "execution_count": null,
   "id": "45fafa7f",
   "metadata": {},
   "outputs": [
    {
     "data": {
      "text/plain": [
       "{'MAE': 2272.9027706146308,\n",
       " 'RMSE': 17237099.429763347,\n",
       " 'R2': 0.8837738341530623}"
      ]
     },
     "execution_count": 18,
     "metadata": {},
     "output_type": "execute_result"
    }
   ],
   "source": [
    "mae = mean_absolute_error(y_test, y_pred)\n",
    "rmse = np.sqrt(mean_squared_error(y_test, y_pred))\n",
    "r2 = r2_score(y_test, y_pred)\n",
    "\n",
    "metrics = {\n",
    "    \"MAE\": mae,\n",
    "    \"RMSE\": rmse,\n",
    "    \"R2\": r2\n",
    "}\n",
    "\n",
    "metrics"
   ]
  },
  {
   "cell_type": "markdown",
   "id": "14715d1d",
   "metadata": {},
   "source": [
    "_____________________________\n",
    "## Final training and storage\n",
    "Although we should train the model with the whole data set, the truth is that it's taking to much time, even reducing the size of the data set to a 60% of all the data. Therefore, we're going to keep the model as it is right now, since this project focuses specially on the development and deployment preocesseof an ML model.\n",
    "\n",
    "Finally, we only have to train our final model with the whole dataset, so it an see every data we have and then, save it. Since it's too big, we're using a 60% of the data."
   ]
  },
  {
   "cell_type": "code",
   "execution_count": null,
   "id": "63fdb229",
   "metadata": {},
   "outputs": [],
   "source": [
    "df_60 = df.sample(frac=0.6, random_state=42, ignore_index=True)\n",
    "\n",
    "X_full = df_60[most_imp]\n",
    "y_full = np.log1p(df_60['log_price'])\n",
    "\n",
    "RF_model = rdm_search.best_estimator_\n",
    "RF_model.fit(X_full, y_full)"
   ]
  },
  {
   "cell_type": "code",
   "execution_count": null,
   "id": "1d415a3e",
   "metadata": {},
   "outputs": [
    {
     "data": {
      "text/plain": [
       "['../src/RandomForest_model.pkl']"
      ]
     },
     "execution_count": 30,
     "metadata": {},
     "output_type": "execute_result"
    }
   ],
   "source": [
    "import joblib\n",
    "joblib.dump(final_model, \"../outputs/RandomForest_model.pkl\", compress=5)"
   ]
  },
  {
   "cell_type": "code",
   "execution_count": 1,
   "id": "c1335010",
   "metadata": {},
   "outputs": [
    {
     "name": "stdout",
     "output_type": "stream",
     "text": [
      "Actual file size on disk: 34.55 MB\n"
     ]
    }
   ],
   "source": [
    "import os\n",
    "\n",
    "file_size_mb = os.path.getsize(\"../src/RandomForest_model.pkl\") / 1024**2\n",
    "print(f\"Actual file size on disk: {file_size_mb:.2f} MB\")"
   ]
  },
  {
   "cell_type": "markdown",
   "id": "2aeb6aad",
   "metadata": {},
   "source": [
    "__________________\n",
    "# Getting a reduced model\n",
    "Given that this model is trained using many variables, this can be inconveninent when usign the API to get a response from the model. Right now, we have 14 variables, most of them slightly contribute to the predictions. This would make the user to introduce many variables, some of them like the trunk dimension or the tank capacity are not that obvious.\n",
    "\n",
    "So, to keep things simpler, we're going to use the top variables over the threshold of 0.05 in feature importances:\n",
    "- Car age\n",
    "- Transmission type\n",
    "- Power (in hp)\n",
    "- Mileage (in km)\n",
    "\n",
    "For that, there is a pipeline defined in src/ML_pipeline.py"
   ]
  },
  {
   "cell_type": "code",
   "execution_count": 1,
   "id": "8b15996f",
   "metadata": {},
   "outputs": [],
   "source": [
    "import sys\n",
    "import os\n",
    "sys.path.append(os.path.abspath('..'))\n",
    "from src.ML_pipeline import train_reduced_model"
   ]
  },
  {
   "cell_type": "code",
   "execution_count": 2,
   "id": "29371f71",
   "metadata": {},
   "outputs": [],
   "source": [
    "top_4 = ['car_age', 'transmission_auto', 'log_power_hp', 'log_mileage_km']\n",
    "\n",
    "best_parameters = {\n",
    "    'random_state': 42,\n",
    "    'n_estimators': 200,\n",
    "    'min_samples_split': 5,\n",
    "    'min_samples_leaf': 1,\n",
    "    'max_features': 'sqrt',\n",
    "    'max_depth': 20,\n",
    "    'criterion': 'absolute_error'\n",
    "}\n"
   ]
  },
  {
   "cell_type": "markdown",
   "id": "625af9c0",
   "metadata": {},
   "source": [
    "⚠️ Note: The model was trained on 50% of the dataset for development efficiency. Training on the full dataset could further improve performance but was not feasible at this stage due to computational constraints."
   ]
  },
  {
   "cell_type": "code",
   "execution_count": 3,
   "id": "911bc41f",
   "metadata": {},
   "outputs": [
    {
     "name": "stdout",
     "output_type": "stream",
     "text": [
      "Validation metrics:\n",
      "{'MAE': 3125.2862073645074, 'RMSE': np.float64(5085.460404127415), 'R2': 0.8204743605193262}\n",
      "\n",
      "✅ Model saved to: ../outputs/reduced_RF_model.pkl\n"
     ]
    }
   ],
   "source": [
    "model, metrics = train_reduced_model(\n",
    "    data_path=\"../data/data_imputed.csv\",\n",
    "    top_features=top_4,\n",
    "    model_params=best_parameters,\n",
    "    sample_frac=0.5,\n",
    "    save_path=\"../outputs/reduced_RF_model.pkl\"\n",
    ")"
   ]
  },
  {
   "cell_type": "code",
   "execution_count": 15,
   "id": "29f93ce2",
   "metadata": {},
   "outputs": [
    {
     "data": {
      "text/html": [
       "<div>\n",
       "<style scoped>\n",
       "    .dataframe tbody tr th:only-of-type {\n",
       "        vertical-align: middle;\n",
       "    }\n",
       "\n",
       "    .dataframe tbody tr th {\n",
       "        vertical-align: top;\n",
       "    }\n",
       "\n",
       "    .dataframe thead th {\n",
       "        text-align: right;\n",
       "    }\n",
       "</style>\n",
       "<table border=\"1\" class=\"dataframe\">\n",
       "  <thead>\n",
       "    <tr style=\"text-align: right;\">\n",
       "      <th></th>\n",
       "      <th>MAE</th>\n",
       "      <th>RMSE</th>\n",
       "      <th>R2</th>\n",
       "    </tr>\n",
       "  </thead>\n",
       "  <tbody>\n",
       "    <tr>\n",
       "      <th>0</th>\n",
       "      <td>3125.29</td>\n",
       "      <td>5085.46</td>\n",
       "      <td>0.82</td>\n",
       "    </tr>\n",
       "  </tbody>\n",
       "</table>\n",
       "</div>"
      ],
      "text/plain": [
       "       MAE     RMSE    R2\n",
       "0  3125.29  5085.46  0.82"
      ]
     },
     "execution_count": 15,
     "metadata": {},
     "output_type": "execute_result"
    }
   ],
   "source": [
    "import pandas as pd\n",
    "metrics_df = pd.DataFrame.from_dict([metrics])\n",
    "metrics_df = metrics_df.apply(lambda x: round(x, 2))\n",
    "metrics_df"
   ]
  },
  {
   "cell_type": "code",
   "execution_count": 16,
   "id": "59fdf667",
   "metadata": {},
   "outputs": [],
   "source": [
    "metrics_df.to_csv(\"../outputs/metrics_red_model.csv\", index=False)"
   ]
  },
  {
   "cell_type": "code",
   "execution_count": null,
   "id": "44ec826e",
   "metadata": {},
   "outputs": [],
   "source": []
  }
 ],
 "metadata": {
  "kernelspec": {
   "display_name": ".venv",
   "language": "python",
   "name": "python3"
  },
  "language_info": {
   "codemirror_mode": {
    "name": "ipython",
    "version": 3
   },
   "file_extension": ".py",
   "mimetype": "text/x-python",
   "name": "python",
   "nbconvert_exporter": "python",
   "pygments_lexer": "ipython3",
   "version": "3.11.9"
  }
 },
 "nbformat": 4,
 "nbformat_minor": 5
}
